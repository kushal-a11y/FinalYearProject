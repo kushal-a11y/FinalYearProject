{
 "cells": [
  {
   "cell_type": "code",
   "execution_count": 2,
   "id": "05684739",
   "metadata": {},
   "outputs": [],
   "source": [
    "import pandas as pd"
   ]
  },
  {
   "cell_type": "code",
   "execution_count": 4,
   "id": "10ccfa74",
   "metadata": {},
   "outputs": [
    {
     "data": {
      "text/html": [
       "<div>\n",
       "<style scoped>\n",
       "    .dataframe tbody tr th:only-of-type {\n",
       "        vertical-align: middle;\n",
       "    }\n",
       "\n",
       "    .dataframe tbody tr th {\n",
       "        vertical-align: top;\n",
       "    }\n",
       "\n",
       "    .dataframe thead th {\n",
       "        text-align: right;\n",
       "    }\n",
       "</style>\n",
       "<table border=\"1\" class=\"dataframe\">\n",
       "  <thead>\n",
       "    <tr style=\"text-align: right;\">\n",
       "      <th></th>\n",
       "      <th>Age_at_Marriage</th>\n",
       "      <th>Gender</th>\n",
       "      <th>Education_Level</th>\n",
       "      <th>Caste_Match</th>\n",
       "      <th>Religion</th>\n",
       "      <th>Urban_Rural</th>\n",
       "      <th>Income_Level</th>\n",
       "      <th>Spouse_Working</th>\n",
       "      <th>Inter-Caste</th>\n",
       "      <th>Inter-Religion</th>\n",
       "      <th>target</th>\n",
       "    </tr>\n",
       "  </thead>\n",
       "  <tbody>\n",
       "    <tr>\n",
       "      <th>0</th>\n",
       "      <td>23</td>\n",
       "      <td>Male</td>\n",
       "      <td>Graduate</td>\n",
       "      <td>Different</td>\n",
       "      <td>Hindu</td>\n",
       "      <td>Urban</td>\n",
       "      <td>Middle</td>\n",
       "      <td>No</td>\n",
       "      <td>No</td>\n",
       "      <td>No</td>\n",
       "      <td>Medium_Yes</td>\n",
       "    </tr>\n",
       "    <tr>\n",
       "      <th>1</th>\n",
       "      <td>28</td>\n",
       "      <td>Female</td>\n",
       "      <td>School</td>\n",
       "      <td>Same</td>\n",
       "      <td>Hindu</td>\n",
       "      <td>Rural</td>\n",
       "      <td>Middle</td>\n",
       "      <td>No</td>\n",
       "      <td>No</td>\n",
       "      <td>Yes</td>\n",
       "      <td>Low_No</td>\n",
       "    </tr>\n",
       "    <tr>\n",
       "      <th>2</th>\n",
       "      <td>39</td>\n",
       "      <td>Male</td>\n",
       "      <td>Postgraduate</td>\n",
       "      <td>Same</td>\n",
       "      <td>Muslim</td>\n",
       "      <td>Rural</td>\n",
       "      <td>High</td>\n",
       "      <td>No</td>\n",
       "      <td>No</td>\n",
       "      <td>No</td>\n",
       "      <td>Medium_No</td>\n",
       "    </tr>\n",
       "    <tr>\n",
       "      <th>3</th>\n",
       "      <td>26</td>\n",
       "      <td>Female</td>\n",
       "      <td>School</td>\n",
       "      <td>Different</td>\n",
       "      <td>Hindu</td>\n",
       "      <td>Urban</td>\n",
       "      <td>High</td>\n",
       "      <td>No</td>\n",
       "      <td>Yes</td>\n",
       "      <td>No</td>\n",
       "      <td>Low_No</td>\n",
       "    </tr>\n",
       "    <tr>\n",
       "      <th>4</th>\n",
       "      <td>32</td>\n",
       "      <td>Female</td>\n",
       "      <td>Graduate</td>\n",
       "      <td>Same</td>\n",
       "      <td>Hindu</td>\n",
       "      <td>Rural</td>\n",
       "      <td>Middle</td>\n",
       "      <td>No</td>\n",
       "      <td>No</td>\n",
       "      <td>Yes</td>\n",
       "      <td>Medium_No</td>\n",
       "    </tr>\n",
       "  </tbody>\n",
       "</table>\n",
       "</div>"
      ],
      "text/plain": [
       "   Age_at_Marriage  Gender Education_Level Caste_Match Religion Urban_Rural  \\\n",
       "0               23    Male        Graduate   Different    Hindu       Urban   \n",
       "1               28  Female          School        Same    Hindu       Rural   \n",
       "2               39    Male    Postgraduate        Same   Muslim       Rural   \n",
       "3               26  Female          School   Different    Hindu       Urban   \n",
       "4               32  Female        Graduate        Same    Hindu       Rural   \n",
       "\n",
       "  Income_Level Spouse_Working Inter-Caste Inter-Religion      target  \n",
       "0       Middle             No          No             No  Medium_Yes  \n",
       "1       Middle             No          No            Yes      Low_No  \n",
       "2         High             No          No             No   Medium_No  \n",
       "3         High             No         Yes             No      Low_No  \n",
       "4       Middle             No          No            Yes   Medium_No  "
      ]
     },
     "execution_count": 4,
     "metadata": {},
     "output_type": "execute_result"
    }
   ],
   "source": [
    "df = pd.read_csv(r\"D:\\FinalYearProject\\Matrimony_Matchmaker\\notebooks\\Training-Testing Dataset\\Training Data (RWS Oversampling).csv\")\n",
    "df.head(5)"
   ]
  },
  {
   "cell_type": "code",
   "execution_count": 14,
   "id": "fa651c40",
   "metadata": {},
   "outputs": [
    {
     "name": "stdout",
     "output_type": "stream",
     "text": [
      "{'Medium_Yes': 4492, 'Low_No': 4492, 'Medium_No': 4492, 'High_No': 4492, 'Low_Yes': 4492, 'High_Yes': 4492}\n"
     ]
    }
   ],
   "source": [
    "count = dict(df[\"target\"].value_counts())\n",
    "for clss,freq in count.items():\n",
    "    count[clss] = int(freq)\n",
    "print(count)"
   ]
  },
  {
   "cell_type": "code",
   "execution_count": 13,
   "id": "784ddea9",
   "metadata": {},
   "outputs": [],
   "source": [
    "org_df = pd.read_csv(r\"D:\\FinalYearProject\\Matrimony_Matchmaker\\data\\processed\\TrainingData\\marriage_data_india.csv\")"
   ]
  },
  {
   "cell_type": "code",
   "execution_count": 15,
   "id": "4d88ccd7",
   "metadata": {},
   "outputs": [
    {
     "name": "stdout",
     "output_type": "stream",
     "text": [
      "{'Medium_No': 4492, 'High_No': 2689, 'Low_No': 1818, 'Medium_Yes': 509, 'High_Yes': 304, 'Low_Yes': 188}\n"
     ]
    }
   ],
   "source": [
    "count = dict(org_df[\"target\"].value_counts())\n",
    "for clss,freq in count.items():\n",
    "    count[clss] = int(freq)\n",
    "print(count)"
   ]
  },
  {
   "cell_type": "code",
   "execution_count": null,
   "id": "8fb2f897",
   "metadata": {},
   "outputs": [],
   "source": []
  }
 ],
 "metadata": {
  "kernelspec": {
   "display_name": "Python 3",
   "language": "python",
   "name": "python3"
  },
  "language_info": {
   "codemirror_mode": {
    "name": "ipython",
    "version": 3
   },
   "file_extension": ".py",
   "mimetype": "text/x-python",
   "name": "python",
   "nbconvert_exporter": "python",
   "pygments_lexer": "ipython3",
   "version": "3.12.6"
  }
 },
 "nbformat": 4,
 "nbformat_minor": 5
}
