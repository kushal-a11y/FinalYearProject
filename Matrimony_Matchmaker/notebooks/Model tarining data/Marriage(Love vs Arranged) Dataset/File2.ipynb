{
 "cells": [
  {
   "cell_type": "code",
   "execution_count": 3,
   "metadata": {},
   "outputs": [],
   "source": [
    "import pandas as pd\n",
    "import numpy as np\n",
    "from sklearn.model_selection import train_test_split\n",
    "from sklearn.preprocessing import LabelEncoder, StandardScaler\n",
    "from sklearn.ensemble import RandomForestClassifier\n",
    "from sklearn.metrics import classification_report, accuracy_score         "
   ]
  },
  {
   "cell_type": "code",
   "execution_count": 32,
   "metadata": {},
   "outputs": [],
   "source": [
    "df = pd.read_csv(\"../../../data/raw/TrainingData/marriage_data_india.csv\")\n",
    "\n",
    "# Needed for ealuation of compatibility = 'Marital_Satisfaction',(mean can be used) ,Divorce_Status,Years_Since_Marriage\n",
    "# Dont needed  = Marriage_Type,Parental_Approval,Dowry_Exchanged,'Children_Count',spouse workingYears_Since_Marriage'\n",
    "df.drop(columns=['ID','Marriage_Type','Parental_Approval','Dowry_Exchanged','Children_Count','Spouse_Working','Years_Since_Marriage'],inplace=True)"
   ]
  },
  {
   "cell_type": "code",
   "execution_count": 12,
   "metadata": {},
   "outputs": [
    {
     "data": {
      "text/plain": [
       "Marital_Satisfaction\n",
       "Medium    5001\n",
       "High      2993\n",
       "Low       2006\n",
       "Name: count, dtype: int64"
      ]
     },
     "execution_count": 12,
     "metadata": {},
     "output_type": "execute_result"
    }
   ],
   "source": [
    "df[\"Marital_Satisfaction\"].value_counts()"
   ]
  },
  {
   "cell_type": "code",
   "execution_count": 11,
   "metadata": {},
   "outputs": [
    {
     "data": {
      "text/plain": [
       "Divorce_Status\n",
       "No     8999\n",
       "Yes    1001\n",
       "Name: count, dtype: int64"
      ]
     },
     "execution_count": 11,
     "metadata": {},
     "output_type": "execute_result"
    }
   ],
   "source": [
    "df[\"Divorce_Status\"].value_counts()"
   ]
  },
  {
   "cell_type": "code",
   "execution_count": 33,
   "metadata": {},
   "outputs": [
    {
     "data": {
      "text/html": [
       "<div>\n",
       "<style scoped>\n",
       "    .dataframe tbody tr th:only-of-type {\n",
       "        vertical-align: middle;\n",
       "    }\n",
       "\n",
       "    .dataframe tbody tr th {\n",
       "        vertical-align: top;\n",
       "    }\n",
       "\n",
       "    .dataframe thead th {\n",
       "        text-align: right;\n",
       "    }\n",
       "</style>\n",
       "<table border=\"1\" class=\"dataframe\">\n",
       "  <thead>\n",
       "    <tr style=\"text-align: right;\">\n",
       "      <th></th>\n",
       "      <th>Age_at_Marriage</th>\n",
       "      <th>Gender</th>\n",
       "      <th>Education_Level</th>\n",
       "      <th>Caste_Match</th>\n",
       "      <th>Religion</th>\n",
       "      <th>Urban_Rural</th>\n",
       "      <th>Marital_Satisfaction</th>\n",
       "      <th>Divorce_Status</th>\n",
       "      <th>Income_Level</th>\n",
       "      <th>Inter-Caste</th>\n",
       "      <th>Inter-Religion</th>\n",
       "    </tr>\n",
       "  </thead>\n",
       "  <tbody>\n",
       "    <tr>\n",
       "      <th>0</th>\n",
       "      <td>23</td>\n",
       "      <td>Male</td>\n",
       "      <td>Graduate</td>\n",
       "      <td>Different</td>\n",
       "      <td>Hindu</td>\n",
       "      <td>Urban</td>\n",
       "      <td>Medium</td>\n",
       "      <td>Yes</td>\n",
       "      <td>Middle</td>\n",
       "      <td>No</td>\n",
       "      <td>No</td>\n",
       "    </tr>\n",
       "    <tr>\n",
       "      <th>1</th>\n",
       "      <td>28</td>\n",
       "      <td>Female</td>\n",
       "      <td>School</td>\n",
       "      <td>Same</td>\n",
       "      <td>Hindu</td>\n",
       "      <td>Rural</td>\n",
       "      <td>Low</td>\n",
       "      <td>No</td>\n",
       "      <td>Middle</td>\n",
       "      <td>No</td>\n",
       "      <td>Yes</td>\n",
       "    </tr>\n",
       "    <tr>\n",
       "      <th>2</th>\n",
       "      <td>39</td>\n",
       "      <td>Male</td>\n",
       "      <td>Postgraduate</td>\n",
       "      <td>Same</td>\n",
       "      <td>Muslim</td>\n",
       "      <td>Rural</td>\n",
       "      <td>Medium</td>\n",
       "      <td>No</td>\n",
       "      <td>High</td>\n",
       "      <td>No</td>\n",
       "      <td>No</td>\n",
       "    </tr>\n",
       "    <tr>\n",
       "      <th>3</th>\n",
       "      <td>26</td>\n",
       "      <td>Female</td>\n",
       "      <td>School</td>\n",
       "      <td>Different</td>\n",
       "      <td>Hindu</td>\n",
       "      <td>Urban</td>\n",
       "      <td>Low</td>\n",
       "      <td>No</td>\n",
       "      <td>High</td>\n",
       "      <td>Yes</td>\n",
       "      <td>No</td>\n",
       "    </tr>\n",
       "    <tr>\n",
       "      <th>4</th>\n",
       "      <td>32</td>\n",
       "      <td>Female</td>\n",
       "      <td>Graduate</td>\n",
       "      <td>Same</td>\n",
       "      <td>Hindu</td>\n",
       "      <td>Rural</td>\n",
       "      <td>Medium</td>\n",
       "      <td>No</td>\n",
       "      <td>Middle</td>\n",
       "      <td>No</td>\n",
       "      <td>Yes</td>\n",
       "    </tr>\n",
       "  </tbody>\n",
       "</table>\n",
       "</div>"
      ],
      "text/plain": [
       "   Age_at_Marriage  Gender Education_Level Caste_Match Religion Urban_Rural  \\\n",
       "0               23    Male        Graduate   Different    Hindu       Urban   \n",
       "1               28  Female          School        Same    Hindu       Rural   \n",
       "2               39    Male    Postgraduate        Same   Muslim       Rural   \n",
       "3               26  Female          School   Different    Hindu       Urban   \n",
       "4               32  Female        Graduate        Same    Hindu       Rural   \n",
       "\n",
       "  Marital_Satisfaction Divorce_Status Income_Level Inter-Caste Inter-Religion  \n",
       "0               Medium            Yes       Middle          No             No  \n",
       "1                  Low             No       Middle          No            Yes  \n",
       "2               Medium             No         High          No             No  \n",
       "3                  Low             No         High         Yes             No  \n",
       "4               Medium             No       Middle          No            Yes  "
      ]
     },
     "execution_count": 33,
     "metadata": {},
     "output_type": "execute_result"
    }
   ],
   "source": [
    "df.head()"
   ]
  },
  {
   "cell_type": "code",
   "execution_count": 21,
   "metadata": {},
   "outputs": [
    {
     "name": "stdout",
     "output_type": "stream",
     "text": [
      "('Medium', 'Yes')\n",
      "('Medium', 'No')\n",
      "('Low', 'Yes')\n",
      "('Low', 'No')\n",
      "('High', 'Yes')\n",
      "('High', 'No')\n"
     ]
    }
   ],
   "source": [
    "\"\"\"\n",
    "Total 6 combinations possible\n",
    "    Satisfaction=High && Divorce = No\n",
    "    Satisfaction=Medium && Divorce = No\n",
    "    Satisfaction=Low && Divorce = No\n",
    "    Satisfaction=High && Divorce = Yes\n",
    "    Satisfaction=Medium && Divorce = Yes\n",
    "    Satisfaction=Low && Divorce = Yes\n",
    "\"\"\"\n",
    "unique_combinations = pd.MultiIndex.from_product(\n",
    "    [df[\"Marital_Satisfaction\"].unique(),df[\"Divorce_Status\"].unique()],\n",
    "    names=[\"Marital_Satisfaction\",\"Divorce_Status\"]\n",
    ")\n",
    "for i in unique_combinations:\n",
    "    print(i) "
   ]
  },
  {
   "cell_type": "code",
   "execution_count": 31,
   "metadata": {},
   "outputs": [
    {
     "name": "stdout",
     "output_type": "stream",
     "text": [
      "  Marital_Satisfaction Divorce_Status  count\n",
      "0                 High             No   2689\n",
      "1                 High            Yes    304\n",
      "2                  Low             No   1818\n",
      "3                  Low            Yes    188\n",
      "4               Medium             No   4492\n",
      "5               Medium            Yes    509\n"
     ]
    }
   ],
   "source": [
    "# Counting such combinations of target variable \"Marital_Satisfaction\" & \"Divorce_Status\"\n",
    "count = dict(df.groupby([\"Marital_Satisfaction\",\"Divorce_Status\"]).size())\n",
    "\n",
    "\n",
    "\n",
    "Target_combination_df = pd.DataFrame([(k[0],k[1],val) for k,val in count.items()],columns=[\"Marital_Satisfaction\",\"Divorce_Status\",\"count\"]) \n",
    "print(Target_combination_df)"
   ]
  }
 ],
 "metadata": {
  "kernelspec": {
   "display_name": "Python 3",
   "language": "python",
   "name": "python3"
  },
  "language_info": {
   "codemirror_mode": {
    "name": "ipython",
    "version": 3
   },
   "file_extension": ".py",
   "mimetype": "text/x-python",
   "name": "python",
   "nbconvert_exporter": "python",
   "pygments_lexer": "ipython3",
   "version": "3.12.6"
  }
 },
 "nbformat": 4,
 "nbformat_minor": 2
}
