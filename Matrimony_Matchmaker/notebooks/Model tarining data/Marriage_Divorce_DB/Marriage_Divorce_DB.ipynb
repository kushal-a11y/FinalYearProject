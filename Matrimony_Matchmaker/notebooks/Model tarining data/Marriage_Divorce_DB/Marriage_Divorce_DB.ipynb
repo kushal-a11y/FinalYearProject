{
 "cells": [
  {
   "cell_type": "code",
   "execution_count": 1,
   "id": "e1fb5055",
   "metadata": {},
   "outputs": [],
   "source": [
    "import json, os, numpy as np, pandas as pd, joblib\n",
    "from sklearn.model_selection import train_test_split\n",
    "from sklearn.compose import ColumnTransformer\n",
    "from sklearn.preprocessing import OneHotEncoder, StandardScaler\n",
    "from sklearn.pipeline import Pipeline\n",
    "from sklearn.metrics import mean_squared_error, r2_score\n",
    "from sklearn.ensemble import GradientBoostingRegressor"
   ]
  },
  {
   "cell_type": "code",
   "execution_count": 11,
   "id": "042cc521",
   "metadata": {},
   "outputs": [],
   "source": [
    "df = pd.read_csv(\"../../../data/raw/TrainingData/Marriage_Divorce_DB.csv\")"
   ]
  },
  {
   "cell_type": "code",
   "execution_count": 14,
   "id": "5b1f815f",
   "metadata": {},
   "outputs": [
    {
     "data": {
      "text/plain": [
       "(100, 31)"
      ]
     },
     "execution_count": 14,
     "metadata": {},
     "output_type": "execute_result"
    }
   ],
   "source": [
    "df.shape\n",
    "# df.columns"
   ]
  },
  {
   "cell_type": "code",
   "execution_count": 5,
   "id": "82783abb",
   "metadata": {},
   "outputs": [],
   "source": [
    "keep_features = [\n",
    "    \"Age Gap\",\n",
    "    \"Education\",\n",
    "    \"Economic Similarity\",\n",
    "    \"Social Similarities\",\n",
    "    \"Cultural Similarities\",\n",
    "    \"Social Gap\",\n",
    "    \"Religion Compatibility\",\n",
    "    \"Independency\",\n",
    "    \"Previous Marriage\",\n",
    "    \"Addiction\",\n",
    "    \"Height Ratio\",\n",
    "    \"Good Income\",\n",
    "    'Divorce Probability'\n",
    "]\n",
    "\n",
    "df.drop(columns=[i for i in df.columns if i not in keep_features], inplace=True)"
   ]
  },
  {
   "cell_type": "code",
   "execution_count": 10,
   "id": "cef2dcbe",
   "metadata": {},
   "outputs": [
    {
     "name": "stdout",
     "output_type": "stream",
     "text": [
      "(100, 13)\n"
     ]
    }
   ],
   "source": [
    "print(df.shape)"
   ]
  }
 ],
 "metadata": {
  "kernelspec": {
   "display_name": "Python 3",
   "language": "python",
   "name": "python3"
  },
  "language_info": {
   "codemirror_mode": {
    "name": "ipython",
    "version": 3
   },
   "file_extension": ".py",
   "mimetype": "text/x-python",
   "name": "python",
   "nbconvert_exporter": "python",
   "pygments_lexer": "ipython3",
   "version": "3.12.1"
  }
 },
 "nbformat": 4,
 "nbformat_minor": 5
}
