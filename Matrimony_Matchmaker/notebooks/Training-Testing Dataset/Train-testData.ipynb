{
 "cells": [
  {
   "cell_type": "code",
   "execution_count": 2,
   "metadata": {},
   "outputs": [],
   "source": [
    "import pandas as pd\n",
    "from sklearn.model_selection import train_test_split\n",
    "from sklearn.preprocessing import LabelEncoder\n",
    "from collections import Counter\n",
    "from imblearn.over_sampling import RandomOverSampler\n",
    "from imblearn.under_sampling import RandomUnderSampler,ClusterCentroids\n",
    "import random"
   ]
  },
  {
   "cell_type": "code",
   "execution_count": 3,
   "metadata": {},
   "outputs": [
    {
     "data": {
      "text/html": [
       "<div>\n",
       "<style scoped>\n",
       "    .dataframe tbody tr th:only-of-type {\n",
       "        vertical-align: middle;\n",
       "    }\n",
       "\n",
       "    .dataframe tbody tr th {\n",
       "        vertical-align: top;\n",
       "    }\n",
       "\n",
       "    .dataframe thead th {\n",
       "        text-align: right;\n",
       "    }\n",
       "</style>\n",
       "<table border=\"1\" class=\"dataframe\">\n",
       "  <thead>\n",
       "    <tr style=\"text-align: right;\">\n",
       "      <th></th>\n",
       "      <th>ID</th>\n",
       "      <th>Age_at_Marriage</th>\n",
       "      <th>Gender</th>\n",
       "      <th>Education_Level</th>\n",
       "      <th>Caste_Match</th>\n",
       "      <th>Religion</th>\n",
       "      <th>Urban_Rural</th>\n",
       "      <th>Marital_Satisfaction</th>\n",
       "      <th>Divorce_Status</th>\n",
       "      <th>Income_Level</th>\n",
       "      <th>Spouse_Working</th>\n",
       "      <th>Inter-Caste</th>\n",
       "      <th>Inter-Religion</th>\n",
       "    </tr>\n",
       "  </thead>\n",
       "  <tbody>\n",
       "    <tr>\n",
       "      <th>0</th>\n",
       "      <td>0</td>\n",
       "      <td>23</td>\n",
       "      <td>Male</td>\n",
       "      <td>Graduate</td>\n",
       "      <td>Different</td>\n",
       "      <td>Hindu</td>\n",
       "      <td>Urban</td>\n",
       "      <td>Medium</td>\n",
       "      <td>Yes</td>\n",
       "      <td>Middle</td>\n",
       "      <td>No</td>\n",
       "      <td>No</td>\n",
       "      <td>No</td>\n",
       "    </tr>\n",
       "    <tr>\n",
       "      <th>1</th>\n",
       "      <td>1</td>\n",
       "      <td>28</td>\n",
       "      <td>Female</td>\n",
       "      <td>School</td>\n",
       "      <td>Same</td>\n",
       "      <td>Hindu</td>\n",
       "      <td>Rural</td>\n",
       "      <td>Low</td>\n",
       "      <td>No</td>\n",
       "      <td>Middle</td>\n",
       "      <td>No</td>\n",
       "      <td>No</td>\n",
       "      <td>Yes</td>\n",
       "    </tr>\n",
       "    <tr>\n",
       "      <th>2</th>\n",
       "      <td>2</td>\n",
       "      <td>39</td>\n",
       "      <td>Male</td>\n",
       "      <td>Postgraduate</td>\n",
       "      <td>Same</td>\n",
       "      <td>Muslim</td>\n",
       "      <td>Rural</td>\n",
       "      <td>Medium</td>\n",
       "      <td>No</td>\n",
       "      <td>High</td>\n",
       "      <td>No</td>\n",
       "      <td>No</td>\n",
       "      <td>No</td>\n",
       "    </tr>\n",
       "    <tr>\n",
       "      <th>3</th>\n",
       "      <td>3</td>\n",
       "      <td>26</td>\n",
       "      <td>Female</td>\n",
       "      <td>School</td>\n",
       "      <td>Different</td>\n",
       "      <td>Hindu</td>\n",
       "      <td>Urban</td>\n",
       "      <td>Low</td>\n",
       "      <td>No</td>\n",
       "      <td>High</td>\n",
       "      <td>No</td>\n",
       "      <td>Yes</td>\n",
       "      <td>No</td>\n",
       "    </tr>\n",
       "    <tr>\n",
       "      <th>4</th>\n",
       "      <td>4</td>\n",
       "      <td>32</td>\n",
       "      <td>Female</td>\n",
       "      <td>Graduate</td>\n",
       "      <td>Same</td>\n",
       "      <td>Hindu</td>\n",
       "      <td>Rural</td>\n",
       "      <td>Medium</td>\n",
       "      <td>No</td>\n",
       "      <td>Middle</td>\n",
       "      <td>No</td>\n",
       "      <td>No</td>\n",
       "      <td>Yes</td>\n",
       "    </tr>\n",
       "  </tbody>\n",
       "</table>\n",
       "</div>"
      ],
      "text/plain": [
       "   ID  Age_at_Marriage  Gender Education_Level Caste_Match Religion  \\\n",
       "0   0               23    Male        Graduate   Different    Hindu   \n",
       "1   1               28  Female          School        Same    Hindu   \n",
       "2   2               39    Male    Postgraduate        Same   Muslim   \n",
       "3   3               26  Female          School   Different    Hindu   \n",
       "4   4               32  Female        Graduate        Same    Hindu   \n",
       "\n",
       "  Urban_Rural Marital_Satisfaction Divorce_Status Income_Level Spouse_Working  \\\n",
       "0       Urban               Medium            Yes       Middle             No   \n",
       "1       Rural                  Low             No       Middle             No   \n",
       "2       Rural               Medium             No         High             No   \n",
       "3       Urban                  Low             No         High             No   \n",
       "4       Rural               Medium             No       Middle             No   \n",
       "\n",
       "  Inter-Caste Inter-Religion  \n",
       "0          No             No  \n",
       "1          No            Yes  \n",
       "2          No             No  \n",
       "3         Yes             No  \n",
       "4          No            Yes  "
      ]
     },
     "execution_count": 3,
     "metadata": {},
     "output_type": "execute_result"
    }
   ],
   "source": [
    "df = pd.read_csv(\"../../data/processed/TrainingData/marriage_data_india.csv\")\n",
    "df.head()"
   ]
  },
  {
   "cell_type": "code",
   "execution_count": 4,
   "metadata": {},
   "outputs": [
    {
     "name": "stdout",
     "output_type": "stream",
     "text": [
      "{('High', 'No'): np.int64(2689), ('High', 'Yes'): np.int64(304), ('Low', 'No'): np.int64(1818), ('Low', 'Yes'): np.int64(188), ('Medium', 'No'): np.int64(4492), ('Medium', 'Yes'): np.int64(509)}\n"
     ]
    }
   ],
   "source": [
    "# Distribution of target data\n",
    "\n",
    "combinations = pd.MultiIndex.from_product(\n",
    "    [df[\"Marital_Satisfaction\"].unique(),df[\"Divorce_Status\"].unique()],\n",
    "    names=[\"Marital_Satisfaction\",\"Divorce_Status\"]\n",
    ")\n",
    "\n",
    "count = dict(df.groupby([\"Marital_Satisfaction\",\"Divorce_Status\"]).size())\n",
    "\n",
    "print(count)"
   ]
  },
  {
   "cell_type": "code",
   "execution_count": 5,
   "metadata": {},
   "outputs": [
    {
     "data": {
      "text/html": [
       "<div>\n",
       "<style scoped>\n",
       "    .dataframe tbody tr th:only-of-type {\n",
       "        vertical-align: middle;\n",
       "    }\n",
       "\n",
       "    .dataframe tbody tr th {\n",
       "        vertical-align: top;\n",
       "    }\n",
       "\n",
       "    .dataframe thead th {\n",
       "        text-align: right;\n",
       "    }\n",
       "</style>\n",
       "<table border=\"1\" class=\"dataframe\">\n",
       "  <thead>\n",
       "    <tr style=\"text-align: right;\">\n",
       "      <th></th>\n",
       "      <th>Age_at_Marriage</th>\n",
       "      <th>Gender</th>\n",
       "      <th>Education_Level</th>\n",
       "      <th>Caste_Match</th>\n",
       "      <th>Religion</th>\n",
       "      <th>Urban_Rural</th>\n",
       "      <th>Income_Level</th>\n",
       "      <th>Spouse_Working</th>\n",
       "      <th>Inter-Caste</th>\n",
       "      <th>Inter-Religion</th>\n",
       "      <th>target</th>\n",
       "    </tr>\n",
       "  </thead>\n",
       "  <tbody>\n",
       "    <tr>\n",
       "      <th>0</th>\n",
       "      <td>23</td>\n",
       "      <td>Male</td>\n",
       "      <td>Graduate</td>\n",
       "      <td>Different</td>\n",
       "      <td>Hindu</td>\n",
       "      <td>Urban</td>\n",
       "      <td>Middle</td>\n",
       "      <td>No</td>\n",
       "      <td>No</td>\n",
       "      <td>No</td>\n",
       "      <td>Medium_Yes</td>\n",
       "    </tr>\n",
       "    <tr>\n",
       "      <th>1</th>\n",
       "      <td>28</td>\n",
       "      <td>Female</td>\n",
       "      <td>School</td>\n",
       "      <td>Same</td>\n",
       "      <td>Hindu</td>\n",
       "      <td>Rural</td>\n",
       "      <td>Middle</td>\n",
       "      <td>No</td>\n",
       "      <td>No</td>\n",
       "      <td>Yes</td>\n",
       "      <td>Low_No</td>\n",
       "    </tr>\n",
       "    <tr>\n",
       "      <th>2</th>\n",
       "      <td>39</td>\n",
       "      <td>Male</td>\n",
       "      <td>Postgraduate</td>\n",
       "      <td>Same</td>\n",
       "      <td>Muslim</td>\n",
       "      <td>Rural</td>\n",
       "      <td>High</td>\n",
       "      <td>No</td>\n",
       "      <td>No</td>\n",
       "      <td>No</td>\n",
       "      <td>Medium_No</td>\n",
       "    </tr>\n",
       "    <tr>\n",
       "      <th>3</th>\n",
       "      <td>26</td>\n",
       "      <td>Female</td>\n",
       "      <td>School</td>\n",
       "      <td>Different</td>\n",
       "      <td>Hindu</td>\n",
       "      <td>Urban</td>\n",
       "      <td>High</td>\n",
       "      <td>No</td>\n",
       "      <td>Yes</td>\n",
       "      <td>No</td>\n",
       "      <td>Low_No</td>\n",
       "    </tr>\n",
       "    <tr>\n",
       "      <th>4</th>\n",
       "      <td>32</td>\n",
       "      <td>Female</td>\n",
       "      <td>Graduate</td>\n",
       "      <td>Same</td>\n",
       "      <td>Hindu</td>\n",
       "      <td>Rural</td>\n",
       "      <td>Middle</td>\n",
       "      <td>No</td>\n",
       "      <td>No</td>\n",
       "      <td>Yes</td>\n",
       "      <td>Medium_No</td>\n",
       "    </tr>\n",
       "  </tbody>\n",
       "</table>\n",
       "</div>"
      ],
      "text/plain": [
       "   Age_at_Marriage  Gender Education_Level Caste_Match Religion Urban_Rural  \\\n",
       "0               23    Male        Graduate   Different    Hindu       Urban   \n",
       "1               28  Female          School        Same    Hindu       Rural   \n",
       "2               39    Male    Postgraduate        Same   Muslim       Rural   \n",
       "3               26  Female          School   Different    Hindu       Urban   \n",
       "4               32  Female        Graduate        Same    Hindu       Rural   \n",
       "\n",
       "  Income_Level Spouse_Working Inter-Caste Inter-Religion      target  \n",
       "0       Middle             No          No             No  Medium_Yes  \n",
       "1       Middle             No          No            Yes      Low_No  \n",
       "2         High             No          No             No   Medium_No  \n",
       "3         High             No         Yes             No      Low_No  \n",
       "4       Middle             No          No            Yes   Medium_No  "
      ]
     },
     "execution_count": 5,
     "metadata": {},
     "output_type": "execute_result"
    }
   ],
   "source": [
    "df[\"target\"] =  df[\"Marital_Satisfaction\"].astype(str)+'_'+df[\"Divorce_Status\"].astype(str)\n",
    "df.drop(columns=[\"Marital_Satisfaction\",\"Divorce_Status\",\"ID\"],inplace=True)\n",
    "df.head()"
   ]
  },
  {
   "cell_type": "code",
   "execution_count": 6,
   "metadata": {},
   "outputs": [
    {
     "data": {
      "text/plain": [
       "Spouse_Working\n",
       "Yes    5047\n",
       "No     4953\n",
       "Name: count, dtype: int64"
      ]
     },
     "execution_count": 6,
     "metadata": {},
     "output_type": "execute_result"
    }
   ],
   "source": [
    "df.shape\n",
    "df[\"Spouse_Working\"].value_counts()"
   ]
  },
  {
   "cell_type": "code",
   "execution_count": 40,
   "metadata": {},
   "outputs": [
    {
     "name": "stdout",
     "output_type": "stream",
     "text": [
      "1163.5\n",
      "before sampling Counter({'Medium_No': 3144, 'High_No': 1882, 'Low_No': 1273, 'Medium_Yes': 356, 'High_Yes': 213, 'Low_Yes': 132})\n",
      "median class size  814.5\n",
      "After Random Over Sampling to the majority class size Counter({'Medium_No': 3144, 'Medium_Yes': 3144, 'Low_No': 3144, 'High_No': 3144, 'Low_Yes': 3144, 'High_Yes': 3144})\n",
      "After Random Over Sampling to median class size Counter({'Medium_No': 3144, 'High_No': 1882, 'Low_No': 1273, 'Medium_Yes': 814, 'Low_Yes': 814, 'High_Yes': 814})\n",
      "After Random Under Sampling to median class size Counter({'High_No': 814, 'High_Yes': 814, 'Low_No': 814, 'Low_Yes': 814, 'Medium_No': 814, 'Medium_Yes': 814})\n"
     ]
    }
   ],
   "source": [
    "# Stratified random over sampling t\n",
    "\n",
    "x = df.drop(columns=[\"target\"])\n",
    "y = df[\"target\"]\n",
    "print((y.value_counts()).median())\n",
    "x_train,x_test,y_train,y_test = train_test_split(\n",
    "    x,y,test_size=0.3,stratify=y,random_state=42\n",
    ")\n",
    "\n",
    "print(\"before sampling\", Counter(y_train))\n",
    "\n",
    "val_count = y_train.value_counts()\n",
    "median_class_size = (val_count).median()\n",
    "print(\"median class size \", median_class_size)\n",
    "\n",
    "sampled_data = RandomOverSampler(sampling_strategy=\"not majority\", random_state=42)\n",
    "x_os,y_os= sampled_data.fit_resample(x_train,y_train)\n",
    "\n",
    "print(\"After Random Over Sampling to the majority class size\", Counter(y_os))\n",
    "\n",
    "\n",
    "\n",
    "\n",
    "sampled_data = RandomOverSampler(\n",
    "    sampling_strategy={\n",
    "        target_class: int(median_class_size) for target_class,count in val_count.items() if count < median_class_size\n",
    "    },random_state=42)\n",
    "x_os,y_os= sampled_data.fit_resample(x_train,y_train)\n",
    "\n",
    "sampled_data = RandomUnderSampler(\n",
    "    sampling_strategy={\n",
    "        target_class: int(median_class_size) for target_class,count in val_count.items() if count > median_class_size\n",
    "    },random_state=42)\n",
    "x_us,y_us= sampled_data.fit_resample(x_os,y_os)\n",
    "\n",
    "print(\"After Random Over Sampling to median class size\", Counter(y_os))\n",
    "print(\"After Random Under Sampling to median class size\", Counter(y_us))\n",
    "\n"
   ]
  },
  {
   "cell_type": "code",
   "execution_count": null,
   "metadata": {},
   "outputs": [
    {
     "name": "stdout",
     "output_type": "stream",
     "text": [
      "weights  {'Medium_No': np.float64(0.0003180661577608143), 'High_No': np.float64(0.0005313496280552603), 'Low_No': np.float64(0.0007855459544383347), 'Medium_Yes': np.float64(0.0028089887640449437), 'High_Yes': np.float64(0.004694835680751174), 'Low_Yes': np.float64(0.007575757575757576)}\n",
      "Total weight 0.016714543760808102\n",
      "probabilteies  {'Medium_No': np.float64(0.019029305394898596), 'High_No': np.float64(0.031789657896685), 'Low_No': np.float64(0.046997750323300225), 'Medium_Yes': np.float64(0.16805656225157634), 'High_Yes': np.float64(0.280883268364137), 'Low_Yes': np.float64(0.4532434557694029)}\n"
     ]
    }
   ],
   "source": [
    "# Roulette Wheel Technique for Resampling\n",
    "\n",
    "val_count = dict(y_train.value_counts())\n",
    "\n",
    "weight_class = {cls: (1.0/count) for cls,count in val_count.items()}\n",
    "print(\"weights \",weight_class)\n",
    "total_weight = sum(weight_class.values())\n",
    "print(\"Total weight\",total_weight)\n",
    "probabilities = {cls: (wg/total_weight) for cls,wg in weight_class.items()}\n",
    "print(\"probabilteies \",probabilities)\n",
    "\n",
    "\n",
    "count_max = max(val_count.values())\n",
    "\n",
    "x_resample,y_resample = [],[]\n",
    "while True:\n",
    "    curr_count = Counter(y_train.to_list() + y_resample)\n",
    "    if all(c >= count_max for c in curr_count.values()):\n",
    "        break\n",
    "\n",
    "    choosen_class = random.choices(\n",
    "        population=list(probabilities.keys()),\n",
    "        weights=list(probabilities.values())\n",
    "    )[0]\n",
    "    if curr_count[choosen_class] >= count_max:\n",
    "        continue\n",
    "    record = x_train[y_train==choosen_class].sample(n=1,replace=True)\n",
    "    x_resample.append(record)\n",
    "    y_resample.append(choosen_class) \n",
    "\n"
   ]
  },
  {
   "cell_type": "code",
   "execution_count": 57,
   "metadata": {},
   "outputs": [
    {
     "name": "stdout",
     "output_type": "stream",
     "text": [
      "       Age_at_Marriage  Gender Education_Level Caste_Match   Religion  \\\n",
      "0                   30    Male          School        Same      Hindu   \n",
      "1                   37  Female        Graduate        Same  Christian   \n",
      "2                   38  Female    Postgraduate        Same     Muslim   \n",
      "3                   21  Female    Postgraduate        Same     Others   \n",
      "4                   26  Female          School        Same     Others   \n",
      "...                ...     ...             ...         ...        ...   \n",
      "22859               33    Male        Graduate        Same      Hindu   \n",
      "22860               33    Male        Graduate        Same     Muslim   \n",
      "22861               33  Female        Graduate   Different     Muslim   \n",
      "22862               38  Female    Postgraduate        Same      Hindu   \n",
      "22863               35  Female        Graduate   Different      Hindu   \n",
      "\n",
      "      Urban_Rural Income_Level Spouse_Working Inter-Caste Inter-Religion  \n",
      "0           Rural       Middle            Yes          No            Yes  \n",
      "1           Urban       Middle             No          No             No  \n",
      "2           Rural       Middle            Yes          No            Yes  \n",
      "3           Rural       Middle            Yes         Yes             No  \n",
      "4           Rural         High             No          No             No  \n",
      "...           ...          ...            ...         ...            ...  \n",
      "22859       Urban         High             No          No             No  \n",
      "22860       Urban          Low            Yes          No             No  \n",
      "22861       Urban       Middle            Yes         Yes             No  \n",
      "22862       Urban          Low             No          No             No  \n",
      "22863       Urban         High             No          No             No  \n",
      "\n",
      "[22864 rows x 10 columns]\n"
     ]
    }
   ],
   "source": [
    "x_balanced = pd.concat([x_train]+ x_resample, ignore_index=True)\n",
    "y_balanced = pd.concat([y_train,pd.Series(y_resample)],ignore_index=True)\n",
    "\n",
    "rws_df_train = pd.DataFrame(x_balanced,columns=x_balanced.columns)\n",
    "rws_df_train[\"target\"] = y_balanced\n",
    "rws_df_train.to_csv(\"Training Data (RWS Oversampling).csv\",index=False)\n",
    "\n",
    "print(x_balanced)\n",
    "\n",
    "# print(\"Count after appling roulette wheel\",Counter(x_balanced),Counter(y_balanced))"
   ]
  },
  {
   "cell_type": "code",
   "execution_count": 55,
   "metadata": {},
   "outputs": [
    {
     "name": "stdout",
     "output_type": "stream",
     "text": [
      "weights  {'Medium_No': np.float64(0.000741839762611276), 'High_No': np.float64(0.0012391573729863693), 'Low_No': np.float64(0.001834862385321101), 'Medium_Yes': np.float64(0.006535947712418301), 'High_Yes': np.float64(0.01098901098901099), 'Low_Yes': np.float64(0.017857142857142856)}\n",
      "Total weight 0.03919796107949089\n",
      "probabilteies  {'Medium_No': np.float64(0.01892546811572351), 'High_No': np.float64(0.03161280175959764), 'Low_No': np.float64(0.046810148660541825), 'Medium_Yes': np.float64(0.16674203281042677), 'High_Yes': np.float64(0.280346494725223), 'Low_Yes': np.float64(0.45556305392848734)}\n"
     ]
    }
   ],
   "source": [
    "val_count = dict(y_test.value_counts())\n",
    "\n",
    "weight_class = {cls: (1.0/count) for cls,count in val_count.items()}\n",
    "print(\"weights \",weight_class)\n",
    "total_weight = sum(weight_class.values())\n",
    "print(\"Total weight\",total_weight)\n",
    "probabilities = {cls: (wg/total_weight) for cls,wg in weight_class.items()}\n",
    "print(\"probabilteies \",probabilities)\n",
    "x_resample,y_resample = [],[]\n",
    "while True:\n",
    "    curr_count = Counter(y_test.to_list() + y_resample)\n",
    "    if all(c >= count_max for c in curr_count.values()):\n",
    "        break\n",
    "\n",
    "    choosen_class = random.choices(\n",
    "        population=list(probabilities.keys()),\n",
    "        weights=list(probabilities.values())\n",
    "    )[0]\n",
    "    if curr_count[choosen_class] >= count_max:\n",
    "        continue\n",
    "    record = x_test[y_test==choosen_class].sample(n=1,replace=True)\n",
    "    x_resample.append(record)\n",
    "    y_resample.append(choosen_class) "
   ]
  },
  {
   "cell_type": "code",
   "execution_count": 58,
   "metadata": {},
   "outputs": [
    {
     "name": "stdout",
     "output_type": "stream",
     "text": [
      "       Age_at_Marriage  Gender Education_Level Caste_Match Religion  \\\n",
      "0                   25  Female        Graduate        Same   Others   \n",
      "1                   22    Male          School   Different   Muslim   \n",
      "2                   22    Male          School        Same    Hindu   \n",
      "3                   30    Male          School        Same    Hindu   \n",
      "4                   25  Female          School   Different   Muslim   \n",
      "...                ...     ...             ...         ...      ...   \n",
      "18859               33    Male        Graduate        Same    Hindu   \n",
      "18860               33    Male        Graduate        Same   Muslim   \n",
      "18861               33  Female        Graduate   Different   Muslim   \n",
      "18862               38  Female    Postgraduate        Same    Hindu   \n",
      "18863               35  Female        Graduate   Different    Hindu   \n",
      "\n",
      "      Urban_Rural Income_Level Spouse_Working Inter-Caste Inter-Religion  \n",
      "0           Urban       Middle             No         Yes            Yes  \n",
      "1           Urban       Middle             No          No            Yes  \n",
      "2           Urban       Middle            Yes         Yes             No  \n",
      "3           Urban       Middle             No          No             No  \n",
      "4           Urban       Middle            Yes          No             No  \n",
      "...           ...          ...            ...         ...            ...  \n",
      "18859       Urban         High             No          No             No  \n",
      "18860       Urban          Low            Yes          No             No  \n",
      "18861       Urban       Middle            Yes         Yes             No  \n",
      "18862       Urban          Low             No          No             No  \n",
      "18863       Urban         High             No          No             No  \n",
      "\n",
      "[18864 rows x 10 columns]\n"
     ]
    }
   ],
   "source": [
    "x_balanced = pd.concat([x_test]+ x_resample, ignore_index=True)\n",
    "y_balanced = pd.concat([y_test,pd.Series(y_resample)],ignore_index=True)\n",
    "\n",
    "rws_df_train = pd.DataFrame(x_balanced,columns=x_balanced.columns)\n",
    "rws_df_train[\"target\"] = y_balanced\n",
    "rws_df_train.to_csv(\"Testing Data (RWS Oversampling).csv\",index=False)\n",
    "\n",
    "print(x_balanced)\n",
    "\n",
    "# print(\"Count after appling roulette wheel\",Counter(x_balanced),Counter(y_balanced))"
   ]
  },
  {
   "cell_type": "code",
   "execution_count": 49,
   "metadata": {},
   "outputs": [
    {
     "name": "stdout",
     "output_type": "stream",
     "text": [
      "{'Gender': LabelEncoder(), 'Education_Level': LabelEncoder(), 'Caste_Match': LabelEncoder(), 'Religion': LabelEncoder(), 'Urban_Rural': LabelEncoder(), 'Income_Level': LabelEncoder(), 'Spouse_Working': LabelEncoder(), 'Inter-Caste': LabelEncoder(), 'Inter-Religion': LabelEncoder()}\n"
     ]
    }
   ],
   "source": [
    "X_train = x_train.copy()\n",
    "X_test = x_test.copy()\n",
    "encoders = {}\n",
    "# Encode all categorical columns\n",
    "for col in X_train.select_dtypes(include=['object']).columns:\n",
    "    le = LabelEncoder()\n",
    "    X_train[col] = le.fit_transform(X_train[col].astype(str))\n",
    "    X_test[col] = le.fit_transform(X_test[col].astype(str))\n",
    "\n",
    "    encoders[col] =  le\n",
    "\n",
    "print(encoders)\n"
   ]
  },
  {
   "cell_type": "code",
   "execution_count": 50,
   "metadata": {},
   "outputs": [
    {
     "name": "stdout",
     "output_type": "stream",
     "text": [
      "Counter({'Medium_No': 3144, 'High_No': 1882, 'Low_No': 1273, 'Medium_Yes': 356, 'High_Yes': 213, 'Low_Yes': 132})\n",
      "Counter({'High_No': 132, 'High_Yes': 132, 'Low_No': 132, 'Low_Yes': 132, 'Medium_No': 132, 'Medium_Yes': 132}) - Counter({'High_No': 56, 'High_Yes': 56, 'Low_No': 56, 'Low_Yes': 56, 'Medium_No': 56, 'Medium_Yes': 56})\n"
     ]
    }
   ],
   "source": [
    "# Cluster centroids Prototype undersampling\n",
    "print(Counter(y_train))\n",
    "cc = ClusterCentroids(random_state=42)\n",
    "X_train,Y_train = cc.fit_resample(X_train,y_train)\n",
    "    \n",
    "\n",
    "X_test,Y_test = cc.fit_resample(X_test,y_test)\n",
    "print(Counter(Y_train),\"-\",Counter(Y_test))"
   ]
  },
  {
   "cell_type": "code",
   "execution_count": 51,
   "metadata": {},
   "outputs": [
    {
     "data": {
      "text/plain": [
       "target\n",
       "High_No       56\n",
       "High_Yes      56\n",
       "Low_No        56\n",
       "Low_Yes       56\n",
       "Medium_No     56\n",
       "Medium_Yes    56\n",
       "Name: count, dtype: int64"
      ]
     },
     "execution_count": 51,
     "metadata": {},
     "output_type": "execute_result"
    }
   ],
   "source": [
    "train_dataset = pd.DataFrame(X_train,columns=X_train.columns)\n",
    "train_dataset[\"target\"] = Y_train\n",
    "\n",
    "train_dataset.to_csv(\"Training Data (CC undersampling).csv\",index=False)\n",
    "testing_dataset = pd.DataFrame(X_test,columns=X_test.columns)\n",
    "testing_dataset[\"target\"] = Y_test\n",
    "\n",
    "testing_dataset.to_csv(\"Testing Data (CC undersampling).csv\",index=False)\n",
    "train_dataset.shape\n",
    "testing_dataset[\"target\"].value_counts()"
   ]
  },
  {
   "cell_type": "code",
   "execution_count": 52,
   "metadata": {},
   "outputs": [
    {
     "name": "stdout",
     "output_type": "stream",
     "text": [
      "target\n",
      "High_No       132\n",
      "High_Yes      132\n",
      "Low_No        132\n",
      "Low_Yes       132\n",
      "Medium_No     132\n",
      "Medium_Yes    132\n",
      "Name: count, dtype: int64\n"
     ]
    }
   ],
   "source": [
    "# print(encoders)\n",
    "decoded_X_train = X_train.copy()\n",
    "\n",
    "for col, le in encoders.items():\n",
    "    decoded_X_train[col] = le.inverse_transform(decoded_X_train[col])\n",
    "    # print(decoded_X_train[col])\n",
    "\n",
    "dataset = decoded_X_train\n",
    "dataset[\"target\"] = Y_train  \n",
    "\n",
    "print(dataset[\"target\"].value_counts())\n",
    "\n",
    "# Save the decoded dataset, not the encoded one!\n",
    "dataset.to_csv(\"Training Data (CC undersampling).csv\", index=False)\n",
    "\n",
    "# print(\"File saved successfully with decoded categorical values\")\n"
   ]
  },
  {
   "cell_type": "code",
   "execution_count": 53,
   "metadata": {},
   "outputs": [
    {
     "name": "stdout",
     "output_type": "stream",
     "text": [
      "target\n",
      "High_No       56\n",
      "High_Yes      56\n",
      "Low_No        56\n",
      "Low_Yes       56\n",
      "Medium_No     56\n",
      "Medium_Yes    56\n",
      "Name: count, dtype: int64\n"
     ]
    }
   ],
   "source": [
    "decoded_X_test = X_test.copy()\n",
    "\n",
    "for col, le in encoders.items():\n",
    "    decoded_X_test[col] = le.inverse_transform(decoded_X_test[col])\n",
    "    # print(decoded_X_train[col])\n",
    "\n",
    "dataset = decoded_X_test\n",
    "dataset[\"target\"] = Y_test  \n",
    "\n",
    "print(dataset[\"target\"].value_counts())\n",
    "\n",
    "# Save the decoded dataset, not the encoded one!\n",
    "dataset.to_csv(\"Testing Data (CC undersampling).csv\", index=False)"
   ]
  }
 ],
 "metadata": {
  "kernelspec": {
   "display_name": "Python 3",
   "language": "python",
   "name": "python3"
  },
  "language_info": {
   "codemirror_mode": {
    "name": "ipython",
    "version": 3
   },
   "file_extension": ".py",
   "mimetype": "text/x-python",
   "name": "python",
   "nbconvert_exporter": "python",
   "pygments_lexer": "ipython3",
   "version": "3.12.1"
  }
 },
 "nbformat": 4,
 "nbformat_minor": 2
}
