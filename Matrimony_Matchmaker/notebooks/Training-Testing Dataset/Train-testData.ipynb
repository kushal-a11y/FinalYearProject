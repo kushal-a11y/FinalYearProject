{
 "cells": [
  {
   "cell_type": "code",
   "execution_count": 85,
   "metadata": {},
   "outputs": [],
   "source": [
    "import pandas as pd\n",
    "from sklearn.model_selection import train_test_split\n",
    "from sklearn.preprocessing import LabelEncoder\n",
    "from collections import Counter\n",
    "from imblearn.over_sampling import RandomOverSampler\n",
    "from imblearn.under_sampling import RandomUnderSampler,ClusterCentroids\n",
    "import random\n",
    "import pickle as pk"
   ]
  },
  {
   "cell_type": "code",
   "execution_count": 53,
   "metadata": {},
   "outputs": [
    {
     "data": {
      "text/plain": [
       "(10000, 11)"
      ]
     },
     "execution_count": 53,
     "metadata": {},
     "output_type": "execute_result"
    }
   ],
   "source": [
    "df = pd.read_csv(\"../../data/processed/TrainingData/marriage_data_india.csv\")\n",
    "df.shape"
   ]
  },
  {
   "cell_type": "code",
   "execution_count": 35,
   "metadata": {},
   "outputs": [
    {
     "name": "stdout",
     "output_type": "stream",
     "text": [
      "{('High', 'No'): np.int64(2689), ('High', 'Yes'): np.int64(304), ('Low', 'No'): np.int64(1818), ('Low', 'Yes'): np.int64(188), ('Medium', 'No'): np.int64(4492), ('Medium', 'Yes'): np.int64(509)}\n"
     ]
    }
   ],
   "source": [
    "# # Distribution of target data\n",
    "\n",
    "# combinations = pd.MultiIndex.from_product(\n",
    "#     [df[\"Marital_Satisfaction\"].unique(),df[\"Divorce_Status\"].unique()],\n",
    "#     names=[\"Marital_Satisfaction\",\"Divorce_Status\"]\n",
    "# )\n",
    "\n",
    "# count = dict(df.groupby([\"Marital_Satisfaction\",\"Divorce_Status\"]).size())\n",
    "\n",
    "# print(count)"
   ]
  },
  {
   "cell_type": "code",
   "execution_count": 36,
   "metadata": {},
   "outputs": [
    {
     "data": {
      "text/html": [
       "<div>\n",
       "<style scoped>\n",
       "    .dataframe tbody tr th:only-of-type {\n",
       "        vertical-align: middle;\n",
       "    }\n",
       "\n",
       "    .dataframe tbody tr th {\n",
       "        vertical-align: top;\n",
       "    }\n",
       "\n",
       "    .dataframe thead th {\n",
       "        text-align: right;\n",
       "    }\n",
       "</style>\n",
       "<table border=\"1\" class=\"dataframe\">\n",
       "  <thead>\n",
       "    <tr style=\"text-align: right;\">\n",
       "      <th></th>\n",
       "      <th>Age_at_Marriage</th>\n",
       "      <th>Gender</th>\n",
       "      <th>Education_Level</th>\n",
       "      <th>Caste_Match</th>\n",
       "      <th>Religion</th>\n",
       "      <th>Urban_Rural</th>\n",
       "      <th>Income_Level</th>\n",
       "      <th>Spouse_Working</th>\n",
       "      <th>Inter-Caste</th>\n",
       "      <th>Inter-Religion</th>\n",
       "      <th>target</th>\n",
       "    </tr>\n",
       "  </thead>\n",
       "  <tbody>\n",
       "    <tr>\n",
       "      <th>0</th>\n",
       "      <td>23</td>\n",
       "      <td>Male</td>\n",
       "      <td>Graduate</td>\n",
       "      <td>Different</td>\n",
       "      <td>Hindu</td>\n",
       "      <td>Urban</td>\n",
       "      <td>Middle</td>\n",
       "      <td>No</td>\n",
       "      <td>No</td>\n",
       "      <td>No</td>\n",
       "      <td>Medium_Yes</td>\n",
       "    </tr>\n",
       "    <tr>\n",
       "      <th>1</th>\n",
       "      <td>28</td>\n",
       "      <td>Female</td>\n",
       "      <td>School</td>\n",
       "      <td>Same</td>\n",
       "      <td>Hindu</td>\n",
       "      <td>Rural</td>\n",
       "      <td>Middle</td>\n",
       "      <td>No</td>\n",
       "      <td>No</td>\n",
       "      <td>Yes</td>\n",
       "      <td>Low_No</td>\n",
       "    </tr>\n",
       "    <tr>\n",
       "      <th>2</th>\n",
       "      <td>39</td>\n",
       "      <td>Male</td>\n",
       "      <td>Postgraduate</td>\n",
       "      <td>Same</td>\n",
       "      <td>Muslim</td>\n",
       "      <td>Rural</td>\n",
       "      <td>High</td>\n",
       "      <td>No</td>\n",
       "      <td>No</td>\n",
       "      <td>No</td>\n",
       "      <td>Medium_No</td>\n",
       "    </tr>\n",
       "    <tr>\n",
       "      <th>3</th>\n",
       "      <td>26</td>\n",
       "      <td>Female</td>\n",
       "      <td>School</td>\n",
       "      <td>Different</td>\n",
       "      <td>Hindu</td>\n",
       "      <td>Urban</td>\n",
       "      <td>High</td>\n",
       "      <td>No</td>\n",
       "      <td>Yes</td>\n",
       "      <td>No</td>\n",
       "      <td>Low_No</td>\n",
       "    </tr>\n",
       "    <tr>\n",
       "      <th>4</th>\n",
       "      <td>32</td>\n",
       "      <td>Female</td>\n",
       "      <td>Graduate</td>\n",
       "      <td>Same</td>\n",
       "      <td>Hindu</td>\n",
       "      <td>Rural</td>\n",
       "      <td>Middle</td>\n",
       "      <td>No</td>\n",
       "      <td>No</td>\n",
       "      <td>Yes</td>\n",
       "      <td>Medium_No</td>\n",
       "    </tr>\n",
       "  </tbody>\n",
       "</table>\n",
       "</div>"
      ],
      "text/plain": [
       "   Age_at_Marriage  Gender Education_Level Caste_Match Religion Urban_Rural  \\\n",
       "0               23    Male        Graduate   Different    Hindu       Urban   \n",
       "1               28  Female          School        Same    Hindu       Rural   \n",
       "2               39    Male    Postgraduate        Same   Muslim       Rural   \n",
       "3               26  Female          School   Different    Hindu       Urban   \n",
       "4               32  Female        Graduate        Same    Hindu       Rural   \n",
       "\n",
       "  Income_Level Spouse_Working Inter-Caste Inter-Religion      target  \n",
       "0       Middle             No          No             No  Medium_Yes  \n",
       "1       Middle             No          No            Yes      Low_No  \n",
       "2         High             No          No             No   Medium_No  \n",
       "3         High             No         Yes             No      Low_No  \n",
       "4       Middle             No          No            Yes   Medium_No  "
      ]
     },
     "execution_count": 36,
     "metadata": {},
     "output_type": "execute_result"
    }
   ],
   "source": [
    "# df[\"target\"] =  df[\"Marital_Satisfaction\"].astype(str)+'_'+df[\"Divorce_Status\"].astype(str)\n",
    "# df.drop(columns=[\"Marital_Satisfaction\",\"Divorce_Status\",\"ID\"],inplace=True)\n",
    "# df.head()"
   ]
  },
  {
   "cell_type": "code",
   "execution_count": 37,
   "metadata": {},
   "outputs": [
    {
     "data": {
      "text/plain": [
       "Spouse_Working\n",
       "Yes    5047\n",
       "No     4953\n",
       "Name: count, dtype: int64"
      ]
     },
     "execution_count": 37,
     "metadata": {},
     "output_type": "execute_result"
    }
   ],
   "source": [
    "# df.shape\n",
    "# df[\"Spouse_Working\"].value_counts()"
   ]
  },
  {
   "cell_type": "code",
   "execution_count": 50,
   "metadata": {},
   "outputs": [],
   "source": [
    "# df.to_csv(\"../../data/processed/TrainingData/marriage_data_india.csv\", index=False)"
   ]
  },
  {
   "cell_type": "code",
   "execution_count": 19,
   "metadata": {},
   "outputs": [
    {
     "name": "stdout",
     "output_type": "stream",
     "text": [
      "1163.5\n",
      "before sampling Counter({'Medium_No': 3594, 'High_No': 2151, 'Low_No': 1454, 'Medium_Yes': 407, 'High_Yes': 243, 'Low_Yes': 151})\n",
      "median class size  930.5\n",
      "After Random Over Sampling to the majority class size Counter({'Medium_No': 3594, 'High_Yes': 3594, 'Low_No': 3594, 'High_No': 3594, 'Medium_Yes': 3594, 'Low_Yes': 3594})\n",
      "After Random Over Sampling to median class size Counter({'Medium_No': 3594, 'High_No': 2151, 'Low_No': 1454, 'High_Yes': 930, 'Medium_Yes': 930, 'Low_Yes': 930})\n",
      "After Random Under Sampling to median class size Counter({'High_No': 930, 'High_Yes': 930, 'Low_No': 930, 'Low_Yes': 930, 'Medium_No': 930, 'Medium_Yes': 930})\n"
     ]
    }
   ],
   "source": [
    "# Stratified random over sampling t\n",
    "\n",
    "x = df.drop(columns=[\"target\"])\n",
    "y = df[\"target\"]\n",
    "print((y.value_counts()).median())\n",
    "x_train,x_test,y_train,y_test = train_test_split(\n",
    "    x,y,test_size=0.2,stratify=y,random_state=42\n",
    ")\n",
    "\n",
    "print(\"before sampling\", Counter(y_train))\n",
    "\n",
    "val_count = y_train.value_counts()\n",
    "median_class_size = (val_count).median()\n",
    "print(\"median class size \", median_class_size)\n",
    "\n",
    "sampled_data = RandomOverSampler(sampling_strategy=\"not majority\", random_state=42)\n",
    "x_os,y_os= sampled_data.fit_resample(x_train,y_train)\n",
    "\n",
    "print(\"After Random Over Sampling to the majority class size\", Counter(y_os))\n",
    "\n",
    "\n",
    "\n",
    "\n",
    "sampled_data = RandomOverSampler(\n",
    "    sampling_strategy={\n",
    "        target_class: int(median_class_size) for target_class,count in val_count.items() if count < median_class_size\n",
    "    },random_state=42)\n",
    "x_os,y_os= sampled_data.fit_resample(x_train,y_train)\n",
    "\n",
    "sampled_data = RandomUnderSampler(\n",
    "    sampling_strategy={\n",
    "        target_class: int(median_class_size) for target_class,count in val_count.items() if count > median_class_size\n",
    "    },random_state=42)\n",
    "x_us,y_us= sampled_data.fit_resample(x_os,y_os)\n",
    "\n",
    "print(\"After Random Over Sampling to median class size\", Counter(y_os))\n",
    "print(\"After Random Under Sampling to median class size\", Counter(y_us))\n",
    "\n"
   ]
  },
  {
   "cell_type": "code",
   "execution_count": 28,
   "metadata": {},
   "outputs": [
    {
     "name": "stdout",
     "output_type": "stream",
     "text": [
      "weights  {'Medium_No': np.float64(0.0002226179875333927), 'High_No': np.float64(0.0003718854592785422), 'Low_No': np.float64(0.00055005500550055), 'Medium_Yes': np.float64(0.0019646365422396855), 'High_Yes': np.float64(0.003289473684210526), 'Low_Yes': np.float64(0.005319148936170213)}\n",
      "Total weight 0.011717817614932909\n",
      "probabilteies  {'Medium_No': np.float64(0.01899824650365727), 'High_No': np.float64(0.031736750946235945), 'Low_No': np.float64(0.04694176198813446), 'Medium_Yes': np.float64(0.16766232474347437), 'High_Yes': np.float64(0.28072408978430413), 'Low_Yes': np.float64(0.4539368260341939)}\n"
     ]
    }
   ],
   "source": [
    "# Roulette Wheel Technique for Resampling\n",
    "x_train = df.drop(columns=[\"target\"])\n",
    "y_train = df[\"target\"]\n",
    "\n",
    "val_count = dict(y_train.value_counts())\n",
    "\n",
    "weight_class = {cls: (1.0/count) for cls,count in val_count.items()}\n",
    "print(\"weights \",weight_class)\n",
    "total_weight = sum(weight_class.values())\n",
    "print(\"Total weight\",total_weight)\n",
    "probabilities = {cls: (wg/total_weight) for cls,wg in weight_class.items()}\n",
    "print(\"probabilteies \",probabilities)\n",
    "\n",
    "\n",
    "count_max = max(val_count.values())\n",
    "\n",
    "x_resample,y_resample = [],[]\n",
    "while True:\n",
    "    curr_count = Counter(y_train.to_list() + y_resample)\n",
    "    if all(c >= count_max for c in curr_count.values()):\n",
    "        break\n",
    "\n",
    "    choosen_class = random.choices(\n",
    "        population=list(probabilities.keys()),\n",
    "        weights=list(probabilities.values())\n",
    "    )[0]\n",
    "    if curr_count[choosen_class] >= count_max:\n",
    "        continue\n",
    "    record = x_train[y_train==choosen_class].sample(n=1,replace=True)\n",
    "    x_resample.append(record)\n",
    "    y_resample.append(choosen_class) \n",
    "\n"
   ]
  },
  {
   "cell_type": "code",
   "execution_count": 29,
   "metadata": {},
   "outputs": [
    {
     "name": "stdout",
     "output_type": "stream",
     "text": [
      "       Age_at_Marriage  Gender Education_Level Caste_Match Religion  \\\n",
      "0                   23    Male        Graduate   Different    Hindu   \n",
      "1                   28  Female          School        Same    Hindu   \n",
      "2                   39    Male    Postgraduate        Same   Muslim   \n",
      "3                   26  Female          School   Different    Hindu   \n",
      "4                   32  Female        Graduate        Same    Hindu   \n",
      "...                ...     ...             ...         ...      ...   \n",
      "26947               32  Female        Graduate        Same    Hindu   \n",
      "26948               22  Female          School   Different     Sikh   \n",
      "26949               33    Male          School        Same     Sikh   \n",
      "26950               33  Female          School        Same   Muslim   \n",
      "26951               33  Female        Graduate        Same     Sikh   \n",
      "\n",
      "      Urban_Rural Income_Level Spouse_Working Inter-Caste Inter-Religion  \n",
      "0           Urban       Middle             No          No             No  \n",
      "1           Rural       Middle             No          No            Yes  \n",
      "2           Rural         High             No          No             No  \n",
      "3           Urban         High             No         Yes             No  \n",
      "4           Rural       Middle             No          No            Yes  \n",
      "...           ...          ...            ...         ...            ...  \n",
      "26947       Rural       Middle            Yes          No             No  \n",
      "26948       Urban       Middle             No          No            Yes  \n",
      "26949       Urban          Low             No         Yes             No  \n",
      "26950       Urban       Middle            Yes         Yes            Yes  \n",
      "26951       Urban          Low             No          No             No  \n",
      "\n",
      "[26952 rows x 10 columns]\n"
     ]
    }
   ],
   "source": [
    "x_balanced = pd.concat([x_train]+ x_resample, ignore_index=True)\n",
    "y_balanced = pd.concat([y_train,pd.Series(y_resample)],ignore_index=True)\n",
    "\n",
    "rws_df_train = pd.DataFrame(x_balanced,columns=x_balanced.columns)\n",
    "rws_df_train[\"target\"] = y_balanced\n",
    "rws_df_train.to_csv(\"Training Data (RWS Oversampling).csv\",index=False)\n",
    "\n",
    "print(x_balanced)\n",
    "\n",
    "# print(\"Count after appling roulette wheel\",Counter(x_balanced),Counter(y_balanced))"
   ]
  },
  {
   "cell_type": "code",
   "execution_count": 80,
   "metadata": {},
   "outputs": [
    {
     "name": "stdout",
     "output_type": "stream",
     "text": [
      "{'Gender': LabelEncoder(), 'Education_Level': LabelEncoder(), 'Caste_Match': LabelEncoder(), 'Religion': LabelEncoder(), 'Urban_Rural': LabelEncoder(), 'Income_Level': LabelEncoder(), 'Spouse_Working': LabelEncoder(), 'Inter-Caste': LabelEncoder(), 'Inter-Religion': LabelEncoder()}\n"
     ]
    }
   ],
   "source": [
    "df = pd.read_csv(\"../../data/processed/TrainingData/marriage_data_india.csv\")\n",
    "\n",
    "X_train = df.drop(columns=[\"target\"])\n",
    "Y_train = df[\"target\"]\n",
    "\n",
    "val_count = (Y_train.value_counts())\n",
    "median_class_size = (val_count).median()\n",
    "encoders = {}\n",
    "# Encode all categorical columns\n",
    "for col in X_train.select_dtypes(include=['object']).columns:\n",
    "    le = LabelEncoder()\n",
    "    X_train[col] = le.fit_transform(X_train[col].astype(str))\n",
    "    encoders[col] =  le\n",
    "\n",
    "print(encoders)\n"
   ]
  },
  {
   "cell_type": "code",
   "execution_count": 81,
   "metadata": {},
   "outputs": [
    {
     "name": "stdout",
     "output_type": "stream",
     "text": [
      "Counter({'Medium_No': 4492, 'High_No': 2689, 'Low_No': 1818, 'Medium_Yes': 509, 'High_Yes': 304, 'Low_Yes': 188})\n",
      "Counter({'High_No': 509, 'Low_No': 509, 'Medium_No': 509, 'Medium_Yes': 509, 'High_Yes': 304, 'Low_Yes': 188})\n"
     ]
    }
   ],
   "source": [
    "# Cluster centroids Prototype undersampling\n",
    "print(Counter(y_train))\n",
    "\n",
    "strategy={\n",
    "    target_class: 509 for target_class,count in val_count.items() if count > 509\n",
    "}\n",
    "cc = ClusterCentroids(sampling_strategy=strategy,random_state=42)\n",
    "X_train,Y_train = cc.fit_resample(X_train,Y_train)\n",
    "    \n",
    "\n",
    "print(Counter(Y_train))"
   ]
  },
  {
   "cell_type": "code",
   "execution_count": 82,
   "metadata": {},
   "outputs": [
    {
     "data": {
      "text/plain": [
       "target\n",
       "High_No       509\n",
       "Low_No        509\n",
       "Medium_Yes    509\n",
       "Medium_No     509\n",
       "High_Yes      304\n",
       "Low_Yes       188\n",
       "Name: count, dtype: int64"
      ]
     },
     "execution_count": 82,
     "metadata": {},
     "output_type": "execute_result"
    }
   ],
   "source": [
    "train_dataset = pd.DataFrame(X_train,columns=X_train.columns)\n",
    "train_dataset[\"target\"] = Y_train\n",
    "\n",
    "train_dataset.to_csv(\"Testing Data CC undersampling.csv\",index=False)\n",
    "\n",
    "train_dataset[\"target\"].value_counts()"
   ]
  },
  {
   "cell_type": "code",
   "execution_count": 83,
   "metadata": {},
   "outputs": [
    {
     "name": "stdout",
     "output_type": "stream",
     "text": [
      "target\n",
      "High_No       509\n",
      "Low_No        509\n",
      "Medium_Yes    509\n",
      "Medium_No     509\n",
      "High_Yes      304\n",
      "Low_Yes       188\n",
      "Name: count, dtype: int64\n"
     ]
    }
   ],
   "source": [
    "# print(encoders)\n",
    "decoded_X_train = X_train.copy()\n",
    "\n",
    "for col, le in encoders.items():\n",
    "    decoded_X_train[col] = le.inverse_transform(decoded_X_train[col])\n",
    "    # print(decoded_X_train[col])\n",
    "\n",
    "dataset = decoded_X_train\n",
    "dataset[\"target\"] = Y_train  \n",
    "\n",
    "print(dataset[\"target\"].value_counts())\n",
    "\n",
    "# Save the decoded dataset, not the encoded one!\n",
    "dataset.to_csv(\"Testing Data CC undersampling.csv\", index=False)\n",
    "\n",
    "# print(\"File saved successfully with decoded categorical values\")\n"
   ]
  },
  {
   "cell_type": "code",
   "execution_count": 87,
   "metadata": {},
   "outputs": [],
   "source": [
    "with open('category_encoder.pkl','wb') as f:\n",
    "    pk.dump(encoders,f)"
   ]
  }
 ],
 "metadata": {
  "kernelspec": {
   "display_name": "Python 3",
   "language": "python",
   "name": "python3"
  },
  "language_info": {
   "codemirror_mode": {
    "name": "ipython",
    "version": 3
   },
   "file_extension": ".py",
   "mimetype": "text/x-python",
   "name": "python",
   "nbconvert_exporter": "python",
   "pygments_lexer": "ipython3",
   "version": "3.12.6"
  }
 },
 "nbformat": 4,
 "nbformat_minor": 2
}
