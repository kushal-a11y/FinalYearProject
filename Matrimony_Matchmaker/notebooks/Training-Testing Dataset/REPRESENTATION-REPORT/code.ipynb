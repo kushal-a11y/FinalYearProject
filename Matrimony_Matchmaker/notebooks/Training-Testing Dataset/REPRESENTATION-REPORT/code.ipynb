{
 "cells": [
  {
   "cell_type": "code",
   "execution_count": 4,
   "metadata": {},
   "outputs": [
    {
     "name": "stdout",
     "output_type": "stream",
     "text": [
      "           Feature                  Test_Type  P_Value Viable_Same_Sample\n",
      "0  Age_at_Marriage   T-Test (Mean Comparison)   0.0316       No (P ≤0.05)\n",
      "1           Gender  Chi-Square (Distribution)   0.2190      Yes (P >0.05)\n",
      "2  Education_Level  Chi-Square (Distribution)   0.6800      Yes (P >0.05)\n",
      "3      Caste_Match  Chi-Square (Distribution)   0.2779      Yes (P >0.05)\n",
      "4         Religion  Chi-Square (Distribution)   0.6743      Yes (P >0.05)\n",
      "5      Urban_Rural  Chi-Square (Distribution)   0.7944      Yes (P >0.05)\n",
      "6     Income_Level  Chi-Square (Distribution)   0.0055       No (P ≤0.05)\n",
      "7   Spouse_Working  Chi-Square (Distribution)   0.7738      Yes (P >0.05)\n",
      "8      Inter-Caste  Chi-Square (Distribution)   0.0920      Yes (P >0.05)\n",
      "9   Inter-Religion  Chi-Square (Distribution)   0.0822      Yes (P >0.05)\n"
     ]
    }
   ],
   "source": [
    "#Training data distribution for RWS Oversample\n",
    "import pandas as pd\n",
    "\n",
    "df = pd.read_csv(\"training-Data.csv\")\n",
    "print(df)"
   ]
  },
  {
   "cell_type": "code",
   "execution_count": 5,
   "metadata": {},
   "outputs": [
    {
     "name": "stdout",
     "output_type": "stream",
     "text": [
      "           Feature                  Test_Type  P_Value  \\\n",
      "0  Age_at_Marriage   T-Test (Mean Comparison)   0.3723   \n",
      "1           Gender  Chi-Square (Distribution)   0.3107   \n",
      "2  Education_Level  Chi-Square (Distribution)   0.6091   \n",
      "3      Caste_Match  Chi-Square (Distribution)   0.3729   \n",
      "4         Religion  Chi-Square (Distribution)   0.9689   \n",
      "5      Urban_Rural  Chi-Square (Distribution)   0.2822   \n",
      "6     Income_Level  Chi-Square (Distribution)   0.4548   \n",
      "7   Spouse_Working  Chi-Square (Distribution)   0.8027   \n",
      "8      Inter-Caste  Chi-Square (Distribution)   0.8757   \n",
      "9   Inter-Religion  Chi-Square (Distribution)   0.8554   \n",
      "\n",
      "  Justifiable_Representative  \n",
      "0              Yes (P >0.05)  \n",
      "1              Yes (P >0.05)  \n",
      "2              Yes (P >0.05)  \n",
      "3              Yes (P >0.05)  \n",
      "4              Yes (P >0.05)  \n",
      "5              Yes (P >0.05)  \n",
      "6              Yes (P >0.05)  \n",
      "7              Yes (P >0.05)  \n",
      "8              Yes (P >0.05)  \n",
      "9              Yes (P >0.05)  \n"
     ]
    }
   ],
   "source": [
    "#Testing data distribution \n",
    "\n",
    "df = pd.read_csv(\"testing-data.csv\")\n",
    "print(df)"
   ]
  }
 ],
 "metadata": {
  "kernelspec": {
   "display_name": "Python 3",
   "language": "python",
   "name": "python3"
  },
  "language_info": {
   "codemirror_mode": {
    "name": "ipython",
    "version": 3
   },
   "file_extension": ".py",
   "mimetype": "text/x-python",
   "name": "python",
   "nbconvert_exporter": "python",
   "pygments_lexer": "ipython3",
   "version": "3.12.6"
  }
 },
 "nbformat": 4,
 "nbformat_minor": 2
}
