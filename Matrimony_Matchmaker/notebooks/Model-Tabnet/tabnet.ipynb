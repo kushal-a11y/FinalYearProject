{
 "cells": [
  {
   "cell_type": "code",
   "execution_count": 1,
   "id": "c3fb0b4d",
   "metadata": {},
   "outputs": [],
   "source": [
    "import pandas as pd\n",
    "from pytorch_tabnet.tab_model import TabNetClassifier\n",
    "from sklearn.metrics import accuracy_score, classification_report\n",
    "import numpy as np"
   ]
  },
  {
   "cell_type": "code",
   "execution_count": 4,
   "id": "34e77a8e",
   "metadata": {},
   "outputs": [
    {
     "name": "stdout",
     "output_type": "stream",
     "text": [
      "0 - Age_at_Marriage\n",
      "1 - Gender\n",
      "2 - Education_Level\n",
      "3 - Caste_Match\n",
      "4 - Religion\n",
      "5 - Urban_Rural\n",
      "6 - Income_Level\n",
      "7 - Spouse_Working\n",
      "8 - Inter-Caste\n",
      "9 - Inter-Religion\n"
     ]
    }
   ],
   "source": [
    "train_df = pd.read_csv(\".././Training-Testing Dataset/Training Data (RWS Oversampling).csv\")\n",
    "test_df = pd.read_csv(\".././Training-Testing Dataset/Testing Data CC undersampling.csv\")\n",
    "\n",
    "target_col = \"target\"\n",
    "\n",
    "# Separate features and target\n",
    "X_train = train_df.drop(columns=[target_col]).values\n",
    "X_test  = test_df.drop(columns=[target_col]).values\n",
    "\n",
    "y_train = train_df[target_col].values\n",
    "y_test  = test_df[target_col].values\n",
    "\n",
    "\n",
    "for i, col in enumerate(train_df.drop(columns=[target_col]).columns):\n",
    "    print(i, \"-\", col)\n",
    "\n",
    "\n",
    "cat_idxs = [i for i, col in enumerate(train_df.drop(columns=[target_col]).columns)\n",
    "            if train_df[col].dtype == 'object']\n",
    "\n",
    "\n",
    "for idx in cat_idxs:\n",
    "    all_vals = pd.concat([train_df.iloc[:, idx], test_df.iloc[:, idx]])\n",
    "    codes, _ = pd.factorize(all_vals)\n",
    "    X_train[:, idx] = codes[:len(train_df)]\n",
    "    X_test[:, idx]  = codes[len(train_df):]\n",
    "\n",
    "\n",
    "X_train = X_train.astype(np.float32)\n",
    "X_test  = X_test.astype(np.float32)\n",
    "\n",
    "\n",
    "all_targets = pd.concat([train_df[target_col], test_df[target_col]])\n",
    "y_codes, _ = pd.factorize(all_targets)\n",
    "y_train = y_codes[:len(train_df)].astype(np.int64)\n",
    "y_test  = y_codes[len(train_df):].astype(np.int64)\n"
   ]
  },
  {
   "cell_type": "code",
   "execution_count": 5,
   "id": "d133cbdb",
   "metadata": {},
   "outputs": [
    {
     "name": "stderr",
     "output_type": "stream",
     "text": [
      "c:\\Python312\\Lib\\site-packages\\pytorch_tabnet\\abstract_model.py:82: UserWarning: Device used : cpu\n",
      "  warnings.warn(f\"Device used : {self.device}\")\n"
     ]
    },
    {
     "name": "stdout",
     "output_type": "stream",
     "text": [
      "epoch 0  | loss: 1.81364 | test_accuracy: 0.14517 |  0:00:04s\n",
      "epoch 1  | loss: 1.75313 | test_accuracy: 0.17286 |  0:00:08s\n",
      "epoch 2  | loss: 1.71961 | test_accuracy: 0.19541 |  0:00:11s\n",
      "epoch 3  | loss: 1.67877 | test_accuracy: 0.2322  |  0:00:15s\n",
      "epoch 4  | loss: 1.65368 | test_accuracy: 0.23695 |  0:00:18s\n",
      "epoch 5  | loss: 1.62617 | test_accuracy: 0.24763 |  0:00:21s\n",
      "epoch 6  | loss: 1.60021 | test_accuracy: 0.26068 |  0:00:24s\n",
      "epoch 7  | loss: 1.57416 | test_accuracy: 0.26266 |  0:00:27s\n",
      "epoch 8  | loss: 1.56491 | test_accuracy: 0.27255 |  0:00:30s\n",
      "epoch 9  | loss: 1.52951 | test_accuracy: 0.28441 |  0:00:32s\n",
      "epoch 10 | loss: 1.52684 | test_accuracy: 0.28956 |  0:00:35s\n",
      "epoch 11 | loss: 1.49985 | test_accuracy: 0.3034  |  0:00:38s\n",
      "epoch 12 | loss: 1.49287 | test_accuracy: 0.30934 |  0:00:46s\n",
      "epoch 13 | loss: 1.48121 | test_accuracy: 0.31725 |  0:00:49s\n",
      "epoch 14 | loss: 1.46613 | test_accuracy: 0.31646 |  0:00:52s\n",
      "epoch 15 | loss: 1.46219 | test_accuracy: 0.31131 |  0:00:55s\n",
      "epoch 16 | loss: 1.45134 | test_accuracy: 0.32437 |  0:00:58s\n",
      "epoch 17 | loss: 1.43521 | test_accuracy: 0.34059 |  0:01:00s\n",
      "epoch 18 | loss: 1.42358 | test_accuracy: 0.33979 |  0:01:03s\n",
      "epoch 19 | loss: 1.42408 | test_accuracy: 0.33663 |  0:01:06s\n",
      "epoch 20 | loss: 1.41611 | test_accuracy: 0.34731 |  0:01:08s\n",
      "epoch 21 | loss: 1.40569 | test_accuracy: 0.35245 |  0:01:11s\n",
      "epoch 22 | loss: 1.39743 | test_accuracy: 0.36669 |  0:01:14s\n",
      "epoch 23 | loss: 1.39248 | test_accuracy: 0.36867 |  0:01:16s\n",
      "epoch 24 | loss: 1.38338 | test_accuracy: 0.37935 |  0:01:19s\n",
      "epoch 25 | loss: 1.37873 | test_accuracy: 0.375   |  0:01:22s\n",
      "epoch 26 | loss: 1.37113 | test_accuracy: 0.37579 |  0:01:25s\n",
      "epoch 27 | loss: 1.35873 | test_accuracy: 0.36116 |  0:01:27s\n",
      "epoch 28 | loss: 1.36255 | test_accuracy: 0.3837  |  0:01:30s\n",
      "epoch 29 | loss: 1.35116 | test_accuracy: 0.38449 |  0:01:33s\n",
      "epoch 30 | loss: 1.3506  | test_accuracy: 0.38608 |  0:01:35s\n",
      "epoch 31 | loss: 1.33079 | test_accuracy: 0.375   |  0:01:38s\n",
      "epoch 32 | loss: 1.33978 | test_accuracy: 0.39715 |  0:01:41s\n",
      "epoch 33 | loss: 1.32956 | test_accuracy: 0.38766 |  0:01:43s\n",
      "epoch 34 | loss: 1.32209 | test_accuracy: 0.3932  |  0:01:46s\n",
      "epoch 35 | loss: 1.32201 | test_accuracy: 0.40269 |  0:01:49s\n",
      "epoch 36 | loss: 1.3205  | test_accuracy: 0.40348 |  0:01:51s\n",
      "epoch 37 | loss: 1.3088  | test_accuracy: 0.40032 |  0:01:54s\n",
      "epoch 38 | loss: 1.30901 | test_accuracy: 0.40506 |  0:01:57s\n",
      "epoch 39 | loss: 1.30364 | test_accuracy: 0.39873 |  0:02:00s\n",
      "epoch 40 | loss: 1.29691 | test_accuracy: 0.40388 |  0:02:02s\n",
      "epoch 41 | loss: 1.29031 | test_accuracy: 0.41179 |  0:02:05s\n",
      "epoch 42 | loss: 1.28217 | test_accuracy: 0.42168 |  0:02:07s\n",
      "epoch 43 | loss: 1.28602 | test_accuracy: 0.41574 |  0:02:10s\n",
      "epoch 44 | loss: 1.28858 | test_accuracy: 0.41653 |  0:02:12s\n",
      "epoch 45 | loss: 1.27639 | test_accuracy: 0.41693 |  0:02:15s\n",
      "epoch 46 | loss: 1.2758  | test_accuracy: 0.41495 |  0:02:17s\n",
      "epoch 47 | loss: 1.27009 | test_accuracy: 0.42049 |  0:02:20s\n",
      "epoch 48 | loss: 1.27904 | test_accuracy: 0.41733 |  0:02:23s\n",
      "epoch 49 | loss: 1.2777  | test_accuracy: 0.43354 |  0:02:25s\n",
      "epoch 50 | loss: 1.25313 | test_accuracy: 0.42761 |  0:02:28s\n",
      "epoch 51 | loss: 1.26259 | test_accuracy: 0.42959 |  0:02:30s\n",
      "epoch 52 | loss: 1.26068 | test_accuracy: 0.43078 |  0:02:33s\n",
      "epoch 53 | loss: 1.25231 | test_accuracy: 0.43157 |  0:02:35s\n",
      "epoch 54 | loss: 1.245   | test_accuracy: 0.42563 |  0:02:38s\n",
      "epoch 55 | loss: 1.25607 | test_accuracy: 0.42049 |  0:02:40s\n",
      "epoch 56 | loss: 1.24849 | test_accuracy: 0.43513 |  0:02:43s\n",
      "epoch 57 | loss: 1.24525 | test_accuracy: 0.43394 |  0:02:45s\n",
      "epoch 58 | loss: 1.23717 | test_accuracy: 0.43275 |  0:02:48s\n",
      "epoch 59 | loss: 1.24004 | test_accuracy: 0.43948 |  0:02:50s\n",
      "epoch 60 | loss: 1.24238 | test_accuracy: 0.44264 |  0:02:53s\n",
      "epoch 61 | loss: 1.23093 | test_accuracy: 0.43394 |  0:02:55s\n",
      "epoch 62 | loss: 1.22939 | test_accuracy: 0.44264 |  0:02:58s\n",
      "epoch 63 | loss: 1.22999 | test_accuracy: 0.43434 |  0:03:00s\n",
      "epoch 64 | loss: 1.22489 | test_accuracy: 0.44858 |  0:03:03s\n",
      "epoch 65 | loss: 1.22844 | test_accuracy: 0.43908 |  0:03:05s\n",
      "epoch 66 | loss: 1.22909 | test_accuracy: 0.44937 |  0:03:08s\n",
      "epoch 67 | loss: 1.22511 | test_accuracy: 0.44976 |  0:03:10s\n",
      "epoch 68 | loss: 1.22058 | test_accuracy: 0.46044 |  0:03:13s\n",
      "epoch 69 | loss: 1.21097 | test_accuracy: 0.46163 |  0:03:15s\n",
      "epoch 70 | loss: 1.20678 | test_accuracy: 0.45253 |  0:03:18s\n",
      "epoch 71 | loss: 1.21453 | test_accuracy: 0.44818 |  0:03:21s\n",
      "epoch 72 | loss: 1.22217 | test_accuracy: 0.45174 |  0:03:23s\n",
      "epoch 73 | loss: 1.20645 | test_accuracy: 0.45055 |  0:03:26s\n",
      "epoch 74 | loss: 1.22013 | test_accuracy: 0.45214 |  0:03:28s\n",
      "epoch 75 | loss: 1.21022 | test_accuracy: 0.44739 |  0:03:31s\n",
      "epoch 76 | loss: 1.20376 | test_accuracy: 0.46123 |  0:03:34s\n",
      "epoch 77 | loss: 1.21794 | test_accuracy: 0.45372 |  0:03:36s\n",
      "epoch 78 | loss: 1.20239 | test_accuracy: 0.46163 |  0:03:38s\n",
      "epoch 79 | loss: 1.20324 | test_accuracy: 0.46519 |  0:03:41s\n",
      "epoch 80 | loss: 1.20234 | test_accuracy: 0.47627 |  0:03:44s\n",
      "epoch 81 | loss: 1.20297 | test_accuracy: 0.47033 |  0:03:51s\n",
      "epoch 82 | loss: 1.19528 | test_accuracy: 0.46519 |  0:03:54s\n",
      "epoch 83 | loss: 1.19395 | test_accuracy: 0.45411 |  0:03:57s\n",
      "epoch 84 | loss: 1.19873 | test_accuracy: 0.44937 |  0:04:00s\n",
      "epoch 85 | loss: 1.19124 | test_accuracy: 0.4557  |  0:04:02s\n",
      "epoch 86 | loss: 1.19787 | test_accuracy: 0.46638 |  0:04:05s\n",
      "epoch 87 | loss: 1.1942  | test_accuracy: 0.46954 |  0:04:07s\n",
      "epoch 88 | loss: 1.17844 | test_accuracy: 0.46994 |  0:04:10s\n",
      "epoch 89 | loss: 1.18571 | test_accuracy: 0.46994 |  0:04:12s\n",
      "epoch 90 | loss: 1.19613 | test_accuracy: 0.4644  |  0:04:15s\n",
      "epoch 91 | loss: 1.1832  | test_accuracy: 0.46321 |  0:04:18s\n",
      "epoch 92 | loss: 1.18895 | test_accuracy: 0.46677 |  0:04:20s\n",
      "epoch 93 | loss: 1.17731 | test_accuracy: 0.47191 |  0:04:22s\n",
      "epoch 94 | loss: 1.18654 | test_accuracy: 0.45649 |  0:04:25s\n",
      "epoch 95 | loss: 1.18456 | test_accuracy: 0.47112 |  0:04:28s\n",
      "epoch 96 | loss: 1.18249 | test_accuracy: 0.46875 |  0:04:30s\n",
      "epoch 97 | loss: 1.17181 | test_accuracy: 0.46717 |  0:04:33s\n",
      "epoch 98 | loss: 1.18797 | test_accuracy: 0.46717 |  0:04:35s\n",
      "epoch 99 | loss: 1.18233 | test_accuracy: 0.46479 |  0:04:38s\n",
      "Stop training because you reached max_epochs = 100 with best_epoch = 80 and best_test_accuracy = 0.47627\n"
     ]
    },
    {
     "name": "stderr",
     "output_type": "stream",
     "text": [
      "c:\\Python312\\Lib\\site-packages\\pytorch_tabnet\\callbacks.py:172: UserWarning: Best weights from best epoch are automatically used!\n",
      "  warnings.warn(wrn_msg)\n"
     ]
    }
   ],
   "source": [
    "model = TabNetClassifier(\n",
    "    n_d=8,n_a=8,n_steps=3,\n",
    "    gamma=1.3,\n",
    "    n_independent=2,n_shared=2,\n",
    "    optimizer_params=dict(lr=1e-2),\n",
    "    mask_type='entmax'\n",
    ")\n",
    "\n",
    "model.fit(\n",
    "    X_train,y_train,\n",
    "    eval_set=[(X_test,y_test)],\n",
    "    eval_name=[\"test\"],\n",
    "    eval_metric=[\"accuracy\"],\n",
    "    max_epochs=100,\n",
    "    patience=20,\n",
    "    batch_size=256,\n",
    "    virtual_batch_size=128,\n",
    "    num_workers=0,\n",
    "    drop_last=False\n",
    ")"
   ]
  },
  {
   "cell_type": "code",
   "execution_count": 6,
   "id": "e58c1730",
   "metadata": {},
   "outputs": [
    {
     "name": "stdout",
     "output_type": "stream",
     "text": [
      "Successfully saved model at tabnet_matchmaking.zip.zip\n"
     ]
    },
    {
     "data": {
      "text/plain": [
       "'tabnet_matchmaking.zip.zip'"
      ]
     },
     "execution_count": 6,
     "metadata": {},
     "output_type": "execute_result"
    }
   ],
   "source": [
    "model.save_model(\"tabnet_matchmaking\")"
   ]
  },
  {
   "cell_type": "code",
   "execution_count": 19,
   "id": "4fc1c50a",
   "metadata": {},
   "outputs": [
    {
     "name": "stderr",
     "output_type": "stream",
     "text": [
      "c:\\Python312\\Lib\\site-packages\\pytorch_tabnet\\abstract_model.py:82: UserWarning: Device used : cpu\n",
      "  warnings.warn(f\"Device used : {self.device}\")\n"
     ]
    }
   ],
   "source": [
    "model = TabNetClassifier()\n",
    "model.load_model(\"tabnet_matchmaking.zip\")"
   ]
  },
  {
   "cell_type": "code",
   "execution_count": 23,
   "id": "f758f560",
   "metadata": {},
   "outputs": [
    {
     "name": "stdout",
     "output_type": "stream",
     "text": [
      "x_test_cc shape: (1128, 10)\n",
      "y_test_cc shape: (1128,)\n"
     ]
    }
   ],
   "source": [
    "test_df_cc = pd.read_csv(\".././Training-Testing Dataset/Testing data Undersampled(All).csv\")\n",
    "\n",
    "\n",
    "x_test_cc = test_df_cc.drop(columns=[target_col]).values\n",
    "y_test_cc = test_df_cc[target_col].values\n",
    "\n",
    "for idx in cat_idxs:\n",
    "    test_unique_vals = train_df.iloc[:, idx].unique()\n",
    "    mapping = {val: code for code, val in enumerate(test_unique_vals)}\n",
    "    x_test_cc[:, idx] = [mapping.get(v, -1) for v in x_test_cc[:, idx]]\n",
    "\n",
    "x_test_cc = x_test_cc.astype(np.float32)\n",
    "\n",
    "train_target_unique = train_df[target_col].unique()\n",
    "target_mapping = {val: code for code, val in enumerate(train_target_unique)}\n",
    "y_test_cc = np.array([target_mapping.get(v, -1) for v in y_test_cc], dtype=np.int64)\n",
    "\n",
    "y_test_cc = y_test_cc.astype(np.int64)\n",
    "  \n",
    "print(\"x_test_cc shape:\", x_test_cc.shape)\n",
    "print(\"y_test_cc shape:\", y_test_cc.shape)\n"
   ]
  },
  {
   "cell_type": "code",
   "execution_count": 24,
   "id": "b5db5e43",
   "metadata": {},
   "outputs": [
    {
     "name": "stdout",
     "output_type": "stream",
     "text": [
      "CC Test Accuracy: 0.5576241134751773\n",
      "              precision    recall  f1-score   support\n",
      "\n",
      "           0       0.53      0.91      0.67       188\n",
      "           1       0.33      0.27      0.30       188\n",
      "           2       0.27      0.09      0.14       188\n",
      "           3       0.43      0.16      0.23       188\n",
      "           4       0.74      0.99      0.85       188\n",
      "           5       0.65      0.93      0.77       188\n",
      "\n",
      "    accuracy                           0.56      1128\n",
      "   macro avg       0.49      0.56      0.49      1128\n",
      "weighted avg       0.49      0.56      0.49      1128\n",
      "\n"
     ]
    }
   ],
   "source": [
    "# Predict using your trained TabNet model\n",
    "y_pred_cc = model.predict(x_test_cc)\n",
    "\n",
    "acc = accuracy_score(y_test_cc, y_pred_cc)\n",
    "print(\"CC Test Accuracy:\", acc)\n",
    "\n",
    "# Detailed report\n",
    "print(classification_report(y_test_cc, y_pred_cc))"
   ]
  }
 ],
 "metadata": {
  "kernelspec": {
   "display_name": "Python 3",
   "language": "python",
   "name": "python3"
  },
  "language_info": {
   "codemirror_mode": {
    "name": "ipython",
    "version": 3
   },
   "file_extension": ".py",
   "mimetype": "text/x-python",
   "name": "python",
   "nbconvert_exporter": "python",
   "pygments_lexer": "ipython3",
   "version": "3.12.6"
  }
 },
 "nbformat": 4,
 "nbformat_minor": 5
}
