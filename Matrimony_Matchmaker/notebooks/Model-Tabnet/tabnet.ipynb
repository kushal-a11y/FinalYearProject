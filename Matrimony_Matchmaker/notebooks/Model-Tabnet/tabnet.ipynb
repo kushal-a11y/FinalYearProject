{
 "cells": [
  {
   "cell_type": "code",
   "execution_count": 2,
   "id": "c3fb0b4d",
   "metadata": {},
   "outputs": [],
   "source": [
    "import pandas as pd\n",
    "from pytorch_tabnet.tab_model import TabNetClassifier\n",
    "from sklearn.metrics import accuracy_score, classification_report\n",
    "import numpy as np"
   ]
  },
  {
   "cell_type": "code",
   "execution_count": 1,
   "id": "0841a9ed",
   "metadata": {},
   "outputs": [
    {
     "name": "stdout",
     "output_type": "stream",
     "text": [
      "Collecting pytorch-tabnet\n",
      "  Downloading pytorch_tabnet-4.1.0-py3-none-any.whl.metadata (15 kB)\n",
      "Requirement already satisfied: numpy>=1.17 in /home/codespace/.local/lib/python3.12/site-packages (from pytorch-tabnet) (2.3.1)\n",
      "Requirement already satisfied: scikit_learn>0.21 in /home/codespace/.local/lib/python3.12/site-packages (from pytorch-tabnet) (1.7.0)\n",
      "Requirement already satisfied: scipy>1.4 in /home/codespace/.local/lib/python3.12/site-packages (from pytorch-tabnet) (1.16.0)\n",
      "Requirement already satisfied: torch>=1.3 in /home/codespace/.local/lib/python3.12/site-packages (from pytorch-tabnet) (2.7.1+cpu)\n",
      "Collecting tqdm>=4.36 (from pytorch-tabnet)\n",
      "  Downloading tqdm-4.67.1-py3-none-any.whl.metadata (57 kB)\n",
      "Requirement already satisfied: joblib>=1.2.0 in /home/codespace/.local/lib/python3.12/site-packages (from scikit_learn>0.21->pytorch-tabnet) (1.5.1)\n",
      "Requirement already satisfied: threadpoolctl>=3.1.0 in /home/codespace/.local/lib/python3.12/site-packages (from scikit_learn>0.21->pytorch-tabnet) (3.6.0)\n",
      "Requirement already satisfied: filelock in /home/codespace/.local/lib/python3.12/site-packages (from torch>=1.3->pytorch-tabnet) (3.13.1)\n",
      "Requirement already satisfied: typing-extensions>=4.10.0 in /home/codespace/.local/lib/python3.12/site-packages (from torch>=1.3->pytorch-tabnet) (4.14.1)\n",
      "Requirement already satisfied: setuptools in /home/codespace/.local/lib/python3.12/site-packages (from torch>=1.3->pytorch-tabnet) (80.9.0)\n",
      "Requirement already satisfied: sympy>=1.13.3 in /home/codespace/.local/lib/python3.12/site-packages (from torch>=1.3->pytorch-tabnet) (1.13.3)\n",
      "Requirement already satisfied: networkx in /home/codespace/.local/lib/python3.12/site-packages (from torch>=1.3->pytorch-tabnet) (3.3)\n",
      "Requirement already satisfied: jinja2 in /home/codespace/.local/lib/python3.12/site-packages (from torch>=1.3->pytorch-tabnet) (3.1.6)\n",
      "Requirement already satisfied: fsspec in /home/codespace/.local/lib/python3.12/site-packages (from torch>=1.3->pytorch-tabnet) (2024.6.1)\n",
      "Requirement already satisfied: mpmath<1.4,>=1.1.0 in /home/codespace/.local/lib/python3.12/site-packages (from sympy>=1.13.3->torch>=1.3->pytorch-tabnet) (1.3.0)\n",
      "Requirement already satisfied: MarkupSafe>=2.0 in /home/codespace/.local/lib/python3.12/site-packages (from jinja2->torch>=1.3->pytorch-tabnet) (3.0.2)\n",
      "Downloading pytorch_tabnet-4.1.0-py3-none-any.whl (44 kB)\n",
      "Downloading tqdm-4.67.1-py3-none-any.whl (78 kB)\n",
      "Installing collected packages: tqdm, pytorch-tabnet\n",
      "\u001b[2K   \u001b[90m━━━━━━━━━━━━━━━━━━━━━━━━━━━━━━━━━━━━━━━━\u001b[0m \u001b[32m2/2\u001b[0m [pytorch-tabnet]m [pytorch-tabnet]\n",
      "\u001b[1A\u001b[2KSuccessfully installed pytorch-tabnet-4.1.0 tqdm-4.67.1\n",
      "\n",
      "\u001b[1m[\u001b[0m\u001b[34;49mnotice\u001b[0m\u001b[1;39;49m]\u001b[0m\u001b[39;49m A new release of pip is available: \u001b[0m\u001b[31;49m25.1.1\u001b[0m\u001b[39;49m -> \u001b[0m\u001b[32;49m25.2\u001b[0m\n",
      "\u001b[1m[\u001b[0m\u001b[34;49mnotice\u001b[0m\u001b[1;39;49m]\u001b[0m\u001b[39;49m To update, run: \u001b[0m\u001b[32;49mpython3 -m pip install --upgrade pip\u001b[0m\n"
     ]
    }
   ],
   "source": [
    "!pip install pytorch-tabnet\n"
   ]
  },
  {
   "cell_type": "code",
   "execution_count": 3,
   "id": "34e77a8e",
   "metadata": {},
   "outputs": [
    {
     "name": "stdout",
     "output_type": "stream",
     "text": [
      "0 - Age_at_Marriage\n",
      "1 - Gender\n",
      "2 - Education_Level\n",
      "3 - Caste_Match\n",
      "4 - Religion\n",
      "5 - Urban_Rural\n",
      "6 - Income_Level\n",
      "7 - Spouse_Working\n",
      "8 - Inter-Caste\n",
      "9 - Inter-Religion\n"
     ]
    }
   ],
   "source": [
    "train_df = pd.read_csv(\".././Training-Testing Dataset/Training Data (RWS Oversampling).csv\")\n",
    "test_df = pd.read_csv(\".././Training-Testing Dataset/Testing Data (RWS Oversampling).csv\")\n",
    "\n",
    "target_col = \"target\"\n",
    "\n",
    "# Separate features and target\n",
    "X_train = train_df.drop(columns=[target_col]).values\n",
    "X_test  = test_df.drop(columns=[target_col]).values\n",
    "\n",
    "y_train = train_df[target_col].values\n",
    "y_test  = test_df[target_col].values\n",
    "\n",
    "\n",
    "for i, col in enumerate(train_df.drop(columns=[target_col]).columns):\n",
    "    print(i, \"-\", col)\n",
    "\n",
    "\n",
    "cat_idxs = [i for i, col in enumerate(train_df.drop(columns=[target_col]).columns)\n",
    "            if train_df[col].dtype == 'object']\n",
    "\n",
    "\n",
    "for idx in cat_idxs:\n",
    "    all_vals = pd.concat([train_df.iloc[:, idx], test_df.iloc[:, idx]])\n",
    "    codes, _ = pd.factorize(all_vals)\n",
    "    X_train[:, idx] = codes[:len(train_df)]\n",
    "    X_test[:, idx]  = codes[len(train_df):]\n",
    "\n",
    "\n",
    "X_train = X_train.astype(np.float32)\n",
    "X_test  = X_test.astype(np.float32)\n",
    "\n",
    "\n",
    "all_targets = pd.concat([train_df[target_col], test_df[target_col]])\n",
    "y_codes, _ = pd.factorize(all_targets)\n",
    "y_train = y_codes[:len(train_df)].astype(np.int64)\n",
    "y_test  = y_codes[len(train_df):].astype(np.int64)\n"
   ]
  },
  {
   "cell_type": "code",
   "execution_count": 4,
   "id": "d133cbdb",
   "metadata": {},
   "outputs": [
    {
     "name": "stderr",
     "output_type": "stream",
     "text": [
      "/usr/local/python/3.12.1/lib/python3.12/site-packages/pytorch_tabnet/abstract_model.py:82: UserWarning: Device used : cpu\n",
      "  warnings.warn(f\"Device used : {self.device}\")\n"
     ]
    },
    {
     "name": "stdout",
     "output_type": "stream",
     "text": [
      "epoch 0  | loss: 1.79491 | test_accuracy: 0.17711 |  0:00:04s\n",
      "epoch 1  | loss: 1.66815 | test_accuracy: 0.25594 |  0:00:05s\n",
      "epoch 2  | loss: 1.58102 | test_accuracy: 0.39059 |  0:00:07s\n",
      "epoch 3  | loss: 1.50451 | test_accuracy: 0.41216 |  0:00:09s\n",
      "epoch 4  | loss: 1.43516 | test_accuracy: 0.44816 |  0:00:11s\n",
      "epoch 5  | loss: 1.39702 | test_accuracy: 0.49194 |  0:00:13s\n",
      "epoch 6  | loss: 1.36503 | test_accuracy: 0.49714 |  0:00:15s\n",
      "epoch 7  | loss: 1.34167 | test_accuracy: 0.53329 |  0:00:17s\n",
      "epoch 8  | loss: 1.31643 | test_accuracy: 0.53308 |  0:00:18s\n",
      "epoch 9  | loss: 1.28557 | test_accuracy: 0.56234 |  0:00:20s\n",
      "epoch 10 | loss: 1.27413 | test_accuracy: 0.5352  |  0:00:22s\n",
      "epoch 11 | loss: 1.26524 | test_accuracy: 0.55444 |  0:00:24s\n",
      "epoch 12 | loss: 1.24458 | test_accuracy: 0.56642 |  0:00:27s\n",
      "epoch 13 | loss: 1.2259  | test_accuracy: 0.56929 |  0:00:28s\n",
      "epoch 14 | loss: 1.21754 | test_accuracy: 0.58217 |  0:00:30s\n",
      "epoch 15 | loss: 1.2222  | test_accuracy: 0.59388 |  0:00:32s\n",
      "epoch 16 | loss: 1.2079  | test_accuracy: 0.57835 |  0:00:33s\n",
      "epoch 17 | loss: 1.19022 | test_accuracy: 0.59828 |  0:00:35s\n",
      "epoch 18 | loss: 1.18316 | test_accuracy: 0.60941 |  0:00:38s\n",
      "epoch 19 | loss: 1.15778 | test_accuracy: 0.62686 |  0:00:39s\n",
      "epoch 20 | loss: 1.16541 | test_accuracy: 0.61806 |  0:00:41s\n",
      "epoch 21 | loss: 1.15013 | test_accuracy: 0.59902 |  0:00:43s\n",
      "epoch 22 | loss: 1.14596 | test_accuracy: 0.61074 |  0:00:44s\n",
      "epoch 23 | loss: 1.145   | test_accuracy: 0.61212 |  0:00:46s\n",
      "epoch 24 | loss: 1.12822 | test_accuracy: 0.61811 |  0:00:48s\n",
      "epoch 25 | loss: 1.13498 | test_accuracy: 0.6101  |  0:00:50s\n",
      "epoch 26 | loss: 1.12269 | test_accuracy: 0.625   |  0:00:52s\n",
      "epoch 27 | loss: 1.1188  | test_accuracy: 0.62108 |  0:00:53s\n",
      "epoch 28 | loss: 1.11116 | test_accuracy: 0.62049 |  0:00:55s\n",
      "epoch 29 | loss: 1.10578 | test_accuracy: 0.62171 |  0:00:57s\n",
      "epoch 30 | loss: 1.09707 | test_accuracy: 0.63073 |  0:00:59s\n",
      "epoch 31 | loss: 1.10012 | test_accuracy: 0.62357 |  0:01:00s\n",
      "epoch 32 | loss: 1.09803 | test_accuracy: 0.62113 |  0:01:03s\n",
      "epoch 33 | loss: 1.09956 | test_accuracy: 0.6277  |  0:01:04s\n",
      "epoch 34 | loss: 1.08378 | test_accuracy: 0.63576 |  0:01:06s\n",
      "epoch 35 | loss: 1.07768 | test_accuracy: 0.62866 |  0:01:08s\n",
      "epoch 36 | loss: 1.08263 | test_accuracy: 0.62754 |  0:01:09s\n",
      "epoch 37 | loss: 1.08737 | test_accuracy: 0.62553 |  0:01:11s\n",
      "epoch 38 | loss: 1.0754  | test_accuracy: 0.63046 |  0:01:13s\n",
      "epoch 39 | loss: 1.07504 | test_accuracy: 0.63152 |  0:01:15s\n",
      "epoch 40 | loss: 1.07734 | test_accuracy: 0.64371 |  0:01:17s\n",
      "epoch 41 | loss: 1.07011 | test_accuracy: 0.64271 |  0:01:19s\n",
      "epoch 42 | loss: 1.06321 | test_accuracy: 0.63905 |  0:01:20s\n",
      "epoch 43 | loss: 1.06026 | test_accuracy: 0.63815 |  0:01:22s\n",
      "epoch 44 | loss: 1.06421 | test_accuracy: 0.6435  |  0:01:24s\n",
      "epoch 45 | loss: 1.06408 | test_accuracy: 0.6418  |  0:01:26s\n",
      "epoch 46 | loss: 1.06137 | test_accuracy: 0.6452  |  0:01:28s\n",
      "epoch 47 | loss: 1.05415 | test_accuracy: 0.63661 |  0:01:30s\n",
      "epoch 48 | loss: 1.06039 | test_accuracy: 0.63746 |  0:01:31s\n",
      "epoch 49 | loss: 1.05234 | test_accuracy: 0.64679 |  0:01:33s\n",
      "epoch 50 | loss: 1.05727 | test_accuracy: 0.64302 |  0:01:35s\n",
      "epoch 51 | loss: 1.04257 | test_accuracy: 0.63672 |  0:01:36s\n",
      "epoch 52 | loss: 1.0431  | test_accuracy: 0.64939 |  0:01:39s\n",
      "epoch 53 | loss: 1.04702 | test_accuracy: 0.63672 |  0:01:41s\n",
      "epoch 54 | loss: 1.05109 | test_accuracy: 0.64414 |  0:01:42s\n",
      "epoch 55 | loss: 1.04733 | test_accuracy: 0.64864 |  0:01:44s\n",
      "epoch 56 | loss: 1.03403 | test_accuracy: 0.65113 |  0:01:45s\n",
      "epoch 57 | loss: 1.02747 | test_accuracy: 0.65548 |  0:01:47s\n",
      "epoch 58 | loss: 1.03729 | test_accuracy: 0.65416 |  0:01:49s\n",
      "epoch 59 | loss: 1.03169 | test_accuracy: 0.65389 |  0:01:51s\n",
      "epoch 60 | loss: 1.02246 | test_accuracy: 0.64864 |  0:01:52s\n",
      "epoch 61 | loss: 1.02713 | test_accuracy: 0.64843 |  0:01:54s\n",
      "epoch 62 | loss: 1.02999 | test_accuracy: 0.6611  |  0:01:55s\n",
      "epoch 63 | loss: 1.0325  | test_accuracy: 0.66216 |  0:01:57s\n",
      "epoch 64 | loss: 1.02885 | test_accuracy: 0.64514 |  0:01:59s\n",
      "epoch 65 | loss: 1.02249 | test_accuracy: 0.64567 |  0:02:00s\n",
      "epoch 66 | loss: 1.02166 | test_accuracy: 0.66078 |  0:02:02s\n",
      "epoch 67 | loss: 1.02648 | test_accuracy: 0.65331 |  0:02:04s\n",
      "epoch 68 | loss: 1.02169 | test_accuracy: 0.65045 |  0:02:05s\n",
      "epoch 69 | loss: 1.02476 | test_accuracy: 0.6655  |  0:02:07s\n",
      "epoch 70 | loss: 1.01988 | test_accuracy: 0.65188 |  0:02:09s\n",
      "epoch 71 | loss: 1.0045  | test_accuracy: 0.66592 |  0:02:10s\n",
      "epoch 72 | loss: 1.00333 | test_accuracy: 0.66677 |  0:02:12s\n",
      "epoch 73 | loss: 1.01184 | test_accuracy: 0.6672  |  0:02:14s\n",
      "epoch 74 | loss: 1.0145  | test_accuracy: 0.66333 |  0:02:15s\n",
      "epoch 75 | loss: 1.00776 | test_accuracy: 0.66211 |  0:02:17s\n",
      "epoch 76 | loss: 1.01251 | test_accuracy: 0.66306 |  0:02:19s\n",
      "epoch 77 | loss: 1.0119  | test_accuracy: 0.65193 |  0:02:20s\n",
      "epoch 78 | loss: 1.00503 | test_accuracy: 0.65644 |  0:02:22s\n",
      "epoch 79 | loss: 1.00787 | test_accuracy: 0.66311 |  0:02:24s\n",
      "epoch 80 | loss: 1.00829 | test_accuracy: 0.65935 |  0:02:26s\n",
      "epoch 81 | loss: 1.00164 | test_accuracy: 0.67075 |  0:02:28s\n",
      "epoch 82 | loss: 1.00964 | test_accuracy: 0.66773 |  0:02:30s\n",
      "epoch 83 | loss: 1.00808 | test_accuracy: 0.669   |  0:02:32s\n",
      "epoch 84 | loss: 0.99853 | test_accuracy: 0.66969 |  0:02:34s\n",
      "epoch 85 | loss: 1.00067 | test_accuracy: 0.66566 |  0:02:37s\n",
      "epoch 86 | loss: 1.00784 | test_accuracy: 0.67017 |  0:02:39s\n",
      "epoch 87 | loss: 0.99363 | test_accuracy: 0.67743 |  0:02:41s\n",
      "epoch 88 | loss: 0.99706 | test_accuracy: 0.66566 |  0:02:42s\n",
      "epoch 89 | loss: 0.99397 | test_accuracy: 0.66349 |  0:02:44s\n",
      "epoch 90 | loss: 0.99093 | test_accuracy: 0.66635 |  0:02:46s\n",
      "epoch 91 | loss: 0.99159 | test_accuracy: 0.67541 |  0:02:48s\n",
      "epoch 92 | loss: 0.9923  | test_accuracy: 0.67351 |  0:02:49s\n",
      "epoch 93 | loss: 0.9954  | test_accuracy: 0.67372 |  0:02:51s\n",
      "epoch 94 | loss: 0.99541 | test_accuracy: 0.66407 |  0:02:53s\n",
      "epoch 95 | loss: 0.98961 | test_accuracy: 0.66089 |  0:02:55s\n",
      "epoch 96 | loss: 0.99553 | test_accuracy: 0.66751 |  0:02:57s\n",
      "epoch 97 | loss: 0.9905  | test_accuracy: 0.67451 |  0:02:58s\n",
      "epoch 98 | loss: 0.99883 | test_accuracy: 0.66179 |  0:03:00s\n",
      "epoch 99 | loss: 0.99236 | test_accuracy: 0.6822  |  0:03:03s\n",
      "Stop training because you reached max_epochs = 100 with best_epoch = 99 and best_test_accuracy = 0.6822\n"
     ]
    },
    {
     "name": "stderr",
     "output_type": "stream",
     "text": [
      "/usr/local/python/3.12.1/lib/python3.12/site-packages/pytorch_tabnet/callbacks.py:172: UserWarning: Best weights from best epoch are automatically used!\n",
      "  warnings.warn(wrn_msg)\n"
     ]
    }
   ],
   "source": [
    "model = TabNetClassifier(\n",
    "    n_d=8,n_a=8,n_steps=3,\n",
    "    gamma=1.3,\n",
    "    n_independent=2,n_shared=2,\n",
    "    optimizer_params=dict(lr=1e-2),\n",
    "    mask_type='entmax'\n",
    ")\n",
    "\n",
    "model.fit(\n",
    "    X_train,y_train,\n",
    "    eval_set=[(X_test,y_test)],\n",
    "    eval_name=[\"test\"],\n",
    "    eval_metric=[\"accuracy\"],\n",
    "    max_epochs=100,\n",
    "    patience=20,\n",
    "    batch_size=256,\n",
    "    virtual_batch_size=128,\n",
    "    num_workers=0,\n",
    "    drop_last=False\n",
    ")"
   ]
  },
  {
   "cell_type": "code",
   "execution_count": 5,
   "id": "f758f560",
   "metadata": {},
   "outputs": [
    {
     "name": "stdout",
     "output_type": "stream",
     "text": [
      "x_test_cc shape: (336, 10)\n",
      "y_test_cc shape: (336,)\n"
     ]
    }
   ],
   "source": [
    "test_df_cc = pd.read_csv(\".././Training-Testing Dataset/Testing Data (CC undersampling).csv\")\n",
    "\n",
    "\n",
    "x_test_cc = test_df_cc.drop(columns=[target_col]).values\n",
    "y_test_cc = test_df_cc[target_col].values\n",
    "\n",
    "for idx in cat_idxs:\n",
    "    test_unique_vals = train_df.iloc[:, idx].unique()\n",
    "    mapping = {val: code for code, val in enumerate(test_unique_vals)}\n",
    "    x_test_cc[:, idx] = [mapping.get(v, -1) for v in x_test_cc[:, idx]]\n",
    "\n",
    "x_test_cc = x_test_cc.astype(np.float32)\n",
    "\n",
    "train_target_unique = train_df[target_col].unique()\n",
    "target_mapping = {val: code for code, val in enumerate(train_target_unique)}\n",
    "y_test_cc = np.array([target_mapping.get(v, -1) for v in y_test_cc], dtype=np.int64)\n",
    "\n",
    "y_test_cc = y_test_cc.astype(np.int64)\n",
    "  \n",
    "print(\"x_test_cc shape:\", x_test_cc.shape)\n",
    "print(\"y_test_cc shape:\", y_test_cc.shape)\n"
   ]
  },
  {
   "cell_type": "code",
   "execution_count": 6,
   "id": "b5db5e43",
   "metadata": {},
   "outputs": [
    {
     "name": "stdout",
     "output_type": "stream",
     "text": [
      "CC Test Accuracy: 0.5327380952380952\n",
      "              precision    recall  f1-score   support\n",
      "\n",
      "           0       0.26      0.62      0.37        56\n",
      "           1       0.70      0.46      0.56        56\n",
      "           2       0.31      0.36      0.33        56\n",
      "           3       0.00      0.00      0.00        56\n",
      "           4       0.97      1.00      0.98        56\n",
      "           5       0.98      0.75      0.85        56\n",
      "\n",
      "    accuracy                           0.53       336\n",
      "   macro avg       0.54      0.53      0.52       336\n",
      "weighted avg       0.54      0.53      0.52       336\n",
      "\n"
     ]
    },
    {
     "name": "stderr",
     "output_type": "stream",
     "text": [
      "/home/codespace/.local/lib/python3.12/site-packages/sklearn/metrics/_classification.py:1706: UndefinedMetricWarning: Precision is ill-defined and being set to 0.0 in labels with no predicted samples. Use `zero_division` parameter to control this behavior.\n",
      "  _warn_prf(average, modifier, f\"{metric.capitalize()} is\", result.shape[0])\n",
      "/home/codespace/.local/lib/python3.12/site-packages/sklearn/metrics/_classification.py:1706: UndefinedMetricWarning: Precision is ill-defined and being set to 0.0 in labels with no predicted samples. Use `zero_division` parameter to control this behavior.\n",
      "  _warn_prf(average, modifier, f\"{metric.capitalize()} is\", result.shape[0])\n",
      "/home/codespace/.local/lib/python3.12/site-packages/sklearn/metrics/_classification.py:1706: UndefinedMetricWarning: Precision is ill-defined and being set to 0.0 in labels with no predicted samples. Use `zero_division` parameter to control this behavior.\n",
      "  _warn_prf(average, modifier, f\"{metric.capitalize()} is\", result.shape[0])\n"
     ]
    }
   ],
   "source": [
    "# Predict using your trained TabNet model\n",
    "y_pred_cc = model.predict(x_test_cc)\n",
    "\n",
    "acc = accuracy_score(y_test_cc, y_pred_cc)\n",
    "print(\"CC Test Accuracy:\", acc)\n",
    "\n",
    "# Detailed report\n",
    "print(classification_report(y_test_cc, y_pred_cc))"
   ]
  }
 ],
 "metadata": {
  "kernelspec": {
   "display_name": "Python 3",
   "language": "python",
   "name": "python3"
  },
  "language_info": {
   "codemirror_mode": {
    "name": "ipython",
    "version": 3
   },
   "file_extension": ".py",
   "mimetype": "text/x-python",
   "name": "python",
   "nbconvert_exporter": "python",
   "pygments_lexer": "ipython3",
   "version": "3.12.1"
  }
 },
 "nbformat": 4,
 "nbformat_minor": 5
}
