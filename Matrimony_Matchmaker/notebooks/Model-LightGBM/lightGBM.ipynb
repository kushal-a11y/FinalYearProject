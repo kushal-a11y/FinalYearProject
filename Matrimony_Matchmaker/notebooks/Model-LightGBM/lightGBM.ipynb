{
 "cells": [
  {
   "cell_type": "code",
   "execution_count": 1,
   "id": "09e10f3c",
   "metadata": {},
   "outputs": [],
   "source": [
    "# sdkvm"
   ]
  },
  {
   "cell_type": "code",
   "execution_count": 7,
   "id": "09bcba86",
   "metadata": {},
   "outputs": [],
   "source": [
    "import pandas as pd\n",
    "import joblib\n",
    "import lightgbm as lgbm\n",
    "from sklearn.preprocessing import LabelEncoder\n",
    "from sklearn.metrics import accuracy_score,classification_report"
   ]
  },
  {
   "cell_type": "code",
   "execution_count": 8,
   "id": "64d3356b",
   "metadata": {},
   "outputs": [
    {
     "name": "stdout",
     "output_type": "stream",
     "text": [
      "target\n",
      "Medium_Yes    4492\n",
      "Low_No        4492\n",
      "Medium_No     4492\n",
      "High_No       4492\n",
      "Low_Yes       4492\n",
      "High_Yes      4492\n",
      "Name: count, dtype: int64\n"
     ]
    }
   ],
   "source": [
    "train_df = pd.read_csv(\".././Training-Testing Dataset/Training Data (RWS Oversampling).csv\")\n",
    "test_df = pd.read_csv(\".././Training-Testing Dataset/Testing Data CC undersampling.csv\")\n",
    "target_col = \"target\"\n",
    "\n",
    "X_train = train_df.drop(columns=[target_col])\n",
    "X_test = test_df.drop(columns=[target_col])\n",
    "\n",
    "y_train = train_df[target_col]\n",
    "y_test  = test_df[target_col]\n",
    "\n",
    "print(y_train.value_counts())\n",
    "categorical_columns = [col for col in X_train.columns if X_train[col].dtype == 'object']\n",
    "\n",
    "for col in categorical_columns:\n",
    "    X_train[col] = X_train[col].astype(\"category\")\n",
    "    X_test[col] = X_test[col].astype(\"category\")\n",
    "\n",
    "#LGBM only accepts numerical data in the target columns\n",
    "le = LabelEncoder()\n",
    "y_train = le.fit_transform(y_train)\n",
    "y_test = le.fit_transform(y_test)\n",
    "\n",
    "train_set = lgbm.Dataset(X_train,label=y_train,categorical_feature=categorical_columns)\n",
    "test_set = lgbm.Dataset(X_test,label=y_test,categorical_feature=categorical_columns)\n"
   ]
  },
  {
   "cell_type": "code",
   "execution_count": 9,
   "id": "a1dcd9f6",
   "metadata": {},
   "outputs": [
    {
     "name": "stdout",
     "output_type": "stream",
     "text": [
      "6\n"
     ]
    }
   ],
   "source": [
    "print(len(set(y_train)))"
   ]
  },
  {
   "cell_type": "code",
   "execution_count": 10,
   "id": "ae7e6381",
   "metadata": {},
   "outputs": [],
   "source": [
    "params = {\n",
    "    'objective':'multiclass',\n",
    "    'num_class':len(set(y_train)),\n",
    "    'metric':'multi_error',\n",
    "    'learning_rate':0.09,\n",
    "    'num_leaves':70,\n",
    "    'max_depth':-1,\n",
    "    'verbose':-1\n",
    "}\n",
    "\n",
    "model = lgbm.train(params,train_set,valid_sets=[test_set],num_boost_round=500)"
   ]
  },
  {
   "cell_type": "code",
   "execution_count": 11,
   "id": "85d8eee7",
   "metadata": {},
   "outputs": [
    {
     "name": "stdout",
     "output_type": "stream",
     "text": [
      "Accuracy: 0.716376582278481\n",
      "              precision    recall  f1-score   support\n",
      "\n",
      "           0       0.59      0.46      0.52       509\n",
      "           1       0.88      0.98      0.93       304\n",
      "           2       0.65      0.57      0.61       509\n",
      "           3       0.86      1.00      0.93       188\n",
      "           4       0.52      0.60      0.56       509\n",
      "           5       0.91      0.97      0.94       509\n",
      "\n",
      "    accuracy                           0.72      2528\n",
      "   macro avg       0.74      0.76      0.75      2528\n",
      "weighted avg       0.71      0.72      0.71      2528\n",
      "\n"
     ]
    }
   ],
   "source": [
    "# Predict\n",
    "y_pred = model.predict(X_test)\n",
    "y_pred_classes = y_pred.argmax(axis=1)  # for multiclass\n",
    "print(\"Accuracy:\", accuracy_score(y_test, y_pred_classes))\n",
    "print(classification_report(y_test, y_pred_classes))"
   ]
  },
  {
   "cell_type": "code",
   "execution_count": 12,
   "id": "2608252c",
   "metadata": {},
   "outputs": [
    {
     "data": {
      "text/plain": [
       "['lightGBM_model.pkl']"
      ]
     },
     "execution_count": 12,
     "metadata": {},
     "output_type": "execute_result"
    }
   ],
   "source": [
    "joblib.dump(model,\"lightGBM_model.pkl\")"
   ]
  },
  {
   "cell_type": "code",
   "execution_count": 26,
   "id": "b93e5e55",
   "metadata": {},
   "outputs": [],
   "source": [
    "model = joblib.load(\"lightGBM_model.pkl\")"
   ]
  },
  {
   "cell_type": "code",
   "execution_count": 27,
   "id": "5b976390",
   "metadata": {},
   "outputs": [
    {
     "name": "stdout",
     "output_type": "stream",
     "text": [
      "target\n",
      "High_No       509\n",
      "Low_No        509\n",
      "Medium_Yes    509\n",
      "Medium_No     509\n",
      "High_Yes      304\n",
      "Low_Yes       188\n",
      "Name: count, dtype: int64\n"
     ]
    }
   ],
   "source": [
    "test_df = pd.read_csv(\".././Training-Testing Dataset/Testing Data CC undersampling.csv\")\n",
    "\n",
    "target_col = \"target\"   \n",
    "\n",
    "X_test = test_df.drop(columns=[target_col])\n",
    "\n",
    "y_test  = test_df[target_col]\n",
    "\n",
    "print(y_test.value_counts())\n",
    "\n",
    "for col in categorical_columns:\n",
    "    X_test[col] = X_test[col].astype(\"category\")\n",
    "\n",
    "y_test = le.fit_transform(y_test)\n"
   ]
  },
  {
   "cell_type": "code",
   "execution_count": 28,
   "id": "63d31a7d",
   "metadata": {},
   "outputs": [
    {
     "name": "stdout",
     "output_type": "stream",
     "text": [
      "Accuracy: 0.716376582278481\n",
      "              precision    recall  f1-score   support\n",
      "\n",
      "           0       0.59      0.46      0.52       509\n",
      "           1       0.88      0.98      0.93       304\n",
      "           2       0.65      0.57      0.61       509\n",
      "           3       0.86      1.00      0.93       188\n",
      "           4       0.52      0.60      0.56       509\n",
      "           5       0.91      0.97      0.94       509\n",
      "\n",
      "    accuracy                           0.72      2528\n",
      "   macro avg       0.74      0.76      0.75      2528\n",
      "weighted avg       0.71      0.72      0.71      2528\n",
      "\n"
     ]
    }
   ],
   "source": [
    "y_pred = model.predict(X_test)\n",
    "y_pred_classes = y_pred.argmax(axis=1)  # for multiclass\n",
    "print(\"Accuracy:\", accuracy_score(y_test, y_pred_classes))\n",
    "print(classification_report(y_test, y_pred_classes))"
   ]
  }
 ],
 "metadata": {
  "kernelspec": {
   "display_name": "Python 3",
   "language": "python",
   "name": "python3"
  },
  "language_info": {
   "codemirror_mode": {
    "name": "ipython",
    "version": 3
   },
   "file_extension": ".py",
   "mimetype": "text/x-python",
   "name": "python",
   "nbconvert_exporter": "python",
   "pygments_lexer": "ipython3",
   "version": "3.12.6"
  }
 },
 "nbformat": 4,
 "nbformat_minor": 5
}
