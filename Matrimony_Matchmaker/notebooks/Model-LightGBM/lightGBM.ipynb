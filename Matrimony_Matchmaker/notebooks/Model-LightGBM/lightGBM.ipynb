{
 "cells": [
  {
   "cell_type": "code",
   "execution_count": 2,
   "id": "09e10f3c",
   "metadata": {},
   "outputs": [
    {
     "name": "stdout",
     "output_type": "stream",
     "text": [
      "Requirement already satisfied: lightgbm in /usr/local/python/3.12.1/lib/python3.12/site-packages (4.6.0)\n",
      "Requirement already satisfied: numpy>=1.17.0 in /home/codespace/.local/lib/python3.12/site-packages (from lightgbm) (2.3.1)\n",
      "Requirement already satisfied: scipy in /home/codespace/.local/lib/python3.12/site-packages (from lightgbm) (1.16.0)\n",
      "\n",
      "\u001b[1m[\u001b[0m\u001b[34;49mnotice\u001b[0m\u001b[1;39;49m]\u001b[0m\u001b[39;49m A new release of pip is available: \u001b[0m\u001b[31;49m25.1.1\u001b[0m\u001b[39;49m -> \u001b[0m\u001b[32;49m25.2\u001b[0m\n",
      "\u001b[1m[\u001b[0m\u001b[34;49mnotice\u001b[0m\u001b[1;39;49m]\u001b[0m\u001b[39;49m To update, run: \u001b[0m\u001b[32;49mpython3 -m pip install --upgrade pip\u001b[0m\n",
      "Requirement already satisfied: pip in /home/codespace/.python/current/lib/python3.12/site-packages (25.1.1)\n",
      "Collecting pip\n",
      "  Downloading pip-25.2-py3-none-any.whl.metadata (4.7 kB)\n",
      "Downloading pip-25.2-py3-none-any.whl (1.8 MB)\n",
      "\u001b[2K   \u001b[90m━━━━━━━━━━━━━━━━━━━━━━━━━━━━━━━━━━━━━━━━\u001b[0m \u001b[32m1.8/1.8 MB\u001b[0m \u001b[31m8.3 MB/s\u001b[0m eta \u001b[36m0:00:00\u001b[0m-:--:--\u001b[0m\n",
      "\u001b[?25hInstalling collected packages: pip\n",
      "  Attempting uninstall: pip\n",
      "    Found existing installation: pip 25.1.1\n",
      "    Uninstalling pip-25.1.1:\n",
      "      Successfully uninstalled pip-25.1.1\n",
      "Successfully installed pip-25.2\n"
     ]
    }
   ],
   "source": [
    "!pip install lightgbm\n",
    "# !python3 -m pip install --upgrade pip"
   ]
  },
  {
   "cell_type": "code",
   "execution_count": 20,
   "id": "09bcba86",
   "metadata": {},
   "outputs": [],
   "source": [
    "import pandas as pd\n",
    "import lightgbm as lgbm\n",
    "from sklearn.preprocessing import LabelEncoder\n",
    "from sklearn.metrics import accuracy_score,classification_report"
   ]
  },
  {
   "cell_type": "code",
   "execution_count": 72,
   "id": "64d3356b",
   "metadata": {},
   "outputs": [
    {
     "name": "stdout",
     "output_type": "stream",
     "text": [
      "target\n",
      "Medium_No     4940\n",
      "High_No       4219\n",
      "Low_No        3872\n",
      "Medium_Yes    3347\n",
      "High_Yes      3266\n",
      "Low_Yes       3220\n",
      "Name: count, dtype: int64\n"
     ]
    }
   ],
   "source": [
    "train_df = pd.read_csv(\".././Training-Testing Dataset/Training Data (RWS Oversampling).csv\")\n",
    "test_df = pd.read_csv(\".././Training-Testing Dataset/Testing Data (RWS Oversampling).csv\")\n",
    "target_col = \"target\"\n",
    "\n",
    "X_train = train_df.drop(columns=[target_col])\n",
    "X_test = test_df.drop(columns=[target_col])\n",
    "\n",
    "y_train = train_df[target_col]\n",
    "y_test  = test_df[target_col]\n",
    "\n",
    "print(y_train.value_counts())\n",
    "categorical_columns = [col for col in X_train.columns if X_train[col].dtype == 'object']\n",
    "\n",
    "for col in categorical_columns:\n",
    "    X_train[col] = X_train[col].astype(\"category\")\n",
    "    X_test[col] = X_test[col].astype(\"category\")\n",
    "\n",
    "#LGBM only accepts numerical data in the target columns\n",
    "le = LabelEncoder()\n",
    "y_train = le.fit_transform(y_train)\n",
    "y_test = le.fit_transform(y_test)\n",
    "\n",
    "train_set = lgbm.Dataset(X_train,label=y_train,categorical_feature=categorical_columns)\n",
    "test_set = lgbm.Dataset(X_test,label=y_test,categorical_feature=categorical_columns)\n"
   ]
  },
  {
   "cell_type": "code",
   "execution_count": 23,
   "id": "a1dcd9f6",
   "metadata": {},
   "outputs": [
    {
     "name": "stdout",
     "output_type": "stream",
     "text": [
      "6\n"
     ]
    }
   ],
   "source": [
    "print(len(set(y_train)))"
   ]
  },
  {
   "cell_type": "code",
   "execution_count": 75,
   "id": "ae7e6381",
   "metadata": {},
   "outputs": [],
   "source": [
    "params = {\n",
    "    'objective':'multiclass',\n",
    "    'num_class':len(set(y_train)),\n",
    "    'metric':'multi_error',\n",
    "    'learning_rate':0.09,\n",
    "    'num_leaves':70,\n",
    "    'max_depth':-1,\n",
    "    'verbose':-1\n",
    "}\n",
    "\n",
    "model = lgbm.train(params,train_set,valid_sets=[test_set],num_boost_round=500)"
   ]
  },
  {
   "cell_type": "code",
   "execution_count": 76,
   "id": "85d8eee7",
   "metadata": {},
   "outputs": [
    {
     "name": "stdout",
     "output_type": "stream",
     "text": [
      "Accuracy: 0.9456106870229007\n",
      "              precision    recall  f1-score   support\n",
      "\n",
      "           0       0.92      0.90      0.91      3144\n",
      "           1       0.98      0.98      0.98      3144\n",
      "           2       0.92      0.95      0.94      3144\n",
      "           3       0.96      1.00      0.98      3144\n",
      "           4       0.93      0.85      0.89      3144\n",
      "           5       0.96      0.99      0.98      3144\n",
      "\n",
      "    accuracy                           0.95     18864\n",
      "   macro avg       0.95      0.95      0.94     18864\n",
      "weighted avg       0.95      0.95      0.94     18864\n",
      "\n"
     ]
    }
   ],
   "source": [
    "# Predict\n",
    "y_pred = model.predict(X_test)\n",
    "y_pred_classes = y_pred.argmax(axis=1)  # for multiclass\n",
    "print(\"Accuracy:\", accuracy_score(y_test, y_pred_classes))\n",
    "print(classification_report(y_test, y_pred_classes))"
   ]
  },
  {
   "cell_type": "code",
   "execution_count": 79,
   "id": "5b976390",
   "metadata": {},
   "outputs": [
    {
     "name": "stdout",
     "output_type": "stream",
     "text": [
      "target\n",
      "High_No       132\n",
      "High_Yes      132\n",
      "Low_No        132\n",
      "Low_Yes       132\n",
      "Medium_No     132\n",
      "Medium_Yes    132\n",
      "Name: count, dtype: int64\n"
     ]
    }
   ],
   "source": [
    "test_df = pd.read_csv(\".././Training-Testing Dataset/Training Data (CC undersampling).csv\")\n",
    "\n",
    "target_col = \"target\"\n",
    "\n",
    "X_test = test_df.drop(columns=[target_col])\n",
    "\n",
    "y_test  = test_df[target_col]\n",
    "\n",
    "print(y_test.value_counts())\n",
    "\n",
    "for col in categorical_columns:\n",
    "    X_test[col] = X_test[col].astype(\"category\")\n",
    "\n",
    "y_test = le.fit_transform(y_test)\n"
   ]
  },
  {
   "cell_type": "code",
   "execution_count": 78,
   "id": "63d31a7d",
   "metadata": {},
   "outputs": [
    {
     "name": "stdout",
     "output_type": "stream",
     "text": [
      "Accuracy: 0.5138888888888888\n",
      "              precision    recall  f1-score   support\n",
      "\n",
      "           0       0.27      0.33      0.29       132\n",
      "           1       0.93      0.75      0.83       132\n",
      "           2       0.32      0.20      0.24       132\n",
      "           3       0.90      0.81      0.85       132\n",
      "           4       0.27      0.52      0.36       132\n",
      "           5       0.91      0.48      0.63       132\n",
      "\n",
      "    accuracy                           0.51       792\n",
      "   macro avg       0.60      0.51      0.53       792\n",
      "weighted avg       0.60      0.51      0.53       792\n",
      "\n"
     ]
    }
   ],
   "source": [
    "y_pred = model.predict(X_test)\n",
    "y_pred_classes = y_pred.argmax(axis=1)  # for multiclass\n",
    "print(\"Accuracy:\", accuracy_score(y_test, y_pred_classes))\n",
    "print(classification_report(y_test, y_pred_classes))"
   ]
  }
 ],
 "metadata": {
  "kernelspec": {
   "display_name": "Python 3",
   "language": "python",
   "name": "python3"
  },
  "language_info": {
   "codemirror_mode": {
    "name": "ipython",
    "version": 3
   },
   "file_extension": ".py",
   "mimetype": "text/x-python",
   "name": "python",
   "nbconvert_exporter": "python",
   "pygments_lexer": "ipython3",
   "version": "3.12.1"
  }
 },
 "nbformat": 4,
 "nbformat_minor": 5
}
