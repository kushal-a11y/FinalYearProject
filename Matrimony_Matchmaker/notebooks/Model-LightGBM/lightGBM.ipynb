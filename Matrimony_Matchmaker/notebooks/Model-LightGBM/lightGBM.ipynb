{
 "cells": [
  {
   "cell_type": "code",
   "execution_count": 1,
   "id": "09e10f3c",
   "metadata": {},
   "outputs": [],
   "source": [
    "# sdkvm"
   ]
  },
  {
   "cell_type": "code",
   "execution_count": 31,
   "id": "09bcba86",
   "metadata": {},
   "outputs": [],
   "source": [
    "import pandas as pd\n",
    "import joblib\n",
    "import lightgbm as lgbm\n",
    "from sklearn.preprocessing import LabelEncoder\n",
    "from sklearn.metrics import accuracy_score,classification_report\n",
    "from sklearn.metrics import confusion_matrix, classification_report"
   ]
  },
  {
   "cell_type": "code",
   "execution_count": 35,
   "id": "64d3356b",
   "metadata": {},
   "outputs": [
    {
     "name": "stdout",
     "output_type": "stream",
     "text": [
      "target\n",
      "Medium_Yes    4492\n",
      "Low_No        4492\n",
      "Medium_No     4492\n",
      "High_No       4492\n",
      "Low_Yes       4492\n",
      "High_Yes      4492\n",
      "Name: count, dtype: int64\n"
     ]
    }
   ],
   "source": [
    "train_df = pd.read_csv(\".././Training-Testing Dataset/Training Data (RWS Oversampling).csv\")\n",
    "test_df = pd.read_csv(\".././Training-Testing Dataset/Testing Data (Representative).csv\")\n",
    "target_col = \"target\"\n",
    "\n",
    "X_train = train_df.drop(columns=[target_col])\n",
    "X_test = test_df.drop(columns=[target_col])\n",
    "\n",
    "y_train = train_df[target_col]\n",
    "y_test  = test_df[target_col]\n",
    "\n",
    "print(y_train.value_counts())\n",
    "categorical_columns = [col for col in X_train.columns if X_train[col].dtype == 'object']\n",
    "\n",
    "for col in categorical_columns:\n",
    "    X_train[col] = X_train[col].astype(\"category\")\n",
    "    X_test[col] = X_test[col].astype(\"category\")\n",
    "\n",
    "#LGBM only accepts numerical data in the target columns\n",
    "le = LabelEncoder()\n",
    "y_train = le.fit_transform(y_train)\n",
    "y_test = le.fit_transform(y_test)\n",
    "\n",
    "train_set = lgbm.Dataset(X_train,label=y_train,categorical_feature=categorical_columns)\n",
    "test_set = lgbm.Dataset(X_test,label=y_test,categorical_feature=categorical_columns)\n"
   ]
  },
  {
   "cell_type": "code",
   "execution_count": 36,
   "id": "92bcc514",
   "metadata": {},
   "outputs": [
    {
     "name": "stdout",
     "output_type": "stream",
     "text": [
      "0 → High_No\n",
      "1 → High_Yes\n",
      "2 → Low_No\n",
      "3 → Low_Yes\n",
      "4 → Medium_No\n",
      "5 → Medium_Yes\n"
     ]
    }
   ],
   "source": [
    "for i, cls in enumerate(le.classes_):\n",
    "    print(f\"{i} → {cls}\")"
   ]
  },
  {
   "cell_type": "code",
   "execution_count": 37,
   "id": "a1dcd9f6",
   "metadata": {},
   "outputs": [
    {
     "name": "stdout",
     "output_type": "stream",
     "text": [
      "6\n"
     ]
    }
   ],
   "source": [
    "print(len(set(y_train)))"
   ]
  },
  {
   "cell_type": "code",
   "execution_count": 38,
   "id": "ae7e6381",
   "metadata": {},
   "outputs": [],
   "source": [
    "params = {\n",
    "    'objective':'multiclass',\n",
    "    'num_class':len(set(y_train)),\n",
    "    'metric':'multi_logloss',\n",
    "    'learning_rate':0.09,\n",
    "    'num_leaves':170,\n",
    "    'max_depth':-1,\n",
    "    'verbose':-1\n",
    "}\n",
    "\n",
    "model = lgbm.train(params,train_set,valid_sets=[test_set],num_boost_round=500)"
   ]
  },
  {
   "cell_type": "code",
   "execution_count": 39,
   "id": "85d8eee7",
   "metadata": {},
   "outputs": [
    {
     "name": "stdout",
     "output_type": "stream",
     "text": [
      "              precision    recall  f1-score   support\n",
      "\n",
      "           0       0.85      0.83      0.84       672\n",
      "           1       0.68      0.99      0.81        76\n",
      "           2       0.76      0.85      0.80       455\n",
      "           3       0.63      1.00      0.77        47\n",
      "           4       0.95      0.80      0.87      1123\n",
      "           5       0.61      0.99      0.76       127\n",
      "\n",
      "    accuracy                           0.83      2500\n",
      "   macro avg       0.75      0.91      0.81      2500\n",
      "weighted avg       0.86      0.83      0.84      2500\n",
      "\n"
     ]
    }
   ],
   "source": [
    "# Predict\n",
    "y_pred = model.predict(X_test)\n",
    "y_pred_classes = y_pred.argmax(axis=1)  # for multiclass\n",
    "print(classification_report(y_test, y_pred_classes))"
   ]
  },
  {
   "cell_type": "code",
   "execution_count": 40,
   "id": "05753b2a",
   "metadata": {},
   "outputs": [
    {
     "name": "stdout",
     "output_type": "stream",
     "text": [
      "Test class counts: [ 672   76  455   47 1123  127]\n",
      "Confusion matrix:\n",
      " [[555  14  40   4  33  26]\n",
      " [  0  75   0   1   0   0]\n",
      " [ 22   7 386   9  14  17]\n",
      " [  0   0   0  47   0   0]\n",
      " [ 78  13  83  14 898  37]\n",
      " [  0   1   0   0   0 126]]\n"
     ]
    }
   ],
   "source": [
    "from sklearn.preprocessing import LabelEncoder\n",
    "import numpy as np\n",
    "le = LabelEncoder()\n",
    "y_encoded = le.fit_transform(y_test)   # Now all labels become 0,1,2,3,4,5\n",
    "\n",
    "np.bincount(y_encoded)\n",
    "print(\"Test class counts:\", np.bincount(y_encoded))\n",
    "cm = confusion_matrix(y_test, y_pred_classes)\n",
    "print(\"Confusion matrix:\\n\", cm)\n",
    "# Medium_No     1123\n",
    "# High_No        672\n",
    "# Low_No         455\n",
    "# Medium_Yes     127\n",
    "# High_Yes        76\n",
    "# Low_Yes         47"
   ]
  },
  {
   "cell_type": "code",
   "execution_count": 41,
   "id": "2608252c",
   "metadata": {},
   "outputs": [
    {
     "data": {
      "text/plain": [
       "['C:\\\\Users\\\\Administrator\\\\OneDrive\\\\Desktop\\\\FYP-MODELS\\\\lightGBM_model.pkl']"
      ]
     },
     "execution_count": 41,
     "metadata": {},
     "output_type": "execute_result"
    }
   ],
   "source": [
    "joblib.dump(model,r\"C:\\Users\\Administrator\\OneDrive\\Desktop\\FYP-MODELS\\lightGBM_model.pkl\")"
   ]
  },
  {
   "cell_type": "code",
   "execution_count": 42,
   "id": "b93e5e55",
   "metadata": {},
   "outputs": [],
   "source": [
    "model = joblib.load(r\"C:\\Users\\Administrator\\OneDrive\\Desktop\\FYP-MODELS\\lightGBM_model.pkl\")"
   ]
  },
  {
   "cell_type": "code",
   "execution_count": 43,
   "id": "5b976390",
   "metadata": {},
   "outputs": [
    {
     "name": "stdout",
     "output_type": "stream",
     "text": [
      "Index(['Age_at_Marriage', 'Gender', 'Education_Level', 'Caste_Match',\n",
      "       'Religion', 'Urban_Rural', 'Income_Level', 'Spouse_Working',\n",
      "       'Inter-Caste', 'Inter-Religion'],\n",
      "      dtype='object')\n",
      "target\n",
      "Medium_No     1123\n",
      "High_No        672\n",
      "Low_No         455\n",
      "Medium_Yes     127\n",
      "High_Yes        76\n",
      "Low_Yes         47\n",
      "Name: count, dtype: int64\n"
     ]
    }
   ],
   "source": [
    "test_df = pd.read_csv(r\"D:\\FinalYearProject\\Matrimony_Matchmaker\\notebooks\\Training-Testing Dataset\\Testing Data (Representative).csv\")\n",
    "\n",
    "target_col = \"target\"   \n",
    "\n",
    "X_test = test_df.drop(columns=[target_col])\n",
    "\n",
    "print(X_test.columns)\n",
    "y_test  = test_df[target_col]\n",
    "\n",
    "print(y_test.value_counts())\n",
    "\n",
    "for col in categorical_columns:\n",
    "    X_test[col] = X_test[col].astype(\"category\")\n",
    "\n",
    "y_test = le.fit_transform(y_test)"
   ]
  },
  {
   "cell_type": "code",
   "execution_count": 44,
   "id": "63d31a7d",
   "metadata": {},
   "outputs": [
    {
     "name": "stdout",
     "output_type": "stream",
     "text": [
      "Accuracy: 0.8348\n",
      "              precision    recall  f1-score   support\n",
      "\n",
      "           0       0.85      0.83      0.84       672\n",
      "           1       0.68      0.99      0.81        76\n",
      "           2       0.76      0.85      0.80       455\n",
      "           3       0.63      1.00      0.77        47\n",
      "           4       0.95      0.80      0.87      1123\n",
      "           5       0.61      0.99      0.76       127\n",
      "\n",
      "    accuracy                           0.83      2500\n",
      "   macro avg       0.75      0.91      0.81      2500\n",
      "weighted avg       0.86      0.83      0.84      2500\n",
      "\n"
     ]
    }
   ],
   "source": [
    "y_pred = model.predict(X_test)\n",
    "y_pred_classes = y_pred.argmax(axis=1)  # for multiclass\n",
    "print(\"Accuracy:\", accuracy_score(y_test, y_pred_classes))\n",
    "print(classification_report(y_test, y_pred_classes))"
   ]
  },
  {
   "cell_type": "code",
   "execution_count": 45,
   "id": "6a8eb7f6",
   "metadata": {},
   "outputs": [
    {
     "name": "stdout",
     "output_type": "stream",
     "text": [
      "Age_at_Marriage: 404.68\n",
      "Gender: 92.20\n",
      "Education_Level: 17.28\n",
      "Caste_Match: 65.95\n",
      "Religion: 14.06\n",
      "Urban_Rural: 83.51\n",
      "Income_Level: 127.19\n",
      "Spouse_Working: 89.78\n",
      "Inter-Caste: 60.75\n",
      "Inter-Religion: 44.60\n"
     ]
    }
   ],
   "source": [
    "sum_importance = sum(model.feature_importance())\n",
    "for i,j in zip(model.feature_name(), model.feature_importance()):\n",
    "    print(f\"{i}:{(j/sum_importance)*1000 : 0.2f}\")"
   ]
  },
  {
   "cell_type": "code",
   "execution_count": null,
   "id": "d2b76b02",
   "metadata": {},
   "outputs": [],
   "source": []
  }
 ],
 "metadata": {
  "kernelspec": {
   "display_name": "Python 3",
   "language": "python",
   "name": "python3"
  },
  "language_info": {
   "codemirror_mode": {
    "name": "ipython",
    "version": 3
   },
   "file_extension": ".py",
   "mimetype": "text/x-python",
   "name": "python",
   "nbconvert_exporter": "python",
   "pygments_lexer": "ipython3",
   "version": "3.12.6"
  }
 },
 "nbformat": 4,
 "nbformat_minor": 5
}
