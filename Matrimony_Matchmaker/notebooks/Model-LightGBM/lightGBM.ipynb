{
 "cells": [
  {
   "cell_type": "code",
   "execution_count": 1,
   "id": "09e10f3c",
   "metadata": {},
   "outputs": [],
   "source": [
    "# sdkvm"
   ]
  },
  {
   "cell_type": "code",
   "execution_count": 1,
   "id": "09bcba86",
   "metadata": {},
   "outputs": [],
   "source": [
    "import pandas as pd\n",
    "import joblib\n",
    "import lightgbm as lgbm\n",
    "from sklearn.preprocessing import LabelEncoder\n",
    "from sklearn.metrics import accuracy_score,classification_report"
   ]
  },
  {
   "cell_type": "code",
   "execution_count": 6,
   "id": "64d3356b",
   "metadata": {},
   "outputs": [
    {
     "name": "stdout",
     "output_type": "stream",
     "text": [
      "target\n",
      "Medium_Yes    4492\n",
      "Low_No        4492\n",
      "Medium_No     4492\n",
      "High_No       4492\n",
      "Low_Yes       4492\n",
      "High_Yes      4492\n",
      "Name: count, dtype: int64\n"
     ]
    }
   ],
   "source": [
    "train_df = pd.read_csv(\".././Training-Testing Dataset/Training Data (RWS Oversampling).csv\")\n",
    "test_df = pd.read_csv(\".././Training-Testing Dataset/Testing Data CC undersampling.csv\")\n",
    "target_col = \"target\"\n",
    "\n",
    "X_train = train_df.drop(columns=[target_col])\n",
    "X_test = test_df.drop(columns=[target_col])\n",
    "\n",
    "y_train = train_df[target_col]\n",
    "y_test  = test_df[target_col]\n",
    "\n",
    "print(y_train.value_counts())\n",
    "categorical_columns = [col for col in X_train.columns if X_train[col].dtype == 'object']\n",
    "\n",
    "for col in categorical_columns:\n",
    "    X_train[col] = X_train[col].astype(\"category\")\n",
    "    X_test[col] = X_test[col].astype(\"category\")\n",
    "\n",
    "#LGBM only accepts numerical data in the target columns\n",
    "le = LabelEncoder()\n",
    "y_train = le.fit_transform(y_train)\n",
    "y_test = le.fit_transform(y_test)\n",
    "\n",
    "train_set = lgbm.Dataset(X_train,label=y_train,categorical_feature=categorical_columns)\n",
    "test_set = lgbm.Dataset(X_test,label=y_test,categorical_feature=categorical_columns)\n"
   ]
  },
  {
   "cell_type": "code",
   "execution_count": 9,
   "id": "a1dcd9f6",
   "metadata": {},
   "outputs": [
    {
     "name": "stdout",
     "output_type": "stream",
     "text": [
      "6\n"
     ]
    }
   ],
   "source": [
    "print(len(set(y_train)))"
   ]
  },
  {
   "cell_type": "code",
   "execution_count": 7,
   "id": "ae7e6381",
   "metadata": {},
   "outputs": [],
   "source": [
    "params = {\n",
    "    'objective':'multiclass',\n",
    "    'num_class':len(set(y_train)),\n",
    "    'metric':'multi_error',\n",
    "    'learning_rate':0.09,\n",
    "    'num_leaves':170,\n",
    "    'max_depth':-1,\n",
    "    'verbose':-1\n",
    "}\n",
    "\n",
    "model = lgbm.train(params,train_set,valid_sets=[test_set],num_boost_round=500)"
   ]
  },
  {
   "cell_type": "code",
   "execution_count": 8,
   "id": "85d8eee7",
   "metadata": {},
   "outputs": [
    {
     "name": "stdout",
     "output_type": "stream",
     "text": [
      "Accuracy: 0.7179588607594937\n",
      "              precision    recall  f1-score   support\n",
      "\n",
      "           0       0.58      0.48      0.52       509\n",
      "           1       0.89      0.98      0.93       304\n",
      "           2       0.67      0.55      0.61       509\n",
      "           3       0.87      1.00      0.93       188\n",
      "           4       0.52      0.60      0.56       509\n",
      "           5       0.92      0.98      0.95       509\n",
      "\n",
      "    accuracy                           0.72      2528\n",
      "   macro avg       0.74      0.77      0.75      2528\n",
      "weighted avg       0.71      0.72      0.71      2528\n",
      "\n"
     ]
    }
   ],
   "source": [
    "# Predict\n",
    "y_pred = model.predict(X_test)\n",
    "y_pred_classes = y_pred.argmax(axis=1)  # for multiclass\n",
    "print(\"Accuracy:\", accuracy_score(y_test, y_pred_classes))\n",
    "print(classification_report(y_test, y_pred_classes))"
   ]
  },
  {
   "cell_type": "code",
   "execution_count": 12,
   "id": "2608252c",
   "metadata": {},
   "outputs": [
    {
     "data": {
      "text/plain": [
       "['lightGBM_model.pkl']"
      ]
     },
     "execution_count": 12,
     "metadata": {},
     "output_type": "execute_result"
    }
   ],
   "source": [
    "joblib.dump(model,\"lightGBM_model.pkl\")"
   ]
  },
  {
   "cell_type": "code",
   "execution_count": 3,
   "id": "b93e5e55",
   "metadata": {},
   "outputs": [],
   "source": [
    "model = joblib.load(\"lightGBM_model.pkl\")"
   ]
  },
  {
   "cell_type": "code",
   "execution_count": 13,
   "id": "5b976390",
   "metadata": {},
   "outputs": [
    {
     "name": "stdout",
     "output_type": "stream",
     "text": [
      "target\n",
      "Medium_Yes    4492\n",
      "Low_No        4492\n",
      "Medium_No     4492\n",
      "High_No       4492\n",
      "Low_Yes       4492\n",
      "High_Yes      4492\n",
      "Name: count, dtype: int64\n"
     ]
    }
   ],
   "source": [
    "test_df = pd.read_csv(\".././Training-Testing Dataset/Testing data Undersampled(All).csv\")\n",
    "\n",
    "target_col = \"target\"   \n",
    "\n",
    "X_test = test_df.drop(columns=[target_col])\n",
    "\n",
    "y_test  = test_df[target_col]\n",
    "\n",
    "print(y_test.value_counts())\n",
    "\n",
    "for col in categorical_columns:\n",
    "    X_test[col] = X_test[col].astype(\"category\")\n",
    "\n",
    "y_test = le.fit_transform(y_test)\n"
   ]
  },
  {
   "cell_type": "code",
   "execution_count": 14,
   "id": "63d31a7d",
   "metadata": {},
   "outputs": [
    {
     "name": "stdout",
     "output_type": "stream",
     "text": [
      "Accuracy: 0.9188557435440784\n",
      "              precision    recall  f1-score   support\n",
      "\n",
      "           0       0.90      0.86      0.88      4492\n",
      "           1       0.93      0.98      0.95      4492\n",
      "           2       0.90      0.90      0.90      4492\n",
      "           3       0.93      1.00      0.97      4492\n",
      "           4       0.94      0.80      0.86      4492\n",
      "           5       0.92      0.98      0.95      4492\n",
      "\n",
      "    accuracy                           0.92     26952\n",
      "   macro avg       0.92      0.92      0.92     26952\n",
      "weighted avg       0.92      0.92      0.92     26952\n",
      "\n"
     ]
    }
   ],
   "source": [
    "y_pred = model.predict(X_test)\n",
    "y_pred_classes = y_pred.argmax(axis=1)  # for multiclass\n",
    "print(\"Accuracy:\", accuracy_score(y_test, y_pred_classes))\n",
    "print(classification_report(y_test, y_pred_classes))"
   ]
  },
  {
   "cell_type": "code",
   "execution_count": 24,
   "id": "6a8eb7f6",
   "metadata": {},
   "outputs": [
    {
     "name": "stdout",
     "output_type": "stream",
     "text": [
      "Age_at_Marriage: 404.68\n",
      "Gender: 92.20\n",
      "Education_Level: 17.28\n",
      "Caste_Match: 65.95\n",
      "Religion: 14.06\n",
      "Urban_Rural: 83.51\n",
      "Income_Level: 127.19\n",
      "Spouse_Working: 89.78\n",
      "Inter-Caste: 60.75\n",
      "Inter-Religion: 44.60\n"
     ]
    }
   ],
   "source": [
    "sum_importance = sum(model.feature_importance())\n",
    "for i,j in zip(model.feature_name(), model.feature_importance()):\n",
    "    print(f\"{i}:{(j/sum_importance)*1000 : 0.2f}\")"
   ]
  }
 ],
 "metadata": {
  "kernelspec": {
   "display_name": "Python 3",
   "language": "python",
   "name": "python3"
  },
  "language_info": {
   "codemirror_mode": {
    "name": "ipython",
    "version": 3
   },
   "file_extension": ".py",
   "mimetype": "text/x-python",
   "name": "python",
   "nbconvert_exporter": "python",
   "pygments_lexer": "ipython3",
   "version": "3.12.6"
  }
 },
 "nbformat": 4,
 "nbformat_minor": 5
}
