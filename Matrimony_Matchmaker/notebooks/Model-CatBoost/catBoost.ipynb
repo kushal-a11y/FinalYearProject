{
 "cells": [
  {
   "cell_type": "code",
   "execution_count": 60,
   "id": "f5611c6a",
   "metadata": {},
   "outputs": [],
   "source": [
    "# If you ae new to go last cell"
   ]
  },
  {
   "cell_type": "code",
   "execution_count": null,
   "id": "2d8186a9",
   "metadata": {},
   "outputs": [],
   "source": [
    "from catboost import CatBoostClassifier, Pool\n",
    "from sklearn.metrics import confusion_matrix, classification_report\n",
    "import pandas as pd\n",
    "from sklearn.utils.class_weight import compute_class_weight\n",
    "from sklearn.model_selection import StratifiedKFold,GridSearchCV\n",
    "from sklearn.metrics import accuracy_score, classification_report,recall_score, f1_score\n",
    "import numpy as np\n",
    "import matplotlib.pyplot as plt"
   ]
  },
  {
   "cell_type": "code",
   "execution_count": 2,
   "id": "24b9997d",
   "metadata": {},
   "outputs": [
    {
     "name": "stdout",
     "output_type": "stream",
     "text": [
      "target\n",
      "Medium_Yes    4492\n",
      "Low_No        4492\n",
      "Medium_No     4492\n",
      "High_No       4492\n",
      "Low_Yes       4492\n",
      "High_Yes      4492\n",
      "Name: count, dtype: int64\n",
      "target\n",
      "Medium_No     1123\n",
      "High_No        672\n",
      "Low_No         455\n",
      "Medium_Yes     127\n",
      "High_Yes        76\n",
      "Low_Yes         47\n",
      "Name: count, dtype: int64\n"
     ]
    }
   ],
   "source": [
    "# Training Data (CC undersampling)===Testing Data (CC undersampling)\n",
    "train_df = pd.read_csv(\".././Training-Testing Dataset/Training Data (RWS Oversampling).csv\")\n",
    "test_df = pd.read_csv(\".././Training-Testing Dataset/Testing Data (Representative).csv\")\n",
    "# test_df = pd.read_csv(\".././Training-Testing Dataset/Testing Data (CC undersampling).csv\")\n",
    "\n",
    "X_train = train_df.drop(columns=[\"target\"])\n",
    "Y_train = train_df[\"target\"]\n",
    "X_test = test_df.drop(columns=[\"target\"])\n",
    "Y_test = test_df[\"target\"]\n",
    "\n",
    "\n",
    "print(Y_train.value_counts())\n",
    "print(Y_test.value_counts())\n"
   ]
  },
  {
   "cell_type": "code",
   "execution_count": 7,
   "id": "9d5a109f",
   "metadata": {},
   "outputs": [
    {
     "name": "stdout",
     "output_type": "stream",
     "text": [
      "{'High_No': 1, 'High_Yes': 1, 'Low_No': 1, 'Low_Yes': 1, 'Medium_No': 1, 'Medium_Yes': 1}\n"
     ]
    }
   ],
   "source": [
    "categorical_features = [col for col in X_train.columns if X_train[col].dtype == 'object']\n",
    "\n",
    "classes = np.unique(Y_train)\n",
    "class_weights = compute_class_weight(class_weight=\"balanced\", classes=classes,y=Y_train)\n",
    "class_weights_dict = dict(zip(classes, class_weights))\n",
    "for i,v in class_weights_dict.items():\n",
    "    class_weights_dict[i] = int(v)\n",
    "\n",
    "print(class_weights_dict)\n",
    "\n",
    "for col in categorical_features:\n",
    "    X_train[col] = X_train[col].astype('object')\n",
    "\n",
    "    X_test[col] = X_test[col].astype('object')\n",
    "\n",
    "# Y_train[\"target\"] = Y_train[\"target\"].astype(str)\n",
    "# Y_test[\"target\"] = Y_test[\"target\"].astype(str)\n",
    "\n",
    "train_pool = Pool(X_train,Y_train,cat_features=categorical_features)\n",
    "test_pool = Pool(X_test,Y_test,cat_features=categorical_features)"
   ]
  },
  {
   "cell_type": "code",
   "execution_count": 9,
   "id": "54fd086e",
   "metadata": {},
   "outputs": [],
   "source": [
    "model = CatBoostClassifier(\n",
    "    iterations=3000,\n",
    "    depth=10,\n",
    "    learning_rate=0.03,\n",
    "    l2_leaf_reg=0.8,\n",
    "    loss_function=\"MultiClass\",\n",
    "    eval_metric=\"MultiClass\", \n",
    "    early_stopping_rounds=200,\n",
    "    verbose=50,\n",
    "    random_state=42,\n",
    ")"
   ]
  },
  {
   "cell_type": "code",
   "execution_count": null,
   "id": "b7e62f6f",
   "metadata": {},
   "outputs": [
    {
     "name": "stdout",
     "output_type": "stream",
     "text": [
      "\n",
      "Starting CatBoost Training (Optimizing Weighted MultiClass Loss)...\n",
      "0:\tlearn: 1.7760279\ttest: 1.7844565\tbest: 1.7844565 (0)\ttotal: 716ms\tremaining: 35m 46s\n",
      "50:\tlearn: 1.4877519\ttest: 1.6429076\tbest: 1.6429076 (50)\ttotal: 27.2s\tremaining: 26m 10s\n",
      "100:\tlearn: 1.3719372\ttest: 1.5795306\tbest: 1.5795306 (100)\ttotal: 52.2s\tremaining: 24m 58s\n",
      "150:\tlearn: 1.3090584\ttest: 1.5449946\tbest: 1.5449946 (150)\ttotal: 1m 15s\tremaining: 23m 48s\n",
      "200:\tlearn: 1.2658880\ttest: 1.5223729\tbest: 1.5223729 (200)\ttotal: 1m 37s\tremaining: 22m 33s\n",
      "250:\tlearn: 1.2327710\ttest: 1.5062350\tbest: 1.5062350 (250)\ttotal: 1m 58s\tremaining: 21m 38s\n",
      "300:\tlearn: 1.1725446\ttest: 1.4739991\tbest: 1.4739991 (300)\ttotal: 2m 22s\tremaining: 21m 14s\n",
      "350:\tlearn: 1.0849284\ttest: 1.4205081\tbest: 1.4205081 (350)\ttotal: 2m 48s\tremaining: 21m 14s\n",
      "400:\tlearn: 0.9581935\ttest: 1.3337836\tbest: 1.3337836 (400)\ttotal: 3m 18s\tremaining: 21m 28s\n",
      "450:\tlearn: 0.8438771\ttest: 1.2436255\tbest: 1.2436255 (450)\ttotal: 3m 48s\tremaining: 21m 29s\n",
      "500:\tlearn: 0.7665388\ttest: 1.1797955\tbest: 1.1797955 (500)\ttotal: 4m 18s\tremaining: 21m 27s\n",
      "550:\tlearn: 0.7030373\ttest: 1.1264789\tbest: 1.1264789 (550)\ttotal: 4m 49s\tremaining: 21m 28s\n",
      "600:\tlearn: 0.6442259\ttest: 1.0752764\tbest: 1.0752764 (600)\ttotal: 5m 21s\tremaining: 21m 24s\n",
      "650:\tlearn: 0.6061610\ttest: 1.0421520\tbest: 1.0421520 (650)\ttotal: 5m 53s\tremaining: 21m 13s\n",
      "700:\tlearn: 0.5678237\ttest: 1.0084073\tbest: 1.0084073 (700)\ttotal: 6m 22s\tremaining: 20m 54s\n",
      "750:\tlearn: 0.5356501\ttest: 0.9804991\tbest: 0.9804991 (750)\ttotal: 6m 52s\tremaining: 20m 34s\n",
      "800:\tlearn: 0.5076175\ttest: 0.9586614\tbest: 0.9586614 (800)\ttotal: 7m 23s\tremaining: 20m 18s\n",
      "850:\tlearn: 0.4825280\ttest: 0.9392108\tbest: 0.9392108 (850)\ttotal: 7m 58s\tremaining: 20m 8s\n",
      "900:\tlearn: 0.4608204\ttest: 0.9218028\tbest: 0.9218028 (900)\ttotal: 8m 30s\tremaining: 19m 49s\n",
      "950:\tlearn: 0.4415191\ttest: 0.9083955\tbest: 0.9083955 (950)\ttotal: 9m 4s\tremaining: 19m 32s\n",
      "1000:\tlearn: 0.4227705\ttest: 0.8955162\tbest: 0.8955162 (1000)\ttotal: 9m 38s\tremaining: 19m 15s\n",
      "1050:\tlearn: 0.4044751\ttest: 0.8813888\tbest: 0.8813888 (1050)\ttotal: 10m 12s\tremaining: 18m 55s\n",
      "1100:\tlearn: 0.3890556\ttest: 0.8698022\tbest: 0.8698022 (1100)\ttotal: 10m 42s\tremaining: 18m 28s\n",
      "1150:\tlearn: 0.3748191\ttest: 0.8597517\tbest: 0.8597517 (1150)\ttotal: 11m 18s\tremaining: 18m 9s\n",
      "1200:\tlearn: 0.3619240\ttest: 0.8512378\tbest: 0.8512378 (1200)\ttotal: 12m 2s\tremaining: 18m 1s\n",
      "1250:\tlearn: 0.3488608\ttest: 0.8430466\tbest: 0.8430042 (1249)\ttotal: 12m 34s\tremaining: 17m 34s\n",
      "1300:\tlearn: 0.3364622\ttest: 0.8353248\tbest: 0.8353248 (1300)\ttotal: 13m 9s\tremaining: 17m 11s\n",
      "1350:\tlearn: 0.3253664\ttest: 0.8291166\tbest: 0.8291166 (1350)\ttotal: 13m 39s\tremaining: 16m 40s\n",
      "1400:\tlearn: 0.3154378\ttest: 0.8227505\tbest: 0.8227153 (1399)\ttotal: 14m 11s\tremaining: 16m 12s\n",
      "1450:\tlearn: 0.3057654\ttest: 0.8163790\tbest: 0.8163790 (1450)\ttotal: 14m 42s\tremaining: 15m 42s\n",
      "1500:\tlearn: 0.2966228\ttest: 0.8109714\tbest: 0.8108464 (1498)\ttotal: 15m 14s\tremaining: 15m 13s\n",
      "1550:\tlearn: 0.2882695\ttest: 0.8072430\tbest: 0.8072430 (1550)\ttotal: 15m 45s\tremaining: 14m 43s\n",
      "1600:\tlearn: 0.2795309\ttest: 0.8028108\tbest: 0.8028108 (1600)\ttotal: 16m 17s\tremaining: 14m 13s\n",
      "1650:\tlearn: 0.2716835\ttest: 0.7988713\tbest: 0.7988713 (1650)\ttotal: 16m 48s\tremaining: 13m 43s\n",
      "1700:\tlearn: 0.2644778\ttest: 0.7941070\tbest: 0.7941070 (1700)\ttotal: 17m 19s\tremaining: 13m 13s\n",
      "1750:\tlearn: 0.2574416\ttest: 0.7913574\tbest: 0.7913574 (1750)\ttotal: 17m 50s\tremaining: 12m 43s\n",
      "1800:\tlearn: 0.2502600\ttest: 0.7880037\tbest: 0.7878461 (1795)\ttotal: 18m 24s\tremaining: 12m 14s\n",
      "1850:\tlearn: 0.2438077\ttest: 0.7855835\tbest: 0.7855835 (1850)\ttotal: 18m 55s\tremaining: 11m 45s\n",
      "1900:\tlearn: 0.2376780\ttest: 0.7832620\tbest: 0.7832620 (1900)\ttotal: 19m 27s\tremaining: 11m 15s\n",
      "1950:\tlearn: 0.2319691\ttest: 0.7805299\tbest: 0.7805299 (1950)\ttotal: 20m\tremaining: 10m 45s\n",
      "2000:\tlearn: 0.2267013\ttest: 0.7783912\tbest: 0.7783912 (2000)\ttotal: 20m 33s\tremaining: 10m 15s\n",
      "2050:\tlearn: 0.2216173\ttest: 0.7766186\tbest: 0.7766186 (2050)\ttotal: 21m 8s\tremaining: 9m 46s\n",
      "2100:\tlearn: 0.2167231\ttest: 0.7746368\tbest: 0.7745656 (2087)\ttotal: 21m 40s\tremaining: 9m 16s\n",
      "2150:\tlearn: 0.2119098\ttest: 0.7736343\tbest: 0.7736343 (2150)\ttotal: 22m 12s\tremaining: 8m 45s\n",
      "2200:\tlearn: 0.2071416\ttest: 0.7721990\tbest: 0.7721813 (2199)\ttotal: 22m 45s\tremaining: 8m 15s\n",
      "2250:\tlearn: 0.2032940\ttest: 0.7718750\tbest: 0.7716276 (2226)\ttotal: 23m 19s\tremaining: 7m 45s\n",
      "2300:\tlearn: 0.1995305\ttest: 0.7717190\tbest: 0.7715761 (2286)\ttotal: 23m 51s\tremaining: 7m 14s\n",
      "2350:\tlearn: 0.1952722\ttest: 0.7716900\tbest: 0.7712248 (2328)\ttotal: 24m 23s\tremaining: 6m 43s\n",
      "2400:\tlearn: 0.1917294\ttest: 0.7705827\tbest: 0.7705010 (2399)\ttotal: 24m 54s\tremaining: 6m 12s\n",
      "2450:\tlearn: 0.1880810\ttest: 0.7692840\tbest: 0.7692187 (2449)\ttotal: 25m 26s\tremaining: 5m 42s\n",
      "2500:\tlearn: 0.1844717\ttest: 0.7692848\tbest: 0.7689882 (2473)\ttotal: 26m\tremaining: 5m 11s\n",
      "2550:\tlearn: 0.1810903\ttest: 0.7688941\tbest: 0.7686434 (2545)\ttotal: 26m 34s\tremaining: 4m 40s\n",
      "2600:\tlearn: 0.1773906\ttest: 0.7684724\tbest: 0.7684500 (2599)\ttotal: 27m 6s\tremaining: 4m 9s\n",
      "2650:\tlearn: 0.1741788\ttest: 0.7695445\tbest: 0.7682512 (2616)\ttotal: 27m 37s\tremaining: 3m 38s\n",
      "2700:\tlearn: 0.1708588\ttest: 0.7693296\tbest: 0.7682512 (2616)\ttotal: 28m 9s\tremaining: 3m 7s\n",
      "2750:\tlearn: 0.1678336\ttest: 0.7701378\tbest: 0.7682512 (2616)\ttotal: 28m 42s\tremaining: 2m 35s\n",
      "2800:\tlearn: 0.1646124\ttest: 0.7716258\tbest: 0.7682512 (2616)\ttotal: 29m 14s\tremaining: 2m 4s\n",
      "Stopped by overfitting detector  (200 iterations wait)\n",
      "\n",
      "bestTest = 0.7682511705\n",
      "bestIteration = 2616\n",
      "\n",
      "Shrink model to first 2617 iterations.\n",
      "[[446  22  61   9  92  42]\n",
      " [  0  71   3   0   0   2]\n",
      " [ 37  13 330  11  43  21]\n",
      " [  0   1   0  46   0   0]\n",
      " [150  44 107  22 747  53]\n",
      " [  2   1   1   0   2 121]]\n",
      "\n",
      "Classification Report:\n",
      "              precision    recall  f1-score   support\n",
      "\n",
      "     High_No       0.70      0.66      0.68       672\n",
      "    High_Yes       0.47      0.93      0.62        76\n",
      "      Low_No       0.66      0.73      0.69       455\n",
      "     Low_Yes       0.52      0.98      0.68        47\n",
      "   Medium_No       0.85      0.67      0.74      1123\n",
      "  Medium_Yes       0.51      0.95      0.66       127\n",
      "\n",
      "    accuracy                           0.70      2500\n",
      "   macro avg       0.62      0.82      0.68      2500\n",
      "weighted avg       0.74      0.70      0.71      2500\n",
      "\n",
      "Best Iteration: 2616\n",
      "Macro Recall Score (The Goal Metric): 82.00%\n",
      "Weighted F1 Score: 70.87%\n"
     ]
    }
   ],
   "source": [
    "print(\"\\nStarting CatBoost Training (Optimizing Weighted MultiClass Loss)...\")\n",
    "model.fit(train_pool,eval_set=test_pool)\n",
    "\n",
    "y_pred_labels = model.predict(X_test).flatten()\n",
    "\n",
    "# Evaluation: Still use scikit-learn for the final, explicit Macro Recall score\n",
    "macro_recall = recall_score(Y_test, y_pred_labels, average='macro')\n",
    "weighted_f1 = f1_score(Y_test, y_pred_labels, average='weighted')\n",
    "\n",
    "print(\"\\nClassification Report:\")\n",
    "print(classification_report(Y_test, y_pred_labels))\n",
    "\n",
    "print(f\"Best Iteration: {model.get_best_iteration()}\")\n",
    "print(f\"Macro Recall Score (The Goal Metric): {macro_recall * 100:.2f}%\")\n",
    "print(f\"Weighted F1 Score: {weighted_f1 * 100:.2f}%\")"
   ]
  },
  {
   "cell_type": "code",
   "execution_count": null,
   "id": "a615e500",
   "metadata": {},
   "outputs": [
    {
     "name": "stdout",
     "output_type": "stream",
     "text": [
      "Test class counts: [ 672   76  455   47 1123  127]\n",
      "Confusion matrix:\n",
      " [[446  22  61   9  92  42]\n",
      " [  0  71   3   0   0   2]\n",
      " [ 37  13 330  11  43  21]\n",
      " [  0   1   0  46   0   0]\n",
      " [150  44 107  22 747  53]\n",
      " [  2   1   1   0   2 121]]\n",
      "\n",
      "Class report:\n",
      "               precision    recall  f1-score   support\n",
      "\n",
      "     High_No     0.7024    0.6637    0.6825       672\n",
      "    High_Yes     0.4671    0.9342    0.6228        76\n",
      "      Low_No     0.6574    0.7253    0.6897       455\n",
      "     Low_Yes     0.5227    0.9787    0.6815        47\n",
      "   Medium_No     0.8450    0.6652    0.7444      1123\n",
      "  Medium_Yes     0.5063    0.9528    0.6612       127\n",
      "\n",
      "    accuracy                         0.7044      2500\n",
      "   macro avg     0.6168    0.8200    0.6803      2500\n",
      "weighted avg     0.7378    0.7044    0.7087      2500\n",
      "\n"
     ]
    }
   ],
   "source": [
    "from sklearn.preprocessing import LabelEncoder\n",
    "\n",
    "le = LabelEncoder()\n",
    "y_encoded = le.fit_transform(Y_test)   # Now all labels become 0,1,2,3,4,5\n",
    "\n",
    "np.bincount(y_encoded)\n",
    "print(\"Test class counts:\", np.bincount(y_encoded))\n",
    "cm = confusion_matrix(Y_test, y_pred_labels)\n",
    "print(\"Confusion matrix:\\n\", cm)\n",
    "print(\"\\nClass report:\\n\", classification_report(Y_test, y_pred_labels, digits=4))\n",
    "# Medium_No     1123\n",
    "# High_No        672\n",
    "# Low_No         455\n",
    "# Medium_Yes     127\n",
    "# High_Yes        76\n",
    "# Low_Yes         47"
   ]
  },
  {
   "cell_type": "code",
   "execution_count": 16,
   "id": "67c4d583",
   "metadata": {},
   "outputs": [],
   "source": [
    "model.save_model(r\"C:\\Users\\Administrator\\OneDrive\\Desktop\\FYP-MODELS\\catboost_marriage_model.cbm\")"
   ]
  },
  {
   "cell_type": "code",
   "execution_count": 5,
   "id": "3b159639",
   "metadata": {},
   "outputs": [],
   "source": [
    "test_df_cc = pd.read_csv(\".././Training-Testing Dataset/Testing data Undersampled(All).csv\")\n",
    "\n",
    "X_test_cc = train_df.drop(columns=[\"target\"])\n",
    "Y_test_cc = train_df[\"target\"]\n",
    "\n",
    "\n",
    "for col in categorical_features:\n",
    "    X_test_cc[col] = X_test_cc[col].astype(str)\n",
    "\n",
    "test_pool = Pool(X_test_cc,Y_test_cc,cat_features=categorical_features)"
   ]
  },
  {
   "cell_type": "code",
   "execution_count": 6,
   "id": "c9707318",
   "metadata": {},
   "outputs": [
    {
     "name": "stdout",
     "output_type": "stream",
     "text": [
      "Accuracy rate  44.925\n"
     ]
    }
   ],
   "source": [
    "y_pred = model.predict(X_test_cc)\n",
    "\n",
    "print(\"Accuracy rate \", accuracy_score(Y_test_cc,y_pred)*100)"
   ]
  },
  {
   "cell_type": "code",
   "execution_count": 7,
   "id": "2e94e5a9",
   "metadata": {},
   "outputs": [
    {
     "name": "stdout",
     "output_type": "stream",
     "text": [
      "Accuracy rate  44.925\n"
     ]
    }
   ],
   "source": [
    "test_df_cc = pd.read_csv(\".././Training-Testing Dataset/Testing Data CC undersampling.csv\")\n",
    "\n",
    "X_test_cc = train_df.drop(columns=[\"target\"])\n",
    "Y_test_cc = train_df[\"target\"]\n",
    "\n",
    "\n",
    "for col in categorical_features:\n",
    "    X_test_cc[col] = X_test_cc[col].astype(str)\n",
    "\n",
    "test_pool = Pool(X_test_cc,Y_test_cc,cat_features=categorical_features)\n",
    "\n",
    "y_pred = model.predict(X_test_cc)\n",
    "\n",
    "print(\"Accuracy rate \", accuracy_score(Y_test_cc,y_pred)*100)"
   ]
  },
  {
   "cell_type": "code",
   "execution_count": 8,
   "id": "2bc0ece0",
   "metadata": {},
   "outputs": [
    {
     "name": "stdout",
     "output_type": "stream",
     "text": [
      "Accuracy rate  80.31914893617021\n"
     ]
    }
   ],
   "source": [
    "model = CatBoostClassifier()\n",
    "model = model.load_model(\"catboost_marriage_model.cbm\")\n",
    "test_df_cc = pd.read_csv(\".././Training-Testing Dataset/Testing data Undersampled(All).csv\")\n",
    "\n",
    "X_test_cc = test_df_cc.drop(columns=[\"target\"])\n",
    "Y_test_cc = test_df_cc[\"target\"]\n",
    "\n",
    "\n",
    "for col in categorical_features:\n",
    "    X_test_cc[col] = X_test_cc[col].astype(str)\n",
    "\n",
    "test_pool = Pool(X_test_cc,Y_test_cc,cat_features=categorical_features)\n",
    "\n",
    "y_pred = model.predict(X_test_cc)\n",
    "\n",
    "print(\"Accuracy rate \", accuracy_score(Y_test_cc,y_pred)*100)"
   ]
  },
  {
   "cell_type": "code",
   "execution_count": 14,
   "id": "ef108b8c",
   "metadata": {},
   "outputs": [
    {
     "name": "stdout",
     "output_type": "stream",
     "text": [
      "Age_at_Marriage : 14.14\n",
      "Gender : 10.71\n",
      "Education_Level : 13.79\n",
      "Caste_Match : 6.90\n",
      "Religion : 11.40\n",
      "Urban_Rural : 9.93\n",
      "Income_Level : 11.63\n",
      "Spouse_Working : 10.79\n",
      "Inter-Caste : 6.69\n",
      "Inter-Religion : 4.02\n"
     ]
    }
   ],
   "source": [
    "features = X_test_cc.columns\n",
    "\n",
    "for i,j in zip(features, model.get_feature_importance()):\n",
    "    print(f\"{i} : {j:0.2f}\")"
   ]
  }
 ],
 "metadata": {
  "kernelspec": {
   "display_name": "Python 3",
   "language": "python",
   "name": "python3"
  },
  "language_info": {
   "codemirror_mode": {
    "name": "ipython",
    "version": 3
   },
   "file_extension": ".py",
   "mimetype": "text/x-python",
   "name": "python",
   "nbconvert_exporter": "python",
   "pygments_lexer": "ipython3",
   "version": "3.12.6"
  }
 },
 "nbformat": 4,
 "nbformat_minor": 5
}
