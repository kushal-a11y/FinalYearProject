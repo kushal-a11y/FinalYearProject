{
 "cells": [
  {
   "cell_type": "code",
   "execution_count": 1,
   "id": "f5611c6a",
   "metadata": {},
   "outputs": [
    {
     "name": "stdout",
     "output_type": "stream",
     "text": [
      "Collecting catboost\n",
      "  Downloading catboost-1.2.8-cp312-cp312-manylinux2014_x86_64.whl.metadata (1.2 kB)\n",
      "Collecting graphviz (from catboost)\n",
      "  Downloading graphviz-0.21-py3-none-any.whl.metadata (12 kB)\n",
      "Requirement already satisfied: matplotlib in /home/codespace/.local/lib/python3.12/site-packages (from catboost) (3.10.3)\n",
      "Requirement already satisfied: numpy<3.0,>=1.16.0 in /home/codespace/.local/lib/python3.12/site-packages (from catboost) (2.3.1)\n",
      "Requirement already satisfied: pandas>=0.24 in /home/codespace/.local/lib/python3.12/site-packages (from catboost) (2.3.1)\n",
      "Requirement already satisfied: scipy in /home/codespace/.local/lib/python3.12/site-packages (from catboost) (1.16.0)\n",
      "Requirement already satisfied: plotly in /home/codespace/.local/lib/python3.12/site-packages (from catboost) (6.2.0)\n",
      "Requirement already satisfied: six in /home/codespace/.local/lib/python3.12/site-packages (from catboost) (1.17.0)\n",
      "Requirement already satisfied: python-dateutil>=2.8.2 in /home/codespace/.local/lib/python3.12/site-packages (from pandas>=0.24->catboost) (2.9.0.post0)\n",
      "Requirement already satisfied: pytz>=2020.1 in /home/codespace/.local/lib/python3.12/site-packages (from pandas>=0.24->catboost) (2025.2)\n",
      "Requirement already satisfied: tzdata>=2022.7 in /home/codespace/.local/lib/python3.12/site-packages (from pandas>=0.24->catboost) (2025.2)\n",
      "Requirement already satisfied: contourpy>=1.0.1 in /home/codespace/.local/lib/python3.12/site-packages (from matplotlib->catboost) (1.3.2)\n",
      "Requirement already satisfied: cycler>=0.10 in /home/codespace/.local/lib/python3.12/site-packages (from matplotlib->catboost) (0.12.1)\n",
      "Requirement already satisfied: fonttools>=4.22.0 in /home/codespace/.local/lib/python3.12/site-packages (from matplotlib->catboost) (4.58.5)\n",
      "Requirement already satisfied: kiwisolver>=1.3.1 in /home/codespace/.local/lib/python3.12/site-packages (from matplotlib->catboost) (1.4.8)\n",
      "Requirement already satisfied: packaging>=20.0 in /home/codespace/.local/lib/python3.12/site-packages (from matplotlib->catboost) (25.0)\n",
      "Requirement already satisfied: pillow>=8 in /home/codespace/.local/lib/python3.12/site-packages (from matplotlib->catboost) (11.3.0)\n",
      "Requirement already satisfied: pyparsing>=2.3.1 in /home/codespace/.local/lib/python3.12/site-packages (from matplotlib->catboost) (3.2.3)\n",
      "Requirement already satisfied: narwhals>=1.15.1 in /home/codespace/.local/lib/python3.12/site-packages (from plotly->catboost) (1.46.0)\n",
      "Downloading catboost-1.2.8-cp312-cp312-manylinux2014_x86_64.whl (99.2 MB)\n",
      "\u001b[2K   \u001b[90m━━━━━━━━━━━━━━━━━━━━━━━━━━━━━━━━━━━━━━━━\u001b[0m \u001b[32m99.2/99.2 MB\u001b[0m \u001b[31m35.2 MB/s\u001b[0m  \u001b[33m0:00:02\u001b[0mm0:00:01\u001b[0m00:01\u001b[0m\n",
      "\u001b[?25hDownloading graphviz-0.21-py3-none-any.whl (47 kB)\n",
      "Installing collected packages: graphviz, catboost\n",
      "\u001b[2K   \u001b[90m━━━━━━━━━━━━━━━━━━━━━━━━━━━━━━━━━━━━━━━━\u001b[0m \u001b[32m2/2\u001b[0m [catboost]1/2\u001b[0m [catboost]\n",
      "\u001b[1A\u001b[2KSuccessfully installed catboost-1.2.8 graphviz-0.21\n"
     ]
    }
   ],
   "source": [
    "!pip install catboost"
   ]
  },
  {
   "cell_type": "code",
   "execution_count": 61,
   "id": "2d8186a9",
   "metadata": {},
   "outputs": [],
   "source": [
    "from catboost import CatBoostClassifier, Pool\n",
    "import pandas as pd\n",
    "# from sklearn.model_selection import train_test_split\n",
    "from sklearn.metrics import accuracy_score, classification_report\n",
    "import matplotlib.pyplot as plt"
   ]
  },
  {
   "cell_type": "code",
   "execution_count": 102,
   "id": "24b9997d",
   "metadata": {},
   "outputs": [
    {
     "name": "stdout",
     "output_type": "stream",
     "text": [
      "target\n",
      "Medium_No     4940\n",
      "High_No       4219\n",
      "Low_No        3872\n",
      "Medium_Yes    3347\n",
      "High_Yes      3266\n",
      "Low_Yes       3220\n",
      "Name: count, dtype: int64\n"
     ]
    }
   ],
   "source": [
    "# Training Data (CC undersampling)===Testing Data (CC undersampling)\n",
    "train_df = pd.read_csv(\".././Training-Testing Dataset/Training Data (RWS Oversampling).csv\")\n",
    "test_df = pd.read_csv(\".././Training-Testing Dataset/Testing Data (RWS Oversampling).csv\")\n",
    "# test_df = pd.read_csv(\".././Training-Testing Dataset/Testing Data (CC undersampling).csv\")\n",
    "\n",
    "X_train = train_df.drop(columns=[\"target\"])\n",
    "Y_train = train_df[\"target\"]\n",
    "X_test = test_df.drop(columns=[\"target\"])\n",
    "Y_test = test_df[\"target\"]\n",
    "\n",
    "\n",
    "print(Y_train.value_counts())\n"
   ]
  },
  {
   "cell_type": "code",
   "execution_count": 103,
   "id": "9d5a109f",
   "metadata": {},
   "outputs": [],
   "source": [
    "categorical_features = [col for col in X_train.columns if X_train[col].dtype == 'object' or X_train[col].dtype == 'category']\n",
    "\n",
    "for col in categorical_features:\n",
    "    X_train[col] = X_train[col].astype(str)\n",
    "\n",
    "    X_test[col] = X_test[col].astype(str)\n",
    "\n",
    "# Y_train[\"target\"] = Y_train[\"target\"].astype(str)\n",
    "# Y_test[\"target\"] = Y_test[\"target\"].astype(str)\n",
    "\n",
    "train_pool = Pool(X_train,Y_train,cat_features=categorical_features)\n",
    "test_pool = Pool(X_test,Y_test,cat_features=categorical_features)"
   ]
  },
  {
   "cell_type": "code",
   "execution_count": null,
   "id": "54fd086e",
   "metadata": {},
   "outputs": [
    {
     "name": "stdout",
     "output_type": "stream",
     "text": [
      "0:\tlearn: 0.2776417\ttest: 0.2973919\tbest: 0.2973919 (0)\ttotal: 275ms\tremaining: 9m 9s\n",
      "100:\tlearn: 0.4655353\ttest: 0.5067854\tbest: 0.5069975 (97)\ttotal: 16s\tremaining: 5m 1s\n",
      "200:\tlearn: 0.5183695\ttest: 0.5745335\tbest: 0.5779792 (193)\ttotal: 28.4s\tremaining: 4m 14s\n",
      "300:\tlearn: 0.5913226\ttest: 0.6519826\tbest: 0.6536260 (295)\ttotal: 42.1s\tremaining: 3m 57s\n",
      "400:\tlearn: 0.6176085\ttest: 0.6787002\tbest: 0.6800785 (398)\ttotal: 56.1s\tremaining: 3m 43s\n",
      "500:\tlearn: 0.6365028\ttest: 0.6956637\tbest: 0.6966709 (496)\ttotal: 1m 9s\tremaining: 3m 27s\n",
      "600:\tlearn: 0.6527729\ttest: 0.7141115\tbest: 0.7142176 (597)\ttotal: 1m 22s\tremaining: 3m 12s\n",
      "700:\tlearn: 0.6714048\ttest: 0.7300148\tbest: 0.7300148 (700)\ttotal: 1m 35s\tremaining: 2m 57s\n",
      "800:\tlearn: 0.6843509\ttest: 0.7452290\tbest: 0.7452290 (800)\ttotal: 1m 49s\tremaining: 2m 43s\n",
      "900:\tlearn: 0.6958537\ttest: 0.7539228\tbest: 0.7541349 (896)\ttotal: 2m 2s\tremaining: 2m 29s\n",
      "1000:\tlearn: 0.7071816\ttest: 0.7677587\tbest: 0.7677587 (1000)\ttotal: 2m 16s\tremaining: 2m 16s\n",
      "1100:\tlearn: 0.7154916\ttest: 0.7782019\tbest: 0.7782549 (1097)\ttotal: 2m 30s\tremaining: 2m 2s\n",
      "1200:\tlearn: 0.7243265\ttest: 0.7861535\tbest: 0.7864186 (1188)\ttotal: 2m 43s\tremaining: 1m 48s\n",
      "1300:\tlearn: 0.7294874\ttest: 0.7962256\tbest: 0.7964907 (1293)\ttotal: 2m 56s\tremaining: 1m 34s\n",
      "1400:\tlearn: 0.7365728\ttest: 0.8025339\tbest: 0.8033291 (1383)\ttotal: 3m 9s\tremaining: 1m 20s\n",
      "1500:\tlearn: 0.7409902\ttest: 0.8064567\tbest: 0.8076230 (1462)\ttotal: 3m 22s\tremaining: 1m 7s\n",
      "1600:\tlearn: 0.7478569\ttest: 0.8090013\tbest: 0.8099025 (1598)\ttotal: 3m 37s\tremaining: 54.2s\n",
      "1700:\tlearn: 0.7524055\ttest: 0.8132952\tbest: 0.8146204 (1693)\ttotal: 3m 54s\tremaining: 41.1s\n",
      "1800:\tlearn: 0.7579601\ttest: 0.8171120\tbest: 0.8171120 (1800)\ttotal: 4m 9s\tremaining: 27.6s\n",
      "1900:\tlearn: 0.7640395\ttest: 0.8226781\tbest: 0.8232612 (1886)\ttotal: 4m 25s\tremaining: 13.8s\n",
      "1999:\tlearn: 0.7691568\ttest: 0.8261238\tbest: 0.8261768 (1974)\ttotal: 4m 39s\tremaining: 0us\n",
      "\n",
      "bestTest = 0.8261768448\n",
      "bestIteration = 1974\n",
      "\n",
      "Shrink model to first 1975 iterations.\n",
      "Accuracy rate  82.6176844783715\n"
     ]
    }
   ],
   "source": [
    "model = CatBoostClassifier(\n",
    "    iterations=2000,\n",
    "    depth=6,\n",
    "    learning_rate=0.05,\n",
    "    l2_leaf_reg=5,\n",
    "    loss_function=\"MultiClass\",\n",
    "    eval_metric=\"Accuracy\",\n",
    "    early_stopping_rounds=100,\n",
    "    verbose=100,\n",
    "    random_state=42\n",
    ")\n",
    "\n",
    "model.fit(train_pool,eval_set=test_pool)\n",
    "\n",
    "y_pred = model.predict(X_test)\n",
    "\n",
    "print(\"Accuracy rate \", accuracy_score(Y_test,y_pred)*100)"
   ]
  },
  {
   "cell_type": "code",
   "execution_count": null,
   "id": "67c4d583",
   "metadata": {},
   "outputs": [],
   "source": [
    "model.load_model(\"catboost_marriage_model.cbm\")"
   ]
  },
  {
   "cell_type": "code",
   "execution_count": 105,
   "id": "3b159639",
   "metadata": {},
   "outputs": [],
   "source": [
    "test_df_cc = pd.read_csv(\".././Training-Testing Dataset/Training Data (CC undersampling).csv\")\n",
    "\n",
    "X_test_cc = train_df.drop(columns=[\"target\"])\n",
    "Y_test_cc = train_df[\"target\"]\n",
    "\n",
    "\n",
    "for col in categorical_features:\n",
    "    X_test_cc[col] = X_test_cc[col].astype(str)\n",
    "\n",
    "test_pool = Pool(X_test_cc,Y_test_cc,cat_features=categorical_features)"
   ]
  },
  {
   "cell_type": "code",
   "execution_count": 106,
   "id": "c9707318",
   "metadata": {},
   "outputs": [
    {
     "name": "stdout",
     "output_type": "stream",
     "text": [
      "Accuracy rate  72.41952414275717\n"
     ]
    }
   ],
   "source": [
    "y_pred = model.predict(X_test_cc)\n",
    "\n",
    "print(\"Accuracy rate \", accuracy_score(Y_test_cc,y_pred)*100)"
   ]
  },
  {
   "cell_type": "code",
   "execution_count": 107,
   "id": "80872d00",
   "metadata": {},
   "outputs": [
    {
     "name": "stdout",
     "output_type": "stream",
     "text": [
      "        Feature Id  Importances\n",
      "0  Age_at_Marriage    20.914542\n",
      "1  Education_Level    15.397329\n",
      "2         Religion    12.698403\n",
      "3     Income_Level    11.485378\n",
      "4   Spouse_Working     7.820306\n",
      "5           Gender     7.560841\n",
      "6      Urban_Rural     7.531828\n",
      "7      Inter-Caste     6.078591\n",
      "8      Caste_Match     5.916361\n",
      "9   Inter-Religion     4.596421\n"
     ]
    },
    {
     "data": {
      "image/png": "[encoded data removed]",
      "text/plain": [
       "<Figure size 640x480 with 1 Axes>"
      ]
     },
     "metadata": {},
     "output_type": "display_data"
    }
   ],
   "source": [
    "feat_imp = model.get_feature_importance(prettified=True)\n",
    "print(feat_imp)\n",
    "feat_imp.plot(kind='bar', x='Feature Id', y='Importances')\n",
    "plt.show()\n"
   ]
  }
 ],
 "metadata": {
  "kernelspec": {
   "display_name": "Python 3",
   "language": "python",
   "name": "python3"
  },
  "language_info": {
   "codemirror_mode": {
    "name": "ipython",
    "version": 3
   },
   "file_extension": ".py",
   "mimetype": "text/x-python",
   "name": "python",
   "nbconvert_exporter": "python",
   "pygments_lexer": "ipython3",
   "version": "3.12.1"
  }
 },
 "nbformat": 4,
 "nbformat_minor": 5
}
