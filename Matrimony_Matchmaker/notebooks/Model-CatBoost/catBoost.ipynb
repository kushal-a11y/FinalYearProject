{
 "cells": [
  {
   "cell_type": "code",
   "execution_count": 60,
   "id": "f5611c6a",
   "metadata": {},
   "outputs": [],
   "source": [
    "# If you ae new to go last cell"
   ]
  },
  {
   "cell_type": "code",
   "execution_count": 1,
   "id": "2d8186a9",
   "metadata": {},
   "outputs": [],
   "source": [
    "from catboost import CatBoostClassifier, Pool\n",
    "import pandas as pd\n",
    "# from sklearn.model_selection import train_test_split\n",
    "from sklearn.utils.class_weight import compute_class_weight\n",
    "from sklearn.model_selection import StratifiedKFold,GridSearchCV\n",
    "from sklearn.metrics import accuracy_score, classification_report,recall_score, f1_score\n",
    "import numpy as np\n",
    "import matplotlib.pyplot as plt"
   ]
  },
  {
   "cell_type": "code",
   "execution_count": 20,
   "id": "24b9997d",
   "metadata": {},
   "outputs": [
    {
     "name": "stdout",
     "output_type": "stream",
     "text": [
      "target\n",
      "Medium_Yes    4492\n",
      "Low_No        4492\n",
      "Medium_No     4492\n",
      "High_No       4492\n",
      "Low_Yes       4492\n",
      "High_Yes      4492\n",
      "Name: count, dtype: int64\n",
      "target\n",
      "Medium_No     1123\n",
      "High_No        672\n",
      "Low_No         455\n",
      "Medium_Yes     127\n",
      "High_Yes        76\n",
      "Low_Yes         47\n",
      "Name: count, dtype: int64\n"
     ]
    }
   ],
   "source": [
    "# Training Data (CC undersampling)===Testing Data (CC undersampling)\n",
    "train_df = pd.read_csv(\".././Training-Testing Dataset/Training Data (RWS Oversampling).csv\")\n",
    "test_df = pd.read_csv(\".././Training-Testing Dataset/Testing Data (Representative).csv\")\n",
    "# test_df = pd.read_csv(\".././Training-Testing Dataset/Testing Data (CC undersampling).csv\")\n",
    "\n",
    "X_train = train_df.drop(columns=[\"target\"])\n",
    "Y_train = train_df[\"target\"]\n",
    "X_test = test_df.drop(columns=[\"target\"])\n",
    "Y_test = test_df[\"target\"]\n",
    "\n",
    "\n",
    "print(Y_train.value_counts())\n",
    "print(Y_test.value_counts())\n"
   ]
  },
  {
   "cell_type": "code",
   "execution_count": 21,
   "id": "9d5a109f",
   "metadata": {},
   "outputs": [
    {
     "name": "stdout",
     "output_type": "stream",
     "text": [
      "{'High_No': np.float64(1.0), 'High_Yes': np.float64(1.0), 'Low_No': np.float64(1.0), 'Low_Yes': np.float64(1.0), 'Medium_No': np.float64(1.0), 'Medium_Yes': np.float64(1.0)}\n"
     ]
    }
   ],
   "source": [
    "categorical_features = [col for col in X_train.columns if X_train[col].dtype == 'object']\n",
    "\n",
    "classes = np.unique(Y_train)\n",
    "class_weights = compute_class_weight(class_weight=\"balanced\", classes=classes,y=Y_train)\n",
    "class_weights_dict = dict(zip(classes, class_weights))\n",
    "print(class_weights_dict)\n",
    "\n",
    "for col in categorical_features:\n",
    "    X_train[col] = X_train[col].astype('object')\n",
    "\n",
    "    X_test[col] = X_test[col].astype('object')\n",
    "\n",
    "# Y_train[\"target\"] = Y_train[\"target\"].astype(str)\n",
    "# Y_test[\"target\"] = Y_test[\"target\"].astype(str)\n",
    "\n",
    "train_pool = Pool(X_train,Y_train,cat_features=categorical_features)\n",
    "test_pool = Pool(X_test,Y_test,cat_features=categorical_features)"
   ]
  },
  {
   "cell_type": "code",
   "execution_count": 22,
   "id": "54fd086e",
   "metadata": {},
   "outputs": [],
   "source": [
    "model = CatBoostClassifier(\n",
    "    iterations=3000,\n",
    "    depth=12,\n",
    "    learning_rate=0.03,\n",
    "    l2_leaf_reg=0.8,\n",
    "    loss_function=\"MultiClass\",\n",
    "    eval_metric=\"MultiClass\", \n",
    "    early_stopping_rounds=200,\n",
    "    verbose=50,\n",
    "    random_state=42,\n",
    ")"
   ]
  },
  {
   "cell_type": "code",
   "execution_count": 23,
   "id": "b7e62f6f",
   "metadata": {},
   "outputs": [
    {
     "name": "stdout",
     "output_type": "stream",
     "text": [
      "\n",
      "Starting CatBoost Training (Optimizing Weighted MultiClass Loss)...\n",
      "0:\tlearn: 1.7624646\ttest: 1.7778432\tbest: 1.7778432 (0)\ttotal: 1.79s\tremaining: 1h 29m 18s\n",
      "50:\tlearn: 1.2776945\ttest: 1.5193119\tbest: 1.5193119 (50)\ttotal: 1m 24s\tremaining: 1h 21m 30s\n",
      "100:\tlearn: 1.1515570\ttest: 1.4458944\tbest: 1.4458944 (100)\ttotal: 2m 29s\tremaining: 1h 11m 39s\n",
      "150:\tlearn: 1.0820153\ttest: 1.4086873\tbest: 1.4086873 (150)\ttotal: 3m 29s\tremaining: 1h 5m 47s\n",
      "200:\tlearn: 1.0089795\ttest: 1.3671017\tbest: 1.3671017 (200)\ttotal: 4m 25s\tremaining: 1h 1m 30s\n",
      "250:\tlearn: 0.9553425\ttest: 1.3375847\tbest: 1.3375847 (250)\ttotal: 5m 25s\tremaining: 59m 19s\n",
      "300:\tlearn: 0.8933737\ttest: 1.3029504\tbest: 1.3029504 (300)\ttotal: 6m 15s\tremaining: 56m 5s\n",
      "350:\tlearn: 0.8031502\ttest: 1.2485988\tbest: 1.2485988 (350)\ttotal: 7m 18s\tremaining: 55m 5s\n",
      "400:\tlearn: 0.6810854\ttest: 1.1542443\tbest: 1.1542443 (400)\ttotal: 8m 34s\tremaining: 55m 36s\n",
      "450:\tlearn: 0.5751065\ttest: 1.0610725\tbest: 1.0610725 (450)\ttotal: 9m 49s\tremaining: 55m 32s\n",
      "500:\tlearn: 0.5067683\ttest: 0.9978179\tbest: 0.9978179 (500)\ttotal: 11m 6s\tremaining: 55m 24s\n",
      "550:\tlearn: 0.4548525\ttest: 0.9534654\tbest: 0.9534654 (550)\ttotal: 12m 25s\tremaining: 55m 11s\n",
      "600:\tlearn: 0.4143472\ttest: 0.9167530\tbest: 0.9167530 (600)\ttotal: 13m 43s\tremaining: 54m 46s\n",
      "650:\tlearn: 0.3829666\ttest: 0.8935570\tbest: 0.8935570 (650)\ttotal: 15m 1s\tremaining: 54m 13s\n",
      "700:\tlearn: 0.3530481\ttest: 0.8698539\tbest: 0.8698539 (700)\ttotal: 16m 21s\tremaining: 53m 37s\n",
      "750:\tlearn: 0.3287554\ttest: 0.8519723\tbest: 0.8519723 (750)\ttotal: 17m 45s\tremaining: 53m 11s\n",
      "800:\tlearn: 0.3078580\ttest: 0.8371219\tbest: 0.8371219 (800)\ttotal: 19m 7s\tremaining: 52m 29s\n",
      "850:\tlearn: 0.2892311\ttest: 0.8244163\tbest: 0.8244163 (850)\ttotal: 20m 30s\tremaining: 51m 47s\n",
      "900:\tlearn: 0.2742063\ttest: 0.8145365\tbest: 0.8145365 (900)\ttotal: 21m 53s\tremaining: 51m\n",
      "950:\tlearn: 0.2593035\ttest: 0.8070531\tbest: 0.8070531 (950)\ttotal: 23m 12s\tremaining: 49m 59s\n",
      "1000:\tlearn: 0.2457512\ttest: 0.8031245\tbest: 0.8031245 (1000)\ttotal: 24m 32s\tremaining: 48m 59s\n",
      "1050:\tlearn: 0.2340890\ttest: 0.7999183\tbest: 0.7998920 (1048)\ttotal: 25m 53s\tremaining: 48m\n",
      "1100:\tlearn: 0.2233162\ttest: 0.7965418\tbest: 0.7964077 (1099)\ttotal: 27m 14s\tremaining: 46m 58s\n",
      "1150:\tlearn: 0.2143916\ttest: 0.7944312\tbest: 0.7943196 (1147)\ttotal: 28m 39s\tremaining: 46m 1s\n",
      "1200:\tlearn: 0.2055104\ttest: 0.7905548\tbest: 0.7905548 (1200)\ttotal: 30m 4s\tremaining: 45m 3s\n",
      "1250:\tlearn: 0.1978044\ttest: 0.7875891\tbest: 0.7875891 (1250)\ttotal: 31m 29s\tremaining: 44m 1s\n",
      "1300:\tlearn: 0.1908225\ttest: 0.7871056\tbest: 0.7866917 (1276)\ttotal: 32m 56s\tremaining: 43m\n",
      "1350:\tlearn: 0.1845630\ttest: 0.7849177\tbest: 0.7848451 (1349)\ttotal: 34m 24s\tremaining: 42m\n",
      "1400:\tlearn: 0.1778937\ttest: 0.7838449\tbest: 0.7836574 (1399)\ttotal: 35m 51s\tremaining: 40m 55s\n",
      "1450:\tlearn: 0.1719259\ttest: 0.7833115\tbest: 0.7831764 (1447)\ttotal: 37m 24s\tremaining: 39m 56s\n",
      "1500:\tlearn: 0.1662438\ttest: 0.7830797\tbest: 0.7827303 (1462)\ttotal: 38m 50s\tremaining: 38m 47s\n",
      "1550:\tlearn: 0.1609586\ttest: 0.7822420\tbest: 0.7821487 (1539)\ttotal: 40m 27s\tremaining: 37m 48s\n",
      "1600:\tlearn: 0.1556656\ttest: 0.7815246\tbest: 0.7814220 (1599)\ttotal: 41m 57s\tremaining: 36m 39s\n",
      "1650:\tlearn: 0.1511955\ttest: 0.7825217\tbest: 0.7814162 (1612)\ttotal: 43m 27s\tremaining: 35m 30s\n",
      "1700:\tlearn: 0.1470370\ttest: 0.7834830\tbest: 0.7814162 (1612)\ttotal: 44m 55s\tremaining: 34m 18s\n",
      "1750:\tlearn: 0.1427242\ttest: 0.7847886\tbest: 0.7814162 (1612)\ttotal: 46m 26s\tremaining: 33m 7s\n",
      "1800:\tlearn: 0.1384970\ttest: 0.7871301\tbest: 0.7814162 (1612)\ttotal: 47m 59s\tremaining: 31m 56s\n",
      "Stopped by overfitting detector  (200 iterations wait)\n",
      "\n",
      "bestTest = 0.7814162064\n",
      "bestIteration = 1612\n",
      "\n",
      "Shrink model to first 1613 iterations.\n",
      "Best Iteration: 1612\n",
      "Macro Recall Score (The Goal Metric): 81.38%\n",
      "Weighted F1 Score: 71.01%\n"
     ]
    }
   ],
   "source": [
    "print(\"\\nStarting CatBoost Training (Optimizing Weighted MultiClass Loss)...\")\n",
    "model.fit(train_pool,eval_set=test_pool)\n",
    "\n",
    "y_pred_labels = model.predict(X_test).flatten()\n",
    "\n",
    "# Evaluation: Still use scikit-learn for the final, explicit Macro Recall score\n",
    "macro_recall = recall_score(Y_test, y_pred_labels, average='macro')\n",
    "weighted_f1 = f1_score(Y_test, y_pred_labels, average='weighted')\n",
    "\n",
    "print(f\"Best Iteration: {model.get_best_iteration()}\")\n",
    "print(f\"Macro Recall Score (The Goal Metric): {macro_recall * 100:.2f}%\")\n",
    "print(f\"Weighted F1 Score: {weighted_f1 * 100:.2f}%\")"
   ]
  },
  {
   "cell_type": "code",
   "execution_count": 12,
   "id": "67c4d583",
   "metadata": {},
   "outputs": [],
   "source": [
    "model.save_model(\"catboost_marriage_model.cbm\")"
   ]
  },
  {
   "cell_type": "code",
   "execution_count": 5,
   "id": "3b159639",
   "metadata": {},
   "outputs": [],
   "source": [
    "test_df_cc = pd.read_csv(\".././Training-Testing Dataset/Testing data Undersampled(All).csv\")\n",
    "\n",
    "X_test_cc = train_df.drop(columns=[\"target\"])\n",
    "Y_test_cc = train_df[\"target\"]\n",
    "\n",
    "\n",
    "for col in categorical_features:\n",
    "    X_test_cc[col] = X_test_cc[col].astype(str)\n",
    "\n",
    "test_pool = Pool(X_test_cc,Y_test_cc,cat_features=categorical_features)"
   ]
  },
  {
   "cell_type": "code",
   "execution_count": 6,
   "id": "c9707318",
   "metadata": {},
   "outputs": [
    {
     "name": "stdout",
     "output_type": "stream",
     "text": [
      "Accuracy rate  44.925\n"
     ]
    }
   ],
   "source": [
    "y_pred = model.predict(X_test_cc)\n",
    "\n",
    "print(\"Accuracy rate \", accuracy_score(Y_test_cc,y_pred)*100)"
   ]
  },
  {
   "cell_type": "code",
   "execution_count": 7,
   "id": "2e94e5a9",
   "metadata": {},
   "outputs": [
    {
     "name": "stdout",
     "output_type": "stream",
     "text": [
      "Accuracy rate  44.925\n"
     ]
    }
   ],
   "source": [
    "test_df_cc = pd.read_csv(\".././Training-Testing Dataset/Testing Data CC undersampling.csv\")\n",
    "\n",
    "X_test_cc = train_df.drop(columns=[\"target\"])\n",
    "Y_test_cc = train_df[\"target\"]\n",
    "\n",
    "\n",
    "for col in categorical_features:\n",
    "    X_test_cc[col] = X_test_cc[col].astype(str)\n",
    "\n",
    "test_pool = Pool(X_test_cc,Y_test_cc,cat_features=categorical_features)\n",
    "\n",
    "y_pred = model.predict(X_test_cc)\n",
    "\n",
    "print(\"Accuracy rate \", accuracy_score(Y_test_cc,y_pred)*100)"
   ]
  },
  {
   "cell_type": "code",
   "execution_count": 8,
   "id": "2bc0ece0",
   "metadata": {},
   "outputs": [
    {
     "name": "stdout",
     "output_type": "stream",
     "text": [
      "Accuracy rate  80.31914893617021\n"
     ]
    }
   ],
   "source": [
    "model = CatBoostClassifier()\n",
    "model = model.load_model(\"catboost_marriage_model.cbm\")\n",
    "test_df_cc = pd.read_csv(\".././Training-Testing Dataset/Testing data Undersampled(All).csv\")\n",
    "\n",
    "X_test_cc = test_df_cc.drop(columns=[\"target\"])\n",
    "Y_test_cc = test_df_cc[\"target\"]\n",
    "\n",
    "\n",
    "for col in categorical_features:\n",
    "    X_test_cc[col] = X_test_cc[col].astype(str)\n",
    "\n",
    "test_pool = Pool(X_test_cc,Y_test_cc,cat_features=categorical_features)\n",
    "\n",
    "y_pred = model.predict(X_test_cc)\n",
    "\n",
    "print(\"Accuracy rate \", accuracy_score(Y_test_cc,y_pred)*100)"
   ]
  },
  {
   "cell_type": "code",
   "execution_count": 14,
   "id": "ef108b8c",
   "metadata": {},
   "outputs": [
    {
     "name": "stdout",
     "output_type": "stream",
     "text": [
      "Age_at_Marriage : 14.14\n",
      "Gender : 10.71\n",
      "Education_Level : 13.79\n",
      "Caste_Match : 6.90\n",
      "Religion : 11.40\n",
      "Urban_Rural : 9.93\n",
      "Income_Level : 11.63\n",
      "Spouse_Working : 10.79\n",
      "Inter-Caste : 6.69\n",
      "Inter-Religion : 4.02\n"
     ]
    }
   ],
   "source": [
    "features = X_test_cc.columns\n",
    "\n",
    "for i,j in zip(features, model.get_feature_importance()):\n",
    "    print(f\"{i} : {j:0.2f}\")"
   ]
  }
 ],
 "metadata": {
  "kernelspec": {
   "display_name": "Python 3",
   "language": "python",
   "name": "python3"
  },
  "language_info": {
   "codemirror_mode": {
    "name": "ipython",
    "version": 3
   },
   "file_extension": ".py",
   "mimetype": "text/x-python",
   "name": "python",
   "nbconvert_exporter": "python",
   "pygments_lexer": "ipython3",
   "version": "3.12.6"
  }
 },
 "nbformat": 4,
 "nbformat_minor": 5
}
