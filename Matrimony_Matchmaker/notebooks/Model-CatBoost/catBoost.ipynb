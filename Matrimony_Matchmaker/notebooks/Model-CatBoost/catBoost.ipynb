{
 "cells": [
  {
   "cell_type": "code",
   "execution_count": 60,
   "id": "f5611c6a",
   "metadata": {},
   "outputs": [],
   "source": [
    "# If you ae new to go last cell"
   ]
  },
  {
   "cell_type": "code",
   "execution_count": 2,
   "id": "2d8186a9",
   "metadata": {},
   "outputs": [],
   "source": [
    "from catboost import CatBoostClassifier, Pool\n",
    "import pandas as pd\n",
    "# from sklearn.model_selection import train_test_split\n",
    "from sklearn.metrics import accuracy_score, classification_report\n",
    "import matplotlib.pyplot as plt"
   ]
  },
  {
   "cell_type": "code",
   "execution_count": 8,
   "id": "24b9997d",
   "metadata": {},
   "outputs": [
    {
     "name": "stdout",
     "output_type": "stream",
     "text": [
      "target\n",
      "Medium_Yes    4492\n",
      "Low_No        4492\n",
      "Medium_No     4492\n",
      "High_No       4492\n",
      "Low_Yes       4492\n",
      "High_Yes      4492\n",
      "Name: count, dtype: int64\n",
      "target\n",
      "High_No       509\n",
      "Low_No        509\n",
      "Medium_Yes    509\n",
      "Medium_No     509\n",
      "High_Yes      304\n",
      "Low_Yes       188\n",
      "Name: count, dtype: int64\n"
     ]
    }
   ],
   "source": [
    "# Training Data (CC undersampling)===Testing Data (CC undersampling)\n",
    "train_df = pd.read_csv(\".././Training-Testing Dataset/Training Data (RWS Oversampling).csv\")\n",
    "test_df = pd.read_csv(\".././Training-Testing Dataset/Testing Data CC undersampling.csv\")\n",
    "# test_df = pd.read_csv(\".././Training-Testing Dataset/Testing Data (CC undersampling).csv\")\n",
    "\n",
    "X_train = train_df.drop(columns=[\"target\"])\n",
    "Y_train = train_df[\"target\"]\n",
    "X_test = test_df.drop(columns=[\"target\"])\n",
    "Y_test = test_df[\"target\"]\n",
    "\n",
    "\n",
    "print(Y_train.value_counts())\n",
    "print(Y_test.value_counts())\n"
   ]
  },
  {
   "cell_type": "code",
   "execution_count": 9,
   "id": "9d5a109f",
   "metadata": {},
   "outputs": [],
   "source": [
    "categorical_features = [col for col in X_train.columns if X_train[col].dtype == 'object' or X_train[col].dtype == 'category']\n",
    "\n",
    "for col in categorical_features:\n",
    "    X_train[col] = X_train[col].astype(str)\n",
    "\n",
    "    X_test[col] = X_test[col].astype(str)\n",
    "\n",
    "# Y_train[\"target\"] = Y_train[\"target\"].astype(str)\n",
    "# Y_test[\"target\"] = Y_test[\"target\"].astype(str)\n",
    "\n",
    "train_pool = Pool(X_train,Y_train,cat_features=categorical_features)\n",
    "test_pool = Pool(X_test,Y_test,cat_features=categorical_features)"
   ]
  },
  {
   "cell_type": "code",
   "execution_count": 10,
   "id": "54fd086e",
   "metadata": {},
   "outputs": [
    {
     "name": "stdout",
     "output_type": "stream",
     "text": [
      "0:\tlearn: 0.5070867\ttest: 0.3939873\tbest: 0.3939873 (0)\ttotal: 2.45s\tremaining: 1h 21m 38s\n",
      "100:\tlearn: 0.7185367\ttest: 0.5292722\tbest: 0.5308544 (91)\ttotal: 2m 32s\tremaining: 47m 53s\n",
      "200:\tlearn: 0.7390546\ttest: 0.5371835\tbest: 0.5399525 (181)\ttotal: 4m 55s\tremaining: 44m 8s\n",
      "300:\tlearn: 0.7968982\ttest: 0.5814873\tbest: 0.5838608 (298)\ttotal: 8m 30s\tremaining: 48m 1s\n",
      "400:\tlearn: 0.8384535\ttest: 0.6068038\tbest: 0.6068038 (400)\ttotal: 11m 25s\tremaining: 45m 31s\n",
      "500:\tlearn: 0.8675423\ttest: 0.6230222\tbest: 0.6230222 (498)\ttotal: 15m 2s\tremaining: 45m 1s\n",
      "600:\tlearn: 0.8882829\ttest: 0.6309335\tbest: 0.6313291 (595)\ttotal: 18m 4s\tremaining: 42m 3s\n",
      "700:\tlearn: 0.9019368\ttest: 0.6337025\tbest: 0.6340981 (699)\ttotal: 21m 10s\tremaining: 39m 13s\n",
      "800:\tlearn: 0.9144405\ttest: 0.6344937\tbest: 0.6364715 (768)\ttotal: 24m 24s\tremaining: 36m 32s\n",
      "Stopped by overfitting detector  (100 iterations wait)\n",
      "\n",
      "bestTest = 0.636471519\n",
      "bestIteration = 768\n",
      "\n",
      "Shrink model to first 769 iterations.\n",
      "Accuracy rate  63.64715189873418\n"
     ]
    }
   ],
   "source": [
    "model = CatBoostClassifier(\n",
    "    iterations=2000,\n",
    "    depth=12,\n",
    "    learning_rate=0.05,\n",
    "    l2_leaf_reg=5,\n",
    "    loss_function=\"MultiClass\",\n",
    "    eval_metric=\"Accuracy\",\n",
    "    early_stopping_rounds=100,\n",
    "    verbose=100,\n",
    "    random_state=42\n",
    ")\n",
    "\n",
    "model.fit(train_pool,eval_set=test_pool)\n",
    "\n",
    "y_pred = model.predict(X_test)\n",
    "\n",
    "print(\"Accuracy rate \", accuracy_score(Y_test,y_pred)*100)"
   ]
  },
  {
   "cell_type": "code",
   "execution_count": 12,
   "id": "67c4d583",
   "metadata": {},
   "outputs": [],
   "source": [
    "model.save_model(\"catboost_marriage_model.cbm\")"
   ]
  },
  {
   "cell_type": "code",
   "execution_count": 9,
   "id": "3b159639",
   "metadata": {},
   "outputs": [],
   "source": [
    "test_df_cc = pd.read_csv(\".././Training-Testing Dataset/Testing data Undersampled(All).csv\")\n",
    "\n",
    "X_test_cc = train_df.drop(columns=[\"target\"])\n",
    "Y_test_cc = train_df[\"target\"]\n",
    "\n",
    "\n",
    "for col in categorical_features:\n",
    "    X_test_cc[col] = X_test_cc[col].astype(str)\n",
    "\n",
    "test_pool = Pool(X_test_cc,Y_test_cc,cat_features=categorical_features)"
   ]
  },
  {
   "cell_type": "code",
   "execution_count": 10,
   "id": "c9707318",
   "metadata": {},
   "outputs": [
    {
     "name": "stdout",
     "output_type": "stream",
     "text": [
      "Accuracy rate  76.34683882457702\n"
     ]
    }
   ],
   "source": [
    "y_pred = model.predict(X_test_cc)\n",
    "\n",
    "print(\"Accuracy rate \", accuracy_score(Y_test_cc,y_pred)*100)"
   ]
  },
  {
   "cell_type": "code",
   "execution_count": 11,
   "id": "2e94e5a9",
   "metadata": {},
   "outputs": [
    {
     "name": "stdout",
     "output_type": "stream",
     "text": [
      "Accuracy rate  76.34683882457702\n"
     ]
    }
   ],
   "source": [
    "test_df_cc = pd.read_csv(\".././Training-Testing Dataset/Testing Data CC undersampling.csv\")\n",
    "\n",
    "X_test_cc = train_df.drop(columns=[\"target\"])\n",
    "Y_test_cc = train_df[\"target\"]\n",
    "\n",
    "\n",
    "for col in categorical_features:\n",
    "    X_test_cc[col] = X_test_cc[col].astype(str)\n",
    "\n",
    "test_pool = Pool(X_test_cc,Y_test_cc,cat_features=categorical_features)\n",
    "\n",
    "y_pred = model.predict(X_test_cc)\n",
    "\n",
    "print(\"Accuracy rate \", accuracy_score(Y_test_cc,y_pred)*100)"
   ]
  },
  {
   "cell_type": "code",
   "execution_count": 13,
   "id": "2bc0ece0",
   "metadata": {},
   "outputs": [
    {
     "name": "stdout",
     "output_type": "stream",
     "text": [
      "Accuracy rate  80.31914893617021\n"
     ]
    }
   ],
   "source": [
    "model = CatBoostClassifier()\n",
    "model = model.load_model(\"catboost_marriage_model.cbm\")\n",
    "test_df_cc = pd.read_csv(\".././Training-Testing Dataset/Testing data Undersampled(All).csv\")\n",
    "\n",
    "X_test_cc = test_df_cc.drop(columns=[\"target\"])\n",
    "Y_test_cc = test_df_cc[\"target\"]\n",
    "\n",
    "\n",
    "for col in categorical_features:\n",
    "    X_test_cc[col] = X_test_cc[col].astype(str)\n",
    "\n",
    "test_pool = Pool(X_test_cc,Y_test_cc,cat_features=categorical_features)\n",
    "\n",
    "y_pred = model.predict(X_test_cc)\n",
    "\n",
    "print(\"Accuracy rate \", accuracy_score(Y_test_cc,y_pred)*100)"
   ]
  }
 ],
 "metadata": {
  "kernelspec": {
   "display_name": "Python 3",
   "language": "python",
   "name": "python3"
  },
  "language_info": {
   "codemirror_mode": {
    "name": "ipython",
    "version": 3
   },
   "file_extension": ".py",
   "mimetype": "text/x-python",
   "name": "python",
   "nbconvert_exporter": "python",
   "pygments_lexer": "ipython3",
   "version": "3.12.6"
  }
 },
 "nbformat": 4,
 "nbformat_minor": 5
}
