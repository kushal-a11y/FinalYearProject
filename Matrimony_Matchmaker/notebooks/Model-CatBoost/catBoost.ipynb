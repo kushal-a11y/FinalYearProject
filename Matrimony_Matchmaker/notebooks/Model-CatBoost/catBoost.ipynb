{
 "cells": [
  {
   "cell_type": "code",
   "execution_count": 60,
   "id": "f5611c6a",
   "metadata": {},
   "outputs": [],
   "source": [
    "# If you ae new to go last cell"
   ]
  },
  {
   "cell_type": "code",
   "execution_count": 2,
   "id": "2d8186a9",
   "metadata": {},
   "outputs": [],
   "source": [
    "from catboost import CatBoostClassifier, Pool\n",
    "import pandas as pd\n",
    "# from sklearn.model_selection import train_test_split\n",
    "from sklearn.metrics import accuracy_score, classification_report\n",
    "import matplotlib.pyplot as plt"
   ]
  },
  {
   "cell_type": "code",
   "execution_count": 7,
   "id": "24b9997d",
   "metadata": {},
   "outputs": [
    {
     "name": "stdout",
     "output_type": "stream",
     "text": [
      "target\n",
      "Medium_Yes    4492\n",
      "Low_No        4492\n",
      "Medium_No     4492\n",
      "High_No       4492\n",
      "Low_Yes       4492\n",
      "High_Yes      4492\n",
      "Name: count, dtype: int64\n",
      "target\n",
      "High_No       509\n",
      "Low_No        509\n",
      "Medium_Yes    509\n",
      "Medium_No     509\n",
      "High_Yes      304\n",
      "Low_Yes       188\n",
      "Name: count, dtype: int64\n"
     ]
    }
   ],
   "source": [
    "# Training Data (CC undersampling)===Testing Data (CC undersampling)\n",
    "train_df = pd.read_csv(\".././Training-Testing Dataset/Training Data (RWS Oversampling).csv\")\n",
    "test_df = pd.read_csv(\".././Training-Testing Dataset/Testing Data CC undersampling.csv\")\n",
    "# test_df = pd.read_csv(\".././Training-Testing Dataset/Testing Data (CC undersampling).csv\")\n",
    "\n",
    "X_train = train_df.drop(columns=[\"target\"])\n",
    "Y_train = train_df[\"target\"]\n",
    "X_test = test_df.drop(columns=[\"target\"])\n",
    "Y_test = test_df[\"target\"]\n",
    "\n",
    "\n",
    "print(Y_train.value_counts())\n",
    "print(Y_test.value_counts())\n"
   ]
  },
  {
   "cell_type": "code",
   "execution_count": 8,
   "id": "9d5a109f",
   "metadata": {},
   "outputs": [],
   "source": [
    "categorical_features = [col for col in X_train.columns if X_train[col].dtype == 'object' or X_train[col].dtype == 'category']\n",
    "\n",
    "for col in categorical_features:\n",
    "    X_train[col] = X_train[col].astype(str)\n",
    "\n",
    "    X_test[col] = X_test[col].astype(str)\n",
    "\n",
    "# Y_train[\"target\"] = Y_train[\"target\"].astype(str)\n",
    "# Y_test[\"target\"] = Y_test[\"target\"].astype(str)\n",
    "\n",
    "train_pool = Pool(X_train,Y_train,cat_features=categorical_features)\n",
    "test_pool = Pool(X_test,Y_test,cat_features=categorical_features)"
   ]
  },
  {
   "cell_type": "code",
   "execution_count": 52,
   "id": "54fd086e",
   "metadata": {},
   "outputs": [
    {
     "name": "stdout",
     "output_type": "stream",
     "text": [
      "0:\tlearn: 0.2793114\ttest: 0.2274525\tbest: 0.2274525 (0)\ttotal: 395ms\tremaining: 13m 10s\n",
      "100:\tlearn: 0.4777011\ttest: 0.3599684\tbest: 0.3635285 (68)\ttotal: 31.3s\tremaining: 9m 48s\n",
      "200:\tlearn: 0.5123553\ttest: 0.3888449\tbest: 0.3896361 (198)\ttotal: 1m\tremaining: 9m\n",
      "300:\tlearn: 0.6227738\ttest: 0.4924842\tbest: 0.4924842 (300)\ttotal: 1m 38s\tremaining: 9m 15s\n",
      "400:\tlearn: 0.6758682\ttest: 0.5383703\tbest: 0.5383703 (395)\ttotal: 2m 8s\tremaining: 8m 31s\n",
      "500:\tlearn: 0.7040665\ttest: 0.5581487\tbest: 0.5601266 (485)\ttotal: 2m 37s\tremaining: 7m 52s\n",
      "600:\tlearn: 0.7294078\ttest: 0.5771361\tbest: 0.5783228 (583)\ttotal: 3m 8s\tremaining: 7m 18s\n",
      "700:\tlearn: 0.7492950\ttest: 0.5925633\tbest: 0.5941456 (691)\ttotal: 3m 38s\tremaining: 6m 45s\n",
      "800:\tlearn: 0.7679207\ttest: 0.6071994\tbest: 0.6075949 (789)\ttotal: 4m 9s\tremaining: 6m 13s\n",
      "900:\tlearn: 0.7824280\ttest: 0.6166930\tbest: 0.6178797 (894)\ttotal: 4m 46s\tremaining: 5m 50s\n",
      "1000:\tlearn: 0.7950059\ttest: 0.6238133\tbest: 0.6250000 (983)\ttotal: 5m 22s\tremaining: 5m 21s\n",
      "1100:\tlearn: 0.8050237\ttest: 0.6317247\tbest: 0.6321203 (1097)\ttotal: 6m 40s\tremaining: 5m 27s\n",
      "1200:\tlearn: 0.8166370\ttest: 0.6368671\tbest: 0.6384494 (1196)\ttotal: 7m 16s\tremaining: 4m 50s\n",
      "1300:\tlearn: 0.8252820\ttest: 0.6475475\tbest: 0.6475475 (1293)\ttotal: 7m 47s\tremaining: 4m 10s\n",
      "Stopped by overfitting detector  (100 iterations wait)\n",
      "\n",
      "bestTest = 0.6475474684\n",
      "bestIteration = 1293\n",
      "\n",
      "Shrink model to first 1294 iterations.\n",
      "Accuracy rate  64.75474683544303\n"
     ]
    }
   ],
   "source": [
    "model = CatBoostClassifier(\n",
    "    iterations=2000,\n",
    "    depth=8,\n",
    "    learning_rate=0.05,\n",
    "    l2_leaf_reg=5,\n",
    "    loss_function=\"MultiClass\",\n",
    "    eval_metric=\"Accuracy\",\n",
    "    early_stopping_rounds=100,\n",
    "    verbose=100,\n",
    "    random_state=42\n",
    ")\n",
    "\n",
    "model.fit(train_pool,eval_set=test_pool)\n",
    "\n",
    "y_pred = model.predict(X_test)\n",
    "\n",
    "print(\"Accuracy rate \", accuracy_score(Y_test,y_pred)*100)"
   ]
  },
  {
   "cell_type": "code",
   "execution_count": 53,
   "id": "67c4d583",
   "metadata": {},
   "outputs": [],
   "source": [
    "model.save_model(\"catboost_marriage_model.cbm\")"
   ]
  },
  {
   "cell_type": "code",
   "execution_count": 9,
   "id": "3b159639",
   "metadata": {},
   "outputs": [],
   "source": [
    "test_df_cc = pd.read_csv(\".././Training-Testing Dataset/Testing data Undersampled(All).csv\")\n",
    "\n",
    "X_test_cc = train_df.drop(columns=[\"target\"])\n",
    "Y_test_cc = train_df[\"target\"]\n",
    "\n",
    "\n",
    "for col in categorical_features:\n",
    "    X_test_cc[col] = X_test_cc[col].astype(str)\n",
    "\n",
    "test_pool = Pool(X_test_cc,Y_test_cc,cat_features=categorical_features)"
   ]
  },
  {
   "cell_type": "code",
   "execution_count": 10,
   "id": "c9707318",
   "metadata": {},
   "outputs": [
    {
     "name": "stdout",
     "output_type": "stream",
     "text": [
      "Accuracy rate  76.34683882457702\n"
     ]
    }
   ],
   "source": [
    "y_pred = model.predict(X_test_cc)\n",
    "\n",
    "print(\"Accuracy rate \", accuracy_score(Y_test_cc,y_pred)*100)"
   ]
  },
  {
   "cell_type": "code",
   "execution_count": 11,
   "id": "2e94e5a9",
   "metadata": {},
   "outputs": [
    {
     "name": "stdout",
     "output_type": "stream",
     "text": [
      "Accuracy rate  76.34683882457702\n"
     ]
    }
   ],
   "source": [
    "test_df_cc = pd.read_csv(\".././Training-Testing Dataset/Testing Data CC undersampling.csv\")\n",
    "\n",
    "X_test_cc = train_df.drop(columns=[\"target\"])\n",
    "Y_test_cc = train_df[\"target\"]\n",
    "\n",
    "\n",
    "for col in categorical_features:\n",
    "    X_test_cc[col] = X_test_cc[col].astype(str)\n",
    "\n",
    "test_pool = Pool(X_test_cc,Y_test_cc,cat_features=categorical_features)\n",
    "\n",
    "y_pred = model.predict(X_test_cc)\n",
    "\n",
    "print(\"Accuracy rate \", accuracy_score(Y_test_cc,y_pred)*100)"
   ]
  },
  {
   "cell_type": "code",
   "execution_count": 15,
   "id": "2bc0ece0",
   "metadata": {},
   "outputs": [
    {
     "name": "stdout",
     "output_type": "stream",
     "text": [
      "Accuracy rate  73.04964539007092\n"
     ]
    }
   ],
   "source": [
    "model = CatBoostClassifier()\n",
    "model = model.load_model(\"catboost_marriage_model.cbm\")\n",
    "test_df_cc = pd.read_csv(\".././Training-Testing Dataset/Testing data Undersampled(All).csv\")\n",
    "\n",
    "X_test_cc = test_df_cc.drop(columns=[\"target\"])\n",
    "Y_test_cc = test_df_cc[\"target\"]\n",
    "\n",
    "\n",
    "for col in categorical_features:\n",
    "    X_test_cc[col] = X_test_cc[col].astype(str)\n",
    "\n",
    "test_pool = Pool(X_test_cc,Y_test_cc,cat_features=categorical_features)\n",
    "\n",
    "y_pred = model.predict(X_test_cc)\n",
    "\n",
    "print(\"Accuracy rate \", accuracy_score(Y_test_cc,y_pred)*100)"
   ]
  }
 ],
 "metadata": {
  "kernelspec": {
   "display_name": "Python 3",
   "language": "python",
   "name": "python3"
  },
  "language_info": {
   "codemirror_mode": {
    "name": "ipython",
    "version": 3
   },
   "file_extension": ".py",
   "mimetype": "text/x-python",
   "name": "python",
   "nbconvert_exporter": "python",
   "pygments_lexer": "ipython3",
   "version": "3.12.6"
  }
 },
 "nbformat": 4,
 "nbformat_minor": 5
}
